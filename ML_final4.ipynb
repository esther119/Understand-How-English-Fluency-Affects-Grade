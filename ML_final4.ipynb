{
 "cells": [
  {
   "cell_type": "code",
   "execution_count": 1,
   "metadata": {},
   "outputs": [],
   "source": [
    "import numpy as np\n",
    "import pandas as pd\n",
    "import sklearn\n",
    "import seaborn as sns\n",
    "import matplotlib.pyplot as plt"
   ]
  },
  {
   "cell_type": "code",
   "execution_count": 2,
   "metadata": {},
   "outputs": [],
   "source": [
    "df = pd.read_csv('processed_response.zip')\n"
   ]
  },
  {
   "cell_type": "code",
   "execution_count": 3,
   "metadata": {},
   "outputs": [
    {
     "data": {
      "text/html": [
       "<div>\n",
       "<style scoped>\n",
       "    .dataframe tbody tr th:only-of-type {\n",
       "        vertical-align: middle;\n",
       "    }\n",
       "\n",
       "    .dataframe tbody tr th {\n",
       "        vertical-align: top;\n",
       "    }\n",
       "\n",
       "    .dataframe thead th {\n",
       "        text-align: right;\n",
       "    }\n",
       "</style>\n",
       "<table border=\"1\" class=\"dataframe\">\n",
       "  <thead>\n",
       "    <tr style=\"text-align: right;\">\n",
       "      <th></th>\n",
       "      <th>Polls ID</th>\n",
       "      <th>Assessment reports Student ID</th>\n",
       "      <th>Poll Responses Response</th>\n",
       "      <th>Assessment reports Hashtag</th>\n",
       "      <th>Assessment reports Score</th>\n",
       "      <th>time_stamp</th>\n",
       "      <th>tokenized_responses</th>\n",
       "      <th>stemmed_responses</th>\n",
       "      <th>clean_responses</th>\n",
       "      <th>string</th>\n",
       "    </tr>\n",
       "  </thead>\n",
       "  <tbody>\n",
       "    <tr>\n",
       "      <th>0</th>\n",
       "      <td>12522.0</td>\n",
       "      <td>41.0</td>\n",
       "      <td>The strengths of Plato's approach is his const...</td>\n",
       "      <td>#objectivemorality</td>\n",
       "      <td>2.0</td>\n",
       "      <td>1</td>\n",
       "      <td>['The', 'strengths', 'of', \"Plato's\", 'approac...</td>\n",
       "      <td>['the', 'strength', 'of', 'plato', 'approach',...</td>\n",
       "      <td>['strength', 'plato', 'approach', 'construct',...</td>\n",
       "      <td>strength plato approach construct whole framew...</td>\n",
       "    </tr>\n",
       "    <tr>\n",
       "      <th>1</th>\n",
       "      <td>12522.0</td>\n",
       "      <td>335.0</td>\n",
       "      <td>In the breakout we discussed if outside the ca...</td>\n",
       "      <td>#objectivemorality</td>\n",
       "      <td>3.0</td>\n",
       "      <td>1</td>\n",
       "      <td>['In', 'the', 'breakout', 'we', 'discussed', '...</td>\n",
       "      <td>['in', 'the', 'breakout', 'we', 'discuss', 'if...</td>\n",
       "      <td>['breakout', 'discuss', 'outsid', 'cave', 'mig...</td>\n",
       "      <td>breakout discuss outsid cave might bigger cave...</td>\n",
       "    </tr>\n",
       "    <tr>\n",
       "      <th>2</th>\n",
       "      <td>12522.0</td>\n",
       "      <td>333.0</td>\n",
       "      <td>I think he's good at reasoning, but he has thi...</td>\n",
       "      <td>#deductivearg</td>\n",
       "      <td>2.0</td>\n",
       "      <td>1</td>\n",
       "      <td>['I', 'think', \"he's\", 'good', 'at', 'reasonin...</td>\n",
       "      <td>['i', 'think', 'he', 'good', 'at', 'reason', '...</td>\n",
       "      <td>['think', 'good', 'reason', 'circular', 'way',...</td>\n",
       "      <td>think good reason circular way prove point onl...</td>\n",
       "    </tr>\n",
       "    <tr>\n",
       "      <th>3</th>\n",
       "      <td>12522.0</td>\n",
       "      <td>318.0</td>\n",
       "      <td>Back to cmmon confusion time: the section 'und...</td>\n",
       "      <td>#objectivemorality</td>\n",
       "      <td>2.0</td>\n",
       "      <td>1</td>\n",
       "      <td>['Back', 'to', 'cmmon', 'confusion', 'time', '...</td>\n",
       "      <td>['back', 'to', 'cmmon', 'confus', 'time', 'the...</td>\n",
       "      <td>['back', 'cmmon', 'confus', 'time', 'section',...</td>\n",
       "      <td>back cmmon confus time section understand inte...</td>\n",
       "    </tr>\n",
       "    <tr>\n",
       "      <th>4</th>\n",
       "      <td>12522.0</td>\n",
       "      <td>315.0</td>\n",
       "      <td>Most difficult weakness is that his position w...</td>\n",
       "      <td>#objectivemorality</td>\n",
       "      <td>2.0</td>\n",
       "      <td>1</td>\n",
       "      <td>['Most', 'difficult', 'weakness', 'is', 'that'...</td>\n",
       "      <td>['most', 'difficult', 'weak', 'is', 'that', 'h...</td>\n",
       "      <td>['difficult', 'weak', 'posit', 'understand', '...</td>\n",
       "      <td>difficult weak posit understand testabl like i...</td>\n",
       "    </tr>\n",
       "    <tr>\n",
       "      <th>...</th>\n",
       "      <td>...</td>\n",
       "      <td>...</td>\n",
       "      <td>...</td>\n",
       "      <td>...</td>\n",
       "      <td>...</td>\n",
       "      <td>...</td>\n",
       "      <td>...</td>\n",
       "      <td>...</td>\n",
       "      <td>...</td>\n",
       "      <td>...</td>\n",
       "    </tr>\n",
       "    <tr>\n",
       "      <th>191011</th>\n",
       "      <td>322265.0</td>\n",
       "      <td>1120.0</td>\n",
       "      <td>Definiteness</td>\n",
       "      <td>#algorithmicstrategies</td>\n",
       "      <td>1.0</td>\n",
       "      <td>15539</td>\n",
       "      <td>['Definiteness']</td>\n",
       "      <td>['definit']</td>\n",
       "      <td>['definit']</td>\n",
       "      <td>definit</td>\n",
       "    </tr>\n",
       "    <tr>\n",
       "      <th>191012</th>\n",
       "      <td>322265.0</td>\n",
       "      <td>1121.0</td>\n",
       "      <td>I think important propoerties of algorithms in...</td>\n",
       "      <td>#algorithmicstrategies</td>\n",
       "      <td>3.0</td>\n",
       "      <td>15539</td>\n",
       "      <td>['I', 'think', 'important', 'propoerties', 'of...</td>\n",
       "      <td>['i', 'think', 'import', 'propoerti', 'of', 'a...</td>\n",
       "      <td>['think', 'import', 'propoerti', 'algorithm', ...</td>\n",
       "      <td>think import propoerti algorithm inclid defin ...</td>\n",
       "    </tr>\n",
       "    <tr>\n",
       "      <th>191013</th>\n",
       "      <td>322265.0</td>\n",
       "      <td>1126.0</td>\n",
       "      <td>This is maybe not an additional property, but ...</td>\n",
       "      <td>#algorithmicstrategies</td>\n",
       "      <td>3.0</td>\n",
       "      <td>15539</td>\n",
       "      <td>['This', 'is', 'maybe', 'not', 'an', 'addition...</td>\n",
       "      <td>['this', 'is', 'mayb', 'not', 'an', 'addit', '...</td>\n",
       "      <td>['mayb', 'addit', 'properti', 'characterist', ...</td>\n",
       "      <td>mayb addit properti characterist good algorith...</td>\n",
       "    </tr>\n",
       "    <tr>\n",
       "      <th>191014</th>\n",
       "      <td>322265.0</td>\n",
       "      <td>719.0</td>\n",
       "      <td>comprehensibility.  This is related to efficie...</td>\n",
       "      <td>#algorithmicstrategies</td>\n",
       "      <td>3.0</td>\n",
       "      <td>15539</td>\n",
       "      <td>['comprehensibility', 'This', 'is', 'related',...</td>\n",
       "      <td>['comprehens', 'this', 'is', 'relat', 'to', 'e...</td>\n",
       "      <td>['comprehens', 'relat', 'effici', 'demand', 'd...</td>\n",
       "      <td>comprehens relat effici demand degre concis cl...</td>\n",
       "    </tr>\n",
       "    <tr>\n",
       "      <th>191015</th>\n",
       "      <td>322265.0</td>\n",
       "      <td>9357.0</td>\n",
       "      <td>Adaptability: I'm not sure if it's actually ap...</td>\n",
       "      <td>#algorithmicstrategies</td>\n",
       "      <td>3.0</td>\n",
       "      <td>15539</td>\n",
       "      <td>['Adaptability', \"I'm\", 'not', 'sure', 'if', \"...</td>\n",
       "      <td>['adapt', \"i'm\", 'not', 'sure', 'if', 'it', 'a...</td>\n",
       "      <td>['adapt', \"i'm\", 'sure', 'actual', 'applic', '...</td>\n",
       "      <td>adapt i'm sure actual applic algorithm howev t...</td>\n",
       "    </tr>\n",
       "  </tbody>\n",
       "</table>\n",
       "<p>191016 rows × 10 columns</p>\n",
       "</div>"
      ],
      "text/plain": [
       "        Polls ID  Assessment reports Student ID  \\\n",
       "0        12522.0                           41.0   \n",
       "1        12522.0                          335.0   \n",
       "2        12522.0                          333.0   \n",
       "3        12522.0                          318.0   \n",
       "4        12522.0                          315.0   \n",
       "...          ...                            ...   \n",
       "191011  322265.0                         1120.0   \n",
       "191012  322265.0                         1121.0   \n",
       "191013  322265.0                         1126.0   \n",
       "191014  322265.0                          719.0   \n",
       "191015  322265.0                         9357.0   \n",
       "\n",
       "                                  Poll Responses Response  \\\n",
       "0       The strengths of Plato's approach is his const...   \n",
       "1       In the breakout we discussed if outside the ca...   \n",
       "2       I think he's good at reasoning, but he has thi...   \n",
       "3       Back to cmmon confusion time: the section 'und...   \n",
       "4       Most difficult weakness is that his position w...   \n",
       "...                                                   ...   \n",
       "191011                                       Definiteness   \n",
       "191012  I think important propoerties of algorithms in...   \n",
       "191013  This is maybe not an additional property, but ...   \n",
       "191014  comprehensibility.  This is related to efficie...   \n",
       "191015  Adaptability: I'm not sure if it's actually ap...   \n",
       "\n",
       "       Assessment reports Hashtag  Assessment reports Score  time_stamp  \\\n",
       "0              #objectivemorality                       2.0           1   \n",
       "1              #objectivemorality                       3.0           1   \n",
       "2                   #deductivearg                       2.0           1   \n",
       "3              #objectivemorality                       2.0           1   \n",
       "4              #objectivemorality                       2.0           1   \n",
       "...                           ...                       ...         ...   \n",
       "191011     #algorithmicstrategies                       1.0       15539   \n",
       "191012     #algorithmicstrategies                       3.0       15539   \n",
       "191013     #algorithmicstrategies                       3.0       15539   \n",
       "191014     #algorithmicstrategies                       3.0       15539   \n",
       "191015     #algorithmicstrategies                       3.0       15539   \n",
       "\n",
       "                                      tokenized_responses  \\\n",
       "0       ['The', 'strengths', 'of', \"Plato's\", 'approac...   \n",
       "1       ['In', 'the', 'breakout', 'we', 'discussed', '...   \n",
       "2       ['I', 'think', \"he's\", 'good', 'at', 'reasonin...   \n",
       "3       ['Back', 'to', 'cmmon', 'confusion', 'time', '...   \n",
       "4       ['Most', 'difficult', 'weakness', 'is', 'that'...   \n",
       "...                                                   ...   \n",
       "191011                                   ['Definiteness']   \n",
       "191012  ['I', 'think', 'important', 'propoerties', 'of...   \n",
       "191013  ['This', 'is', 'maybe', 'not', 'an', 'addition...   \n",
       "191014  ['comprehensibility', 'This', 'is', 'related',...   \n",
       "191015  ['Adaptability', \"I'm\", 'not', 'sure', 'if', \"...   \n",
       "\n",
       "                                        stemmed_responses  \\\n",
       "0       ['the', 'strength', 'of', 'plato', 'approach',...   \n",
       "1       ['in', 'the', 'breakout', 'we', 'discuss', 'if...   \n",
       "2       ['i', 'think', 'he', 'good', 'at', 'reason', '...   \n",
       "3       ['back', 'to', 'cmmon', 'confus', 'time', 'the...   \n",
       "4       ['most', 'difficult', 'weak', 'is', 'that', 'h...   \n",
       "...                                                   ...   \n",
       "191011                                        ['definit']   \n",
       "191012  ['i', 'think', 'import', 'propoerti', 'of', 'a...   \n",
       "191013  ['this', 'is', 'mayb', 'not', 'an', 'addit', '...   \n",
       "191014  ['comprehens', 'this', 'is', 'relat', 'to', 'e...   \n",
       "191015  ['adapt', \"i'm\", 'not', 'sure', 'if', 'it', 'a...   \n",
       "\n",
       "                                          clean_responses  \\\n",
       "0       ['strength', 'plato', 'approach', 'construct',...   \n",
       "1       ['breakout', 'discuss', 'outsid', 'cave', 'mig...   \n",
       "2       ['think', 'good', 'reason', 'circular', 'way',...   \n",
       "3       ['back', 'cmmon', 'confus', 'time', 'section',...   \n",
       "4       ['difficult', 'weak', 'posit', 'understand', '...   \n",
       "...                                                   ...   \n",
       "191011                                        ['definit']   \n",
       "191012  ['think', 'import', 'propoerti', 'algorithm', ...   \n",
       "191013  ['mayb', 'addit', 'properti', 'characterist', ...   \n",
       "191014  ['comprehens', 'relat', 'effici', 'demand', 'd...   \n",
       "191015  ['adapt', \"i'm\", 'sure', 'actual', 'applic', '...   \n",
       "\n",
       "                                                   string  \n",
       "0       strength plato approach construct whole framew...  \n",
       "1       breakout discuss outsid cave might bigger cave...  \n",
       "2       think good reason circular way prove point onl...  \n",
       "3       back cmmon confus time section understand inte...  \n",
       "4       difficult weak posit understand testabl like i...  \n",
       "...                                                   ...  \n",
       "191011                                            definit  \n",
       "191012  think import propoerti algorithm inclid defin ...  \n",
       "191013  mayb addit properti characterist good algorith...  \n",
       "191014  comprehens relat effici demand degre concis cl...  \n",
       "191015  adapt i'm sure actual applic algorithm howev t...  \n",
       "\n",
       "[191016 rows x 10 columns]"
      ]
     },
     "execution_count": 3,
     "metadata": {},
     "output_type": "execute_result"
    }
   ],
   "source": [
    "df"
   ]
  },
  {
   "cell_type": "code",
   "execution_count": 4,
   "metadata": {},
   "outputs": [],
   "source": [
    "df['string'] = df['string'].values.astype('U')"
   ]
  },
  {
   "cell_type": "markdown",
   "metadata": {},
   "source": [
    "## Transform dataframe into tfidf "
   ]
  },
  {
   "cell_type": "code",
   "execution_count": 5,
   "metadata": {},
   "outputs": [
    {
     "data": {
      "text/plain": [
       "<191016x81542 sparse matrix of type '<class 'numpy.float64'>'\n",
       "\twith 6311506 stored elements in Compressed Sparse Row format>"
      ]
     },
     "execution_count": 5,
     "metadata": {},
     "output_type": "execute_result"
    }
   ],
   "source": [
    "from sklearn.feature_extraction.text import TfidfVectorizer\n",
    "\n",
    "tfidf_vector = TfidfVectorizer()\n",
    "tfidf_matrix = tfidf_vector.fit_transform(df['string'])\n",
    "tfidf_matrix"
   ]
  },
  {
   "cell_type": "markdown",
   "metadata": {},
   "source": [
    "## Cluster by K means\n",
    "\n",
    "### 5 clusters"
   ]
  },
  {
   "cell_type": "code",
   "execution_count": 6,
   "metadata": {},
   "outputs": [
    {
     "name": "stdout",
     "output_type": "stream",
     "text": [
      "CPU times: user 3min 56s, sys: 8.07 s, total: 4min 4s\n",
      "Wall time: 35.6 s\n"
     ]
    }
   ],
   "source": [
    "from sklearn.cluster import KMeans\n",
    "\n",
    "num_clusters = 5\n",
    "\n",
    "km = KMeans(n_clusters=num_clusters)\n",
    "\n",
    "%time km.fit(tfidf_matrix)\n",
    "\n",
    "clusters = km.labels_.tolist()\n",
    "\n",
    "df['cluster'] = np.array(clusters)\n",
    "terms = tfidf_vector.get_feature_names_out()"
   ]
  },
  {
   "cell_type": "markdown",
   "metadata": {},
   "source": [
    "# Choose the optimal K"
   ]
  },
  {
   "cell_type": "code",
   "execution_count": 30,
   "metadata": {},
   "outputs": [
    {
     "name": "stderr",
     "output_type": "stream",
     "text": [
      "100%|██████████| 8/8 [06:07<00:00, 45.89s/it]\n"
     ]
    }
   ],
   "source": [
    "from tqdm import tqdm \n",
    "\n",
    "sse = []\n",
    "first_list_k =  list(range(2, 10))\n",
    "for k in tqdm(first_list_k):\n",
    "    km = KMeans(n_clusters=k)\n",
    "    km.fit(tfidf_matrix)\n",
    "    sse.append(km.inertia_)"
   ]
  },
  {
   "cell_type": "code",
   "execution_count": 32,
   "metadata": {},
   "outputs": [
    {
     "name": "stderr",
     "output_type": "stream",
     "text": [
      "100%|██████████| 6/6 [07:48<00:00, 78.13s/it]\n"
     ]
    }
   ],
   "source": [
    "second_list_k =  list(range(10, 16))\n",
    "for k in tqdm(second_list_k):\n",
    "    km = KMeans(n_clusters=k)\n",
    "    km.fit(tfidf_matrix)\n",
    "    sse.append(km.inertia_)"
   ]
  },
  {
   "cell_type": "code",
   "execution_count": 34,
   "metadata": {},
   "outputs": [
    {
     "data": {
      "text/plain": [
       "Text(0.5, 1.0, 'Elbow Method for number of clusters')"
      ]
     },
     "execution_count": 34,
     "metadata": {},
     "output_type": "execute_result"
    },
    {
     "data": {
      "image/png": "[encoded data removed]",
      "text/plain": [
       "<Figure size 432x432 with 1 Axes>"
      ]
     },
     "metadata": {
      "needs_background": "light"
     },
     "output_type": "display_data"
    }
   ],
   "source": [
    "list_k = list(range(2, 16))\n",
    "# Plot sse against k\n",
    "plt.figure(figsize=(6, 6))\n",
    "plt.plot(list_k, sse, '-o')\n",
    "plt.xlabel(r'Number of clusters *k*')\n",
    "plt.ylabel('Sum of squared distance')\n",
    "plt.title('Elbow Method for number of clusters')"
   ]
  },
  {
   "cell_type": "code",
   "execution_count": 10,
   "metadata": {},
   "outputs": [
    {
     "name": "stdout",
     "output_type": "stream",
     "text": [
      "Top terms per cluster:\n",
      "\n",
      "Cluster 0 words: problem, solut, solv, constraint, water, use, rightproblem, subproblem, differ, identifi, state, goal, breakitdown, one, step,\n",
      "Cluster 1 words: use, peopl, think, one, becaus, would, argument, make, differ, exampl, way, like, also, understand, could,\n",
      "Cluster 2 words: poll, complet, student, present, 𝜇_i, faciilit, facia, facial, facialex, facialexpress, facien, facil, facevook, facilat, facili,\n",
      "Cluster 3 words: system, compani, market, level, product, would, differ, countri, becaus, custom, emerg, individu, agent, risk, activ,\n",
      "Cluster 4 words: data, would, variabl, use, model, valu, probabl, number, time, one, becaus, function, sampl, mean, differ,\n",
      "\n",
      "\n"
     ]
    }
   ],
   "source": [
    "print(\"Top terms per cluster:\")\n",
    "print()\n",
    "#sort cluster centers by proximity to centroid\n",
    "order_centroids = km.cluster_centers_.argsort()[:, ::-1] \n",
    "\n",
    "for i in range(num_clusters):\n",
    "    print(\"Cluster %d words:\" % i, end='')\n",
    "    \n",
    "    for ind in order_centroids[i, :15]: #replace 6 with n words per cluster\n",
    "        print(' %s' % terms[ind],end=',')\n",
    "    print() #add whitespace\n",
    "    \n",
    "print()\n",
    "print()"
   ]
  },
  {
   "cell_type": "code",
   "execution_count": 11,
   "metadata": {},
   "outputs": [
    {
     "name": "stderr",
     "output_type": "stream",
     "text": [
      "/Users/swimmingcircle/Library/Python/3.9/lib/python/site-packages/seaborn/_decorators.py:36: FutureWarning: Pass the following variable as a keyword arg: x. From version 0.12, the only valid positional argument will be `data`, and passing other arguments without an explicit keyword will result in an error or misinterpretation.\n",
      "  warnings.warn(\n"
     ]
    },
    {
     "data": {
      "text/plain": [
       "Text(0.5, 1.0, 'Assessment Score Count by Cluster')"
      ]
     },
     "execution_count": 11,
     "metadata": {},
     "output_type": "execute_result"
    },
    {
     "data": {
      "image/png": "[encoded data removed]",
      "text/plain": [
       "<Figure size 432x288 with 1 Axes>"
      ]
     },
     "metadata": {
      "needs_background": "light"
     },
     "output_type": "display_data"
    }
   ],
   "source": [
    "sns.countplot('Assessment reports Score', hue = 'cluster', data = df)\n",
    "plt.title('Assessment Score Count by Cluster')"
   ]
  },
  {
   "cell_type": "markdown",
   "metadata": {},
   "source": [
    "### 10 clusters"
   ]
  },
  {
   "cell_type": "code",
   "execution_count": 12,
   "metadata": {},
   "outputs": [
    {
     "name": "stdout",
     "output_type": "stream",
     "text": [
      "CPU times: user 7min 33s, sys: 15.1 s, total: 7min 48s\n",
      "Wall time: 1min 10s\n"
     ]
    }
   ],
   "source": [
    "km_10 = KMeans(n_clusters=10)\n",
    "\n",
    "%time km_10.fit(tfidf_matrix)\n",
    "\n",
    "clusters10 = km_10.labels_.tolist()\n",
    "\n",
    "df['cluster10'] = np.array(clusters10)\n",
    "terms10 = tfidf_vector.get_feature_names_out()"
   ]
  },
  {
   "cell_type": "code",
   "execution_count": 13,
   "metadata": {},
   "outputs": [
    {
     "name": "stdout",
     "output_type": "stream",
     "text": [
      "Top terms per cluster:\n",
      "\n",
      "Cluster 0 words: distribut, sampl, probabl, normal, mean, score, interv, calcul, would, use, valu, confid, number, trial, size,\n",
      "Cluster 1 words: doc, https, com, googl, edit, document, usp, share, kgi, edu, minerva, spreadsheet, drive, colab, gid,\n",
      "Cluster 2 words: compani, problem, market, product, custom, would, solut, busi, need, cost, risk, activ, use, invest, price,\n",
      "Cluster 3 words: would, valu, use, time, function, becaus, number, one, algorithm, first, vector, node, find, chang, tree,\n",
      "Cluster 4 words: data, variabl, hypothesi, studi, observ, test, use, treatment, would, control, differ, group, one, correl, research,\n",
      "Cluster 5 words: poll, complet, student, present, 𝜇_i, faciilit, facia, facial, facialex, facialexpress, facien, facil, facevook, facilat, facili,\n",
      "Cluster 6 words: argument, thesi, evid, induct, deduct, premis, conclus, use, claim, statement, support, clone, reason, make, valid,\n",
      "Cluster 7 words: model, predict, use, data, paramet, variabl, would, differ, agent, base, test, simul, diseas, one, spread,\n",
      "Cluster 8 words: peopl, think, use, would, one, becaus, differ, make, like, way, also, exampl, understand, could, work,\n",
      "Cluster 9 words: system, emerg, level, complex, agent, interact, properti, individu, predict, differ, behavior, compon, understand, network, analysi,\n",
      "\n",
      "\n"
     ]
    }
   ],
   "source": [
    "print(\"Top terms per cluster:\")\n",
    "print()\n",
    "#sort cluster centers by proximity to centroid\n",
    "order_centroids = km_10.cluster_centers_.argsort()[:, ::-1] \n",
    "\n",
    "for i in range(10):\n",
    "    print(\"Cluster %d words:\" % i, end='')\n",
    "    \n",
    "    for ind in order_centroids[i, :15]: #replace 6 with n words per cluster\n",
    "        print(' %s' % terms10[ind],end=',')\n",
    "    print() #add whitespace\n",
    "    \n",
    "print()\n",
    "print()"
   ]
  },
  {
   "cell_type": "code",
   "execution_count": 14,
   "metadata": {},
   "outputs": [
    {
     "data": {
      "text/plain": [
       "Text(0.5, 1.0, 'Normalized Assessment Score Count by Cluster')"
      ]
     },
     "execution_count": 14,
     "metadata": {},
     "output_type": "execute_result"
    },
    {
     "data": {
      "image/png": "[encoded data removed]",
      "text/plain": [
       "<Figure size 432x288 with 1 Axes>"
      ]
     },
     "metadata": {
      "needs_background": "light"
     },
     "output_type": "display_data"
    }
   ],
   "source": [
    "norm_df = df[\"Assessment reports Score\"].groupby(df[\"cluster\"]).value_counts().rename('count').reset_index()\n",
    "norm_df = norm_df.assign(weight=norm_df['count']/norm_df.groupby('cluster')['count'].transform('sum'))\n",
    "\n",
    "sns.barplot(x=\"Assessment reports Score\", y=\"weight\", hue = 'cluster', data=norm_df)\n",
    "plt.title('Normalized Assessment Score Count by Cluster')"
   ]
  },
  {
   "cell_type": "markdown",
   "metadata": {},
   "source": [
    "- Group 0: quite distributed grades\n",
    "- Group 1: has the most 4s. CS profs gives a lots of 4s(we can test it through LO matches), or maybe writing these words sound smarter. \n",
    "- Group 3: have the most 3s. Business profs usually give 3s. They probably don't know what to grade on? "
   ]
  },
  {
   "cell_type": "code",
   "execution_count": 15,
   "metadata": {},
   "outputs": [
    {
     "name": "stderr",
     "output_type": "stream",
     "text": [
      "/Users/swimmingcircle/Library/Python/3.9/lib/python/site-packages/seaborn/_decorators.py:36: FutureWarning: Pass the following variable as a keyword arg: x. From version 0.12, the only valid positional argument will be `data`, and passing other arguments without an explicit keyword will result in an error or misinterpretation.\n",
      "  warnings.warn(\n"
     ]
    },
    {
     "data": {
      "text/plain": [
       "Text(0.5, 1.0, 'Assessment Score Count by Cluster')"
      ]
     },
     "execution_count": 15,
     "metadata": {},
     "output_type": "execute_result"
    },
    {
     "data": {
      "image/png": "[encoded data removed]",
      "text/plain": [
       "<Figure size 432x288 with 1 Axes>"
      ]
     },
     "metadata": {
      "needs_background": "light"
     },
     "output_type": "display_data"
    }
   ],
   "source": [
    "sns.countplot('Assessment reports Score', hue = 'cluster10', data = df)\n",
    "plt.title('Assessment Score Count by Cluster')"
   ]
  },
  {
   "cell_type": "code",
   "execution_count": 16,
   "metadata": {},
   "outputs": [
    {
     "data": {
      "text/plain": [
       "Text(0.5, 1.0, 'Normalized Assessment Score Count by Cluster')"
      ]
     },
     "execution_count": 16,
     "metadata": {},
     "output_type": "execute_result"
    },
    {
     "data": {
      "image/png": "[encoded data removed]",
      "text/plain": [
       "<Figure size 432x288 with 1 Axes>"
      ]
     },
     "metadata": {
      "needs_background": "light"
     },
     "output_type": "display_data"
    }
   ],
   "source": [
    "norm_df10 = df[\"Assessment reports Score\"].groupby(df[\"cluster10\"]).value_counts().rename('count').reset_index()\n",
    "norm_df10 = norm_df10.assign(weight=norm_df10['count']/norm_df10.groupby('cluster10')['count'].transform('sum'))\n",
    "\n",
    "sns.barplot(x=\"Assessment reports Score\", y=\"weight\", hue = 'cluster10', data=norm_df10)\n",
    "plt.title('Normalized Assessment Score Count by Cluster')"
   ]
  },
  {
   "cell_type": "code",
   "execution_count": 17,
   "metadata": {},
   "outputs": [],
   "source": [
    "from sklearn.decomposition import PCA\n",
    "from sklearn.decomposition import TruncatedSVD\n",
    "\n",
    "labels_color_map = {\n",
    "    0: '#20b2aa', 1: '#ff7373', 2: '#ffe4e1', 3: '#005073', 4: '#4d0404',\n",
    "    5: '#ccc0ba', 6: '#4700f9', 7: '#f6f900', 8: '#00f91d', 9: '#da8c49'\n",
    "}\n",
    "\n",
    "svd = TruncatedSVD(n_components=2)\n",
    "reduced_matrix = svd.fit_transform(tfidf_matrix) \n"
   ]
  },
  {
   "cell_type": "code",
   "execution_count": 18,
   "metadata": {},
   "outputs": [],
   "source": [
    "r_reduced = reduced_matrix[:200]"
   ]
  },
  {
   "cell_type": "code",
   "execution_count": 19,
   "metadata": {},
   "outputs": [
    {
     "data": {
      "text/plain": [
       "(191016, 2)"
      ]
     },
     "execution_count": 19,
     "metadata": {},
     "output_type": "execute_result"
    }
   ],
   "source": [
    "reduced_matrix.shape"
   ]
  },
  {
   "cell_type": "code",
   "execution_count": 20,
   "metadata": {},
   "outputs": [],
   "source": [
    "import random\n",
    "sample_index = random.sample(range(1, reduced_matrix.shape[0]), 500)\n",
    "sample_matrix = reduced_matrix[sample_index]"
   ]
  },
  {
   "cell_type": "code",
   "execution_count": 21,
   "metadata": {},
   "outputs": [
    {
     "data": {
      "image/png": "[encoded data removed]",
      "text/plain": [
       "<Figure size 432x288 with 1 Axes>"
      ]
     },
     "metadata": {
      "needs_background": "light"
     },
     "output_type": "display_data"
    }
   ],
   "source": [
    "fig, ax = plt.subplots()\n",
    "for index, instance in enumerate(sample_matrix):\n",
    "    # print instance, index, labels[index]\n",
    "    pca_comp_1, pca_comp_2 = sample_matrix[index]\n",
    "    color = labels_color_map[clusters[index]]\n",
    "    ax.scatter(pca_comp_1, pca_comp_2, c=color)\n",
    "plt.show()"
   ]
  },
  {
   "cell_type": "code",
   "execution_count": 22,
   "metadata": {},
   "outputs": [],
   "source": [
    "\n",
    "# pca_num_components = 2\n",
    "# reduced_data = PCA(n_components=pca_num_components).fit_transform(tfidf_matrix)"
   ]
  },
  {
   "cell_type": "code",
   "execution_count": 23,
   "metadata": {},
   "outputs": [],
   "source": [
    "# from sklearn.manifold import TSNE\n",
    "\n",
    "# embeddings = TSNE(n_components=2)\n",
    "# Y = embeddings.fit_transform(tfidf_matrix)"
   ]
  },
  {
   "cell_type": "code",
   "execution_count": 24,
   "metadata": {},
   "outputs": [
    {
     "data": {
      "text/html": [
       "<div>\n",
       "<style scoped>\n",
       "    .dataframe tbody tr th:only-of-type {\n",
       "        vertical-align: middle;\n",
       "    }\n",
       "\n",
       "    .dataframe tbody tr th {\n",
       "        vertical-align: top;\n",
       "    }\n",
       "\n",
       "    .dataframe thead th {\n",
       "        text-align: right;\n",
       "    }\n",
       "</style>\n",
       "<table border=\"1\" class=\"dataframe\">\n",
       "  <thead>\n",
       "    <tr style=\"text-align: right;\">\n",
       "      <th></th>\n",
       "      <th>Polls ID</th>\n",
       "      <th>Assessment reports Student ID</th>\n",
       "      <th>Poll Responses Response</th>\n",
       "      <th>Assessment reports Hashtag</th>\n",
       "      <th>Assessment reports Score</th>\n",
       "      <th>time_stamp</th>\n",
       "      <th>tokenized_responses</th>\n",
       "      <th>stemmed_responses</th>\n",
       "      <th>clean_responses</th>\n",
       "      <th>string</th>\n",
       "      <th>cluster</th>\n",
       "      <th>cluster10</th>\n",
       "    </tr>\n",
       "  </thead>\n",
       "  <tbody>\n",
       "    <tr>\n",
       "      <th>0</th>\n",
       "      <td>12522.0</td>\n",
       "      <td>41.0</td>\n",
       "      <td>The strengths of Plato's approach is his const...</td>\n",
       "      <td>#objectivemorality</td>\n",
       "      <td>2.0</td>\n",
       "      <td>1</td>\n",
       "      <td>['The', 'strengths', 'of', \"Plato's\", 'approac...</td>\n",
       "      <td>['the', 'strength', 'of', 'plato', 'approach',...</td>\n",
       "      <td>['strength', 'plato', 'approach', 'construct',...</td>\n",
       "      <td>strength plato approach construct whole framew...</td>\n",
       "      <td>1</td>\n",
       "      <td>8</td>\n",
       "    </tr>\n",
       "    <tr>\n",
       "      <th>1</th>\n",
       "      <td>12522.0</td>\n",
       "      <td>335.0</td>\n",
       "      <td>In the breakout we discussed if outside the ca...</td>\n",
       "      <td>#objectivemorality</td>\n",
       "      <td>3.0</td>\n",
       "      <td>1</td>\n",
       "      <td>['In', 'the', 'breakout', 'we', 'discussed', '...</td>\n",
       "      <td>['in', 'the', 'breakout', 'we', 'discuss', 'if...</td>\n",
       "      <td>['breakout', 'discuss', 'outsid', 'cave', 'mig...</td>\n",
       "      <td>breakout discuss outsid cave might bigger cave...</td>\n",
       "      <td>1</td>\n",
       "      <td>8</td>\n",
       "    </tr>\n",
       "    <tr>\n",
       "      <th>2</th>\n",
       "      <td>12522.0</td>\n",
       "      <td>333.0</td>\n",
       "      <td>I think he's good at reasoning, but he has thi...</td>\n",
       "      <td>#deductivearg</td>\n",
       "      <td>2.0</td>\n",
       "      <td>1</td>\n",
       "      <td>['I', 'think', \"he's\", 'good', 'at', 'reasonin...</td>\n",
       "      <td>['i', 'think', 'he', 'good', 'at', 'reason', '...</td>\n",
       "      <td>['think', 'good', 'reason', 'circular', 'way',...</td>\n",
       "      <td>think good reason circular way prove point onl...</td>\n",
       "      <td>1</td>\n",
       "      <td>8</td>\n",
       "    </tr>\n",
       "    <tr>\n",
       "      <th>3</th>\n",
       "      <td>12522.0</td>\n",
       "      <td>318.0</td>\n",
       "      <td>Back to cmmon confusion time: the section 'und...</td>\n",
       "      <td>#objectivemorality</td>\n",
       "      <td>2.0</td>\n",
       "      <td>1</td>\n",
       "      <td>['Back', 'to', 'cmmon', 'confusion', 'time', '...</td>\n",
       "      <td>['back', 'to', 'cmmon', 'confus', 'time', 'the...</td>\n",
       "      <td>['back', 'cmmon', 'confus', 'time', 'section',...</td>\n",
       "      <td>back cmmon confus time section understand inte...</td>\n",
       "      <td>1</td>\n",
       "      <td>8</td>\n",
       "    </tr>\n",
       "    <tr>\n",
       "      <th>4</th>\n",
       "      <td>12522.0</td>\n",
       "      <td>315.0</td>\n",
       "      <td>Most difficult weakness is that his position w...</td>\n",
       "      <td>#objectivemorality</td>\n",
       "      <td>2.0</td>\n",
       "      <td>1</td>\n",
       "      <td>['Most', 'difficult', 'weakness', 'is', 'that'...</td>\n",
       "      <td>['most', 'difficult', 'weak', 'is', 'that', 'h...</td>\n",
       "      <td>['difficult', 'weak', 'posit', 'understand', '...</td>\n",
       "      <td>difficult weak posit understand testabl like i...</td>\n",
       "      <td>1</td>\n",
       "      <td>8</td>\n",
       "    </tr>\n",
       "    <tr>\n",
       "      <th>...</th>\n",
       "      <td>...</td>\n",
       "      <td>...</td>\n",
       "      <td>...</td>\n",
       "      <td>...</td>\n",
       "      <td>...</td>\n",
       "      <td>...</td>\n",
       "      <td>...</td>\n",
       "      <td>...</td>\n",
       "      <td>...</td>\n",
       "      <td>...</td>\n",
       "      <td>...</td>\n",
       "      <td>...</td>\n",
       "    </tr>\n",
       "    <tr>\n",
       "      <th>191011</th>\n",
       "      <td>322265.0</td>\n",
       "      <td>1120.0</td>\n",
       "      <td>Definiteness</td>\n",
       "      <td>#algorithmicstrategies</td>\n",
       "      <td>1.0</td>\n",
       "      <td>15539</td>\n",
       "      <td>['Definiteness']</td>\n",
       "      <td>['definit']</td>\n",
       "      <td>['definit']</td>\n",
       "      <td>definit</td>\n",
       "      <td>1</td>\n",
       "      <td>3</td>\n",
       "    </tr>\n",
       "    <tr>\n",
       "      <th>191012</th>\n",
       "      <td>322265.0</td>\n",
       "      <td>1121.0</td>\n",
       "      <td>I think important propoerties of algorithms in...</td>\n",
       "      <td>#algorithmicstrategies</td>\n",
       "      <td>3.0</td>\n",
       "      <td>15539</td>\n",
       "      <td>['I', 'think', 'important', 'propoerties', 'of...</td>\n",
       "      <td>['i', 'think', 'import', 'propoerti', 'of', 'a...</td>\n",
       "      <td>['think', 'import', 'propoerti', 'algorithm', ...</td>\n",
       "      <td>think import propoerti algorithm inclid defin ...</td>\n",
       "      <td>4</td>\n",
       "      <td>3</td>\n",
       "    </tr>\n",
       "    <tr>\n",
       "      <th>191013</th>\n",
       "      <td>322265.0</td>\n",
       "      <td>1126.0</td>\n",
       "      <td>This is maybe not an additional property, but ...</td>\n",
       "      <td>#algorithmicstrategies</td>\n",
       "      <td>3.0</td>\n",
       "      <td>15539</td>\n",
       "      <td>['This', 'is', 'maybe', 'not', 'an', 'addition...</td>\n",
       "      <td>['this', 'is', 'mayb', 'not', 'an', 'addit', '...</td>\n",
       "      <td>['mayb', 'addit', 'properti', 'characterist', ...</td>\n",
       "      <td>mayb addit properti characterist good algorith...</td>\n",
       "      <td>1</td>\n",
       "      <td>3</td>\n",
       "    </tr>\n",
       "    <tr>\n",
       "      <th>191014</th>\n",
       "      <td>322265.0</td>\n",
       "      <td>719.0</td>\n",
       "      <td>comprehensibility.  This is related to efficie...</td>\n",
       "      <td>#algorithmicstrategies</td>\n",
       "      <td>3.0</td>\n",
       "      <td>15539</td>\n",
       "      <td>['comprehensibility', 'This', 'is', 'related',...</td>\n",
       "      <td>['comprehens', 'this', 'is', 'relat', 'to', 'e...</td>\n",
       "      <td>['comprehens', 'relat', 'effici', 'demand', 'd...</td>\n",
       "      <td>comprehens relat effici demand degre concis cl...</td>\n",
       "      <td>4</td>\n",
       "      <td>3</td>\n",
       "    </tr>\n",
       "    <tr>\n",
       "      <th>191015</th>\n",
       "      <td>322265.0</td>\n",
       "      <td>9357.0</td>\n",
       "      <td>Adaptability: I'm not sure if it's actually ap...</td>\n",
       "      <td>#algorithmicstrategies</td>\n",
       "      <td>3.0</td>\n",
       "      <td>15539</td>\n",
       "      <td>['Adaptability', \"I'm\", 'not', 'sure', 'if', \"...</td>\n",
       "      <td>['adapt', \"i'm\", 'not', 'sure', 'if', 'it', 'a...</td>\n",
       "      <td>['adapt', \"i'm\", 'sure', 'actual', 'applic', '...</td>\n",
       "      <td>adapt i'm sure actual applic algorithm howev t...</td>\n",
       "      <td>4</td>\n",
       "      <td>3</td>\n",
       "    </tr>\n",
       "  </tbody>\n",
       "</table>\n",
       "<p>191016 rows × 12 columns</p>\n",
       "</div>"
      ],
      "text/plain": [
       "        Polls ID  Assessment reports Student ID  \\\n",
       "0        12522.0                           41.0   \n",
       "1        12522.0                          335.0   \n",
       "2        12522.0                          333.0   \n",
       "3        12522.0                          318.0   \n",
       "4        12522.0                          315.0   \n",
       "...          ...                            ...   \n",
       "191011  322265.0                         1120.0   \n",
       "191012  322265.0                         1121.0   \n",
       "191013  322265.0                         1126.0   \n",
       "191014  322265.0                          719.0   \n",
       "191015  322265.0                         9357.0   \n",
       "\n",
       "                                  Poll Responses Response  \\\n",
       "0       The strengths of Plato's approach is his const...   \n",
       "1       In the breakout we discussed if outside the ca...   \n",
       "2       I think he's good at reasoning, but he has thi...   \n",
       "3       Back to cmmon confusion time: the section 'und...   \n",
       "4       Most difficult weakness is that his position w...   \n",
       "...                                                   ...   \n",
       "191011                                       Definiteness   \n",
       "191012  I think important propoerties of algorithms in...   \n",
       "191013  This is maybe not an additional property, but ...   \n",
       "191014  comprehensibility.  This is related to efficie...   \n",
       "191015  Adaptability: I'm not sure if it's actually ap...   \n",
       "\n",
       "       Assessment reports Hashtag  Assessment reports Score  time_stamp  \\\n",
       "0              #objectivemorality                       2.0           1   \n",
       "1              #objectivemorality                       3.0           1   \n",
       "2                   #deductivearg                       2.0           1   \n",
       "3              #objectivemorality                       2.0           1   \n",
       "4              #objectivemorality                       2.0           1   \n",
       "...                           ...                       ...         ...   \n",
       "191011     #algorithmicstrategies                       1.0       15539   \n",
       "191012     #algorithmicstrategies                       3.0       15539   \n",
       "191013     #algorithmicstrategies                       3.0       15539   \n",
       "191014     #algorithmicstrategies                       3.0       15539   \n",
       "191015     #algorithmicstrategies                       3.0       15539   \n",
       "\n",
       "                                      tokenized_responses  \\\n",
       "0       ['The', 'strengths', 'of', \"Plato's\", 'approac...   \n",
       "1       ['In', 'the', 'breakout', 'we', 'discussed', '...   \n",
       "2       ['I', 'think', \"he's\", 'good', 'at', 'reasonin...   \n",
       "3       ['Back', 'to', 'cmmon', 'confusion', 'time', '...   \n",
       "4       ['Most', 'difficult', 'weakness', 'is', 'that'...   \n",
       "...                                                   ...   \n",
       "191011                                   ['Definiteness']   \n",
       "191012  ['I', 'think', 'important', 'propoerties', 'of...   \n",
       "191013  ['This', 'is', 'maybe', 'not', 'an', 'addition...   \n",
       "191014  ['comprehensibility', 'This', 'is', 'related',...   \n",
       "191015  ['Adaptability', \"I'm\", 'not', 'sure', 'if', \"...   \n",
       "\n",
       "                                        stemmed_responses  \\\n",
       "0       ['the', 'strength', 'of', 'plato', 'approach',...   \n",
       "1       ['in', 'the', 'breakout', 'we', 'discuss', 'if...   \n",
       "2       ['i', 'think', 'he', 'good', 'at', 'reason', '...   \n",
       "3       ['back', 'to', 'cmmon', 'confus', 'time', 'the...   \n",
       "4       ['most', 'difficult', 'weak', 'is', 'that', 'h...   \n",
       "...                                                   ...   \n",
       "191011                                        ['definit']   \n",
       "191012  ['i', 'think', 'import', 'propoerti', 'of', 'a...   \n",
       "191013  ['this', 'is', 'mayb', 'not', 'an', 'addit', '...   \n",
       "191014  ['comprehens', 'this', 'is', 'relat', 'to', 'e...   \n",
       "191015  ['adapt', \"i'm\", 'not', 'sure', 'if', 'it', 'a...   \n",
       "\n",
       "                                          clean_responses  \\\n",
       "0       ['strength', 'plato', 'approach', 'construct',...   \n",
       "1       ['breakout', 'discuss', 'outsid', 'cave', 'mig...   \n",
       "2       ['think', 'good', 'reason', 'circular', 'way',...   \n",
       "3       ['back', 'cmmon', 'confus', 'time', 'section',...   \n",
       "4       ['difficult', 'weak', 'posit', 'understand', '...   \n",
       "...                                                   ...   \n",
       "191011                                        ['definit']   \n",
       "191012  ['think', 'import', 'propoerti', 'algorithm', ...   \n",
       "191013  ['mayb', 'addit', 'properti', 'characterist', ...   \n",
       "191014  ['comprehens', 'relat', 'effici', 'demand', 'd...   \n",
       "191015  ['adapt', \"i'm\", 'sure', 'actual', 'applic', '...   \n",
       "\n",
       "                                                   string  cluster  cluster10  \n",
       "0       strength plato approach construct whole framew...        1          8  \n",
       "1       breakout discuss outsid cave might bigger cave...        1          8  \n",
       "2       think good reason circular way prove point onl...        1          8  \n",
       "3       back cmmon confus time section understand inte...        1          8  \n",
       "4       difficult weak posit understand testabl like i...        1          8  \n",
       "...                                                   ...      ...        ...  \n",
       "191011                                            definit        1          3  \n",
       "191012  think import propoerti algorithm inclid defin ...        4          3  \n",
       "191013  mayb addit properti characterist good algorith...        1          3  \n",
       "191014  comprehens relat effici demand degre concis cl...        4          3  \n",
       "191015  adapt i'm sure actual applic algorithm howev t...        4          3  \n",
       "\n",
       "[191016 rows x 12 columns]"
      ]
     },
     "execution_count": 24,
     "metadata": {},
     "output_type": "execute_result"
    }
   ],
   "source": [
    "df"
   ]
  },
  {
   "cell_type": "code",
   "execution_count": 25,
   "metadata": {},
   "outputs": [],
   "source": [
    "c_0 = df[df['cluster'] == 0]['Assessment reports Score']\n",
    "c_1 = df[df['cluster'] == 1]['Assessment reports Score']\n",
    "c_2 = df[df['cluster'] == 2]['Assessment reports Score']\n",
    "c_3 = df[df['cluster'] == 3]['Assessment reports Score']\n",
    "c_4 = df[df['cluster'] == 4]['Assessment reports Score']"
   ]
  },
  {
   "cell_type": "code",
   "execution_count": 26,
   "metadata": {},
   "outputs": [],
   "source": [
    "min_len = min(len(c_0), len(c_2), len(c_3), len(c_4), len(c_1))"
   ]
  },
  {
   "cell_type": "code",
   "execution_count": 27,
   "metadata": {},
   "outputs": [],
   "source": [
    "c_0 = c_0.sample(n = min_len , replace=True, random_state=1, ignore_index=True)\n",
    "c_1 = c_1.sample(n = min_len , replace=True, random_state=1, ignore_index=True)\n",
    "c_2 = c_2.sample(n = min_len , replace=True, random_state=1, ignore_index=True)\n",
    "c_3 = c_3.sample(n = min_len , replace=True, random_state=1, ignore_index=True)\n",
    "c_4 = c_4.sample(n = min_len , replace=True, random_state=1, ignore_index=True)\n",
    "\n",
    "c = pd.concat([c_0,c_1, c_2, c_3, c_4], axis = 1)\n",
    "c.columns = ['c_0', 'c_1', 'c_2', 'c_3', 'c_4']"
   ]
  },
  {
   "cell_type": "code",
   "execution_count": 28,
   "metadata": {},
   "outputs": [
    {
     "data": {
      "text/html": [
       "<div>\n",
       "<style scoped>\n",
       "    .dataframe tbody tr th:only-of-type {\n",
       "        vertical-align: middle;\n",
       "    }\n",
       "\n",
       "    .dataframe tbody tr th {\n",
       "        vertical-align: top;\n",
       "    }\n",
       "\n",
       "    .dataframe thead th {\n",
       "        text-align: right;\n",
       "    }\n",
       "</style>\n",
       "<table border=\"1\" class=\"dataframe\">\n",
       "  <thead>\n",
       "    <tr style=\"text-align: right;\">\n",
       "      <th></th>\n",
       "      <th>c_0</th>\n",
       "      <th>c_1</th>\n",
       "      <th>c_2</th>\n",
       "      <th>c_3</th>\n",
       "      <th>c_4</th>\n",
       "    </tr>\n",
       "  </thead>\n",
       "  <tbody>\n",
       "    <tr>\n",
       "      <th>0</th>\n",
       "      <td>3.0</td>\n",
       "      <td>3.0</td>\n",
       "      <td>2.0</td>\n",
       "      <td>4.0</td>\n",
       "      <td>4.0</td>\n",
       "    </tr>\n",
       "    <tr>\n",
       "      <th>1</th>\n",
       "      <td>3.0</td>\n",
       "      <td>4.0</td>\n",
       "      <td>3.0</td>\n",
       "      <td>4.0</td>\n",
       "      <td>2.0</td>\n",
       "    </tr>\n",
       "    <tr>\n",
       "      <th>2</th>\n",
       "      <td>2.0</td>\n",
       "      <td>3.0</td>\n",
       "      <td>3.0</td>\n",
       "      <td>3.0</td>\n",
       "      <td>4.0</td>\n",
       "    </tr>\n",
       "    <tr>\n",
       "      <th>3</th>\n",
       "      <td>4.0</td>\n",
       "      <td>4.0</td>\n",
       "      <td>4.0</td>\n",
       "      <td>4.0</td>\n",
       "      <td>3.0</td>\n",
       "    </tr>\n",
       "    <tr>\n",
       "      <th>4</th>\n",
       "      <td>4.0</td>\n",
       "      <td>3.0</td>\n",
       "      <td>2.0</td>\n",
       "      <td>4.0</td>\n",
       "      <td>2.0</td>\n",
       "    </tr>\n",
       "    <tr>\n",
       "      <th>...</th>\n",
       "      <td>...</td>\n",
       "      <td>...</td>\n",
       "      <td>...</td>\n",
       "      <td>...</td>\n",
       "      <td>...</td>\n",
       "    </tr>\n",
       "    <tr>\n",
       "      <th>929</th>\n",
       "      <td>3.0</td>\n",
       "      <td>4.0</td>\n",
       "      <td>2.0</td>\n",
       "      <td>2.0</td>\n",
       "      <td>4.0</td>\n",
       "    </tr>\n",
       "    <tr>\n",
       "      <th>930</th>\n",
       "      <td>2.0</td>\n",
       "      <td>3.0</td>\n",
       "      <td>3.0</td>\n",
       "      <td>3.0</td>\n",
       "      <td>2.0</td>\n",
       "    </tr>\n",
       "    <tr>\n",
       "      <th>931</th>\n",
       "      <td>3.0</td>\n",
       "      <td>4.0</td>\n",
       "      <td>3.0</td>\n",
       "      <td>4.0</td>\n",
       "      <td>3.0</td>\n",
       "    </tr>\n",
       "    <tr>\n",
       "      <th>932</th>\n",
       "      <td>4.0</td>\n",
       "      <td>4.0</td>\n",
       "      <td>3.0</td>\n",
       "      <td>3.0</td>\n",
       "      <td>3.0</td>\n",
       "    </tr>\n",
       "    <tr>\n",
       "      <th>933</th>\n",
       "      <td>3.0</td>\n",
       "      <td>3.0</td>\n",
       "      <td>4.0</td>\n",
       "      <td>3.0</td>\n",
       "      <td>4.0</td>\n",
       "    </tr>\n",
       "  </tbody>\n",
       "</table>\n",
       "<p>934 rows × 5 columns</p>\n",
       "</div>"
      ],
      "text/plain": [
       "     c_0  c_1  c_2  c_3  c_4\n",
       "0    3.0  3.0  2.0  4.0  4.0\n",
       "1    3.0  4.0  3.0  4.0  2.0\n",
       "2    2.0  3.0  3.0  3.0  4.0\n",
       "3    4.0  4.0  4.0  4.0  3.0\n",
       "4    4.0  3.0  2.0  4.0  2.0\n",
       "..   ...  ...  ...  ...  ...\n",
       "929  3.0  4.0  2.0  2.0  4.0\n",
       "930  2.0  3.0  3.0  3.0  2.0\n",
       "931  3.0  4.0  3.0  4.0  3.0\n",
       "932  4.0  4.0  3.0  3.0  3.0\n",
       "933  3.0  3.0  4.0  3.0  4.0\n",
       "\n",
       "[934 rows x 5 columns]"
      ]
     },
     "execution_count": 28,
     "metadata": {},
     "output_type": "execute_result"
    }
   ],
   "source": [
    "c"
   ]
  },
  {
   "cell_type": "code",
   "execution_count": 29,
   "metadata": {},
   "outputs": [
    {
     "data": {
      "image/png": "[encoded data removed]",
      "text/plain": [
       "<Figure size 432x288 with 2 Axes>"
      ]
     },
     "metadata": {
      "needs_background": "light"
     },
     "output_type": "display_data"
    }
   ],
   "source": [
    "corrMatrix = c.corr()\n",
    "sns.heatmap(corrMatrix, annot=True,  vmin=-1, vmax=1, cmap=\"YlGnBu\")\n",
    "plt.show()"
   ]
  },
  {
   "cell_type": "code",
   "execution_count": null,
   "metadata": {},
   "outputs": [],
   "source": []
  }
 ],
 "metadata": {
  "interpreter": {
   "hash": "aee8b7b246df8f9039afb4144a1f6fd8d2ca17a180786b69acc140d282b71a49"
  },
  "kernelspec": {
   "display_name": "Python 3.9.1 64-bit",
   "language": "python",
   "name": "python3"
  },
  "language_info": {
   "codemirror_mode": {
    "name": "ipython",
    "version": 3
   },
   "file_extension": ".py",
   "mimetype": "text/x-python",
   "name": "python",
   "nbconvert_exporter": "python",
   "pygments_lexer": "ipython3",
   "version": "3.9.1"
  },
  "orig_nbformat": 4
 },
 "nbformat": 4,
 "nbformat_minor": 2
}
