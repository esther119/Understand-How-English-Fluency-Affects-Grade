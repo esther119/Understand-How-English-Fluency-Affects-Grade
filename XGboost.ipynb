{
 "cells": [
  {
   "cell_type": "code",
   "execution_count": 30,
   "metadata": {},
   "outputs": [],
   "source": [
    "import pandas as pd\n",
    "import xgboost as xgb\n",
    "from sklearn.datasets import load_boston\n",
    "from sklearn.model_selection import train_test_split\n",
    "from sklearn.metrics import mean_squared_error\n",
    "from sklearn.metrics import accuracy_score\n"
   ]
  },
  {
   "cell_type": "code",
   "execution_count": 2,
   "metadata": {},
   "outputs": [],
   "source": [
    "df = pd.read_csv('vectorized_data.zip')"
   ]
  },
  {
   "cell_type": "code",
   "execution_count": 3,
   "metadata": {},
   "outputs": [
    {
     "data": {
      "text/plain": [
       "Index(['Polls ID', 'Poll Responses Response', 'Assessment reports Hashtag',\n",
       "       'Assessment reports Score', 'time_stamp', 'tokenized_responses',\n",
       "       'stemmed_responses', 'clean_responses', 'string', 'LOs/ HCs', 'College',\n",
       "       'Course', 'flesch_reading_ease', 'flesch_kincaid_grade', 'gunning_fog',\n",
       "       'smog_index', 'automated_readability_index', 'coleman_liau_index',\n",
       "       'dale_chall_readability_score', 'linsear_write_formula',\n",
       "       'lex_data_prep', 'hdd', 'Summer', 'Dugast', 'words_count',\n",
       "       'unique_words', 'ttr', 'rttr', 'cttr', 'mtld', 'herdan', 'maas', 'vec',\n",
       "       'vec_1', 'vec_2', 'vec_3', 'vec_4', 'vec_5', 'vec_6', 'vec_7', 'vec_8',\n",
       "       'vec_9', 'vec_10', 'vec_11', 'vec_12', 'vec_13', 'vec_14', 'vec_15',\n",
       "       'vec_16', 'vec_17', 'vec_18', 'vec_19', 'vec_20'],\n",
       "      dtype='object')"
      ]
     },
     "execution_count": 3,
     "metadata": {},
     "output_type": "execute_result"
    }
   ],
   "source": [
    "df.columns"
   ]
  },
  {
   "cell_type": "code",
   "execution_count": 22,
   "metadata": {},
   "outputs": [],
   "source": [
    "# X exclude categorical data\n",
    "X = df[['time_stamp','flesch_reading_ease', 'flesch_kincaid_grade', 'gunning_fog',\n",
    "       'smog_index', 'automated_readability_index', 'coleman_liau_index',\n",
    "       'dale_chall_readability_score', 'linsear_write_formula', 'hdd', 'Summer', 'Dugast', 'words_count',\n",
    "       'unique_words', 'ttr', 'rttr', 'cttr', 'mtld', 'herdan', 'maas', \n",
    "       'vec_1', 'vec_2', 'vec_3', 'vec_4', 'vec_5', 'vec_6', 'vec_7', 'vec_8',\n",
    "       'vec_9', 'vec_10', 'vec_11', 'vec_12', 'vec_13', 'vec_14', 'vec_15',\n",
    "       'vec_16', 'vec_17', 'vec_18', 'vec_19', 'vec_20']]\n",
    "y = df['Assessment reports Score']"
   ]
  },
  {
   "cell_type": "code",
   "execution_count": 23,
   "metadata": {},
   "outputs": [
    {
     "data": {
      "text/plain": [
       "40"
      ]
     },
     "execution_count": 23,
     "metadata": {},
     "output_type": "execute_result"
    }
   ],
   "source": [
    "len(X.columns)"
   ]
  },
  {
   "cell_type": "code",
   "execution_count": 24,
   "metadata": {},
   "outputs": [],
   "source": [
    "X_train, X_test, y_train, y_test = train_test_split(X, y)\n"
   ]
  },
  {
   "cell_type": "code",
   "execution_count": 25,
   "metadata": {},
   "outputs": [],
   "source": [
    "regressor = xgb.XGBRegressor(\n",
    "    n_estimators=100,\n",
    "    reg_lambda=1,\n",
    "    gamma=0,\n",
    "    max_depth=3\n",
    ")"
   ]
  },
  {
   "cell_type": "code",
   "execution_count": 26,
   "metadata": {},
   "outputs": [
    {
     "data": {
      "text/plain": [
       "XGBRegressor(base_score=0.5, booster='gbtree', colsample_bylevel=1,\n",
       "             colsample_bynode=1, colsample_bytree=1, enable_categorical=False,\n",
       "             gamma=0, gpu_id=-1, importance_type=None,\n",
       "             interaction_constraints='', learning_rate=0.300000012,\n",
       "             max_delta_step=0, max_depth=3, min_child_weight=1, missing=nan,\n",
       "             monotone_constraints='()', n_estimators=100, n_jobs=8,\n",
       "             num_parallel_tree=1, predictor='auto', random_state=0, reg_alpha=0,\n",
       "             reg_lambda=1, scale_pos_weight=1, subsample=1, tree_method='exact',\n",
       "             validate_parameters=1, verbosity=None)"
      ]
     },
     "execution_count": 26,
     "metadata": {},
     "output_type": "execute_result"
    }
   ],
   "source": [
    "regressor.fit(X_train, y_train)"
   ]
  },
  {
   "cell_type": "code",
   "execution_count": 27,
   "metadata": {},
   "outputs": [
    {
     "data": {
      "text/html": [
       "<div>\n",
       "<style scoped>\n",
       "    .dataframe tbody tr th:only-of-type {\n",
       "        vertical-align: middle;\n",
       "    }\n",
       "\n",
       "    .dataframe tbody tr th {\n",
       "        vertical-align: top;\n",
       "    }\n",
       "\n",
       "    .dataframe thead th {\n",
       "        text-align: right;\n",
       "    }\n",
       "</style>\n",
       "<table border=\"1\" class=\"dataframe\">\n",
       "  <thead>\n",
       "    <tr style=\"text-align: right;\">\n",
       "      <th></th>\n",
       "      <th>time_stamp</th>\n",
       "      <th>flesch_reading_ease</th>\n",
       "      <th>flesch_kincaid_grade</th>\n",
       "      <th>gunning_fog</th>\n",
       "      <th>smog_index</th>\n",
       "      <th>automated_readability_index</th>\n",
       "      <th>coleman_liau_index</th>\n",
       "      <th>dale_chall_readability_score</th>\n",
       "      <th>linsear_write_formula</th>\n",
       "      <th>hdd</th>\n",
       "      <th>...</th>\n",
       "      <th>vec_11</th>\n",
       "      <th>vec_12</th>\n",
       "      <th>vec_13</th>\n",
       "      <th>vec_14</th>\n",
       "      <th>vec_15</th>\n",
       "      <th>vec_16</th>\n",
       "      <th>vec_17</th>\n",
       "      <th>vec_18</th>\n",
       "      <th>vec_19</th>\n",
       "      <th>vec_20</th>\n",
       "    </tr>\n",
       "  </thead>\n",
       "  <tbody>\n",
       "    <tr>\n",
       "      <th>0</th>\n",
       "      <td>0.028882</td>\n",
       "      <td>0.006716</td>\n",
       "      <td>0.0055</td>\n",
       "      <td>0.048124</td>\n",
       "      <td>0.0</td>\n",
       "      <td>0.0708</td>\n",
       "      <td>0.015497</td>\n",
       "      <td>0.0058</td>\n",
       "      <td>0.39261</td>\n",
       "      <td>0.008135</td>\n",
       "      <td>...</td>\n",
       "      <td>0.011175</td>\n",
       "      <td>0.005746</td>\n",
       "      <td>0.007472</td>\n",
       "      <td>0.008025</td>\n",
       "      <td>0.008359</td>\n",
       "      <td>0.013752</td>\n",
       "      <td>0.00941</td>\n",
       "      <td>0.005863</td>\n",
       "      <td>0.00798</td>\n",
       "      <td>0.008882</td>\n",
       "    </tr>\n",
       "  </tbody>\n",
       "</table>\n",
       "<p>1 rows × 40 columns</p>\n",
       "</div>"
      ],
      "text/plain": [
       "   time_stamp  flesch_reading_ease  flesch_kincaid_grade  gunning_fog  \\\n",
       "0    0.028882             0.006716                0.0055     0.048124   \n",
       "\n",
       "   smog_index  automated_readability_index  coleman_liau_index  \\\n",
       "0         0.0                       0.0708            0.015497   \n",
       "\n",
       "   dale_chall_readability_score  linsear_write_formula       hdd  ...  \\\n",
       "0                        0.0058                0.39261  0.008135  ...   \n",
       "\n",
       "     vec_11    vec_12    vec_13    vec_14    vec_15    vec_16   vec_17  \\\n",
       "0  0.011175  0.005746  0.007472  0.008025  0.008359  0.013752  0.00941   \n",
       "\n",
       "     vec_18   vec_19    vec_20  \n",
       "0  0.005863  0.00798  0.008882  \n",
       "\n",
       "[1 rows x 40 columns]"
      ]
     },
     "execution_count": 27,
     "metadata": {},
     "output_type": "execute_result"
    }
   ],
   "source": [
    "pd.DataFrame(regressor.feature_importances_.reshape(1, -1), columns=X.columns)\n"
   ]
  },
  {
   "cell_type": "code",
   "execution_count": 28,
   "metadata": {},
   "outputs": [],
   "source": [
    "y_pred = regressor.predict(X_test)"
   ]
  },
  {
   "cell_type": "code",
   "execution_count": 29,
   "metadata": {},
   "outputs": [
    {
     "data": {
      "text/plain": [
       "0.4159238138018894"
      ]
     },
     "execution_count": 29,
     "metadata": {},
     "output_type": "execute_result"
    }
   ],
   "source": [
    "mean_squared_error(y_test, y_pred)"
   ]
  },
  {
   "cell_type": "code",
   "execution_count": 33,
   "metadata": {},
   "outputs": [],
   "source": [
    "predictions = [round(value) for value in y_pred]"
   ]
  },
  {
   "cell_type": "code",
   "execution_count": 34,
   "metadata": {},
   "outputs": [
    {
     "name": "stdout",
     "output_type": "stream",
     "text": [
      "Accuracy: 53.69%\n"
     ]
    }
   ],
   "source": [
    "# evaluate predictions\n",
    "accuracy = accuracy_score(y_test, predictions)\n",
    "print(\"Accuracy: %.2f%%\" % (accuracy * 100.0))"
   ]
  },
  {
   "cell_type": "code",
   "execution_count": null,
   "metadata": {},
   "outputs": [],
   "source": []
  }
 ],
 "metadata": {
  "kernelspec": {
   "display_name": "base",
   "language": "python",
   "name": "python3"
  },
  "language_info": {
   "codemirror_mode": {
    "name": "ipython",
    "version": 3
   },
   "file_extension": ".py",
   "mimetype": "text/x-python",
   "name": "python",
   "nbconvert_exporter": "python",
   "pygments_lexer": "ipython3",
   "version": "3.9.7"
  },
  "orig_nbformat": 4,
  "vscode": {
   "interpreter": {
    "hash": "c9b5a0d0397a965b8a61bea250a52cf791a7dd32e6dbdab8d82b426f9cd3b168"
   }
  }
 },
 "nbformat": 4,
 "nbformat_minor": 2
}
