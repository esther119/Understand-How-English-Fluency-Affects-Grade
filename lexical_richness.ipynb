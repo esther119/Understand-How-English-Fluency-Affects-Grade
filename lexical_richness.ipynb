{
 "cells": [
  {
   "cell_type": "code",
   "execution_count": 12,
   "metadata": {},
   "outputs": [],
   "source": [
    "from lexicalrichness import LexicalRichness\n",
    "import pandas as pd \n",
    "import numpy as np"
   ]
  },
  {
   "cell_type": "code",
   "execution_count": 13,
   "metadata": {},
   "outputs": [],
   "source": [
    "df = pd.read_csv('the_rest_data.zip')\n",
    "df = df[df['Poll Responses Response'].notnull()]"
   ]
  },
  {
   "cell_type": "markdown",
   "metadata": {},
   "source": [
    "## Prep data for generating lexical richness scores"
   ]
  },
  {
   "cell_type": "code",
   "execution_count": 41,
   "metadata": {},
   "outputs": [
    {
     "data": {
      "text/plain": [
       "0    the  strength  of  plato  approach  is  his  c...\n",
       "1    in  the  breakout  we  discuss  if  outsid  th...\n",
       "2    back  to  cmmon  confus  time  the  section  u...\n",
       "3    most  difficult  weak  is  that  his  posit  w...\n",
       "4    \"im\"  still  tri  to  understand  the  signifi...\n",
       "Name: lex_data_prep, dtype: object"
      ]
     },
     "execution_count": 41,
     "metadata": {},
     "output_type": "execute_result"
    }
   ],
   "source": [
    "df['lex_data_prep']= df['stemmed_responses'].str.split(',').replace(\"'\", '').str.join(' ')\n",
    "df['lex_data_prep'] = df['stemmed_responses'].apply(\" \".join)\n",
    "\n",
    "df['lex_data_prep'] = df['stemmed_responses'].str.strip('[').str.strip(']').str.split(',').str.join(' ').str.replace(\"'\", '')\n",
    "df['lex_data_prep'].head()"
   ]
  },
  {
   "cell_type": "markdown",
   "metadata": {},
   "source": [
    "## Data cleaning "
   ]
  },
  {
   "cell_type": "code",
   "execution_count": 42,
   "metadata": {},
   "outputs": [],
   "source": [
    "#clean This student was present, but did not complete the poll.\n",
    "df = df[df['Poll Responses Response'] != 'This student was present, but did not complete the poll.']\n",
    "\n",
    "#clean up extremely short sentences\n",
    "df = df[df['string'].str.len() >= 10]"
   ]
  },
  {
   "cell_type": "code",
   "execution_count": 44,
   "metadata": {},
   "outputs": [],
   "source": [
    "#not yet put in lex.Dugast, lex.msttr(segment_window=0), lex.mattr(window_size=0),lex.hdd(draws=0),\n",
    "def generate_words(text):\n",
    "    lex = LexicalRichness(text)\n",
    "    return lex.words\n",
    "df['words_count'] = df['lex_data_prep'].apply(generate_words)"
   ]
  },
  {
   "cell_type": "code",
   "execution_count": 46,
   "metadata": {},
   "outputs": [],
   "source": [
    "df = df[df['words_count'] > 1]"
   ]
  },
  {
   "cell_type": "markdown",
   "metadata": {},
   "source": [
    "## Generate lexcial richness"
   ]
  },
  {
   "cell_type": "code",
   "execution_count": 48,
   "metadata": {},
   "outputs": [],
   "source": [
    "#Generate most of lexcial richness scores\n",
    "def generate_lexcial_richness(text):\n",
    "    lex = LexicalRichness(text)\n",
    "    return lex.terms, lex.ttr, lex.rttr, lex.cttr, lex.mtld(threshold=0.72),  lex.Herdan,  lex.Maas\n",
    "\n",
    "df['unique_words'], df['ttr'], df['rttr'], df['cttr'], df['mtld'], df['herdan'], df['maas']= zip(*df['lex_data_prep'].apply(generate_lexcial_richness))"
   ]
  },
  {
   "cell_type": "code",
   "execution_count": 49,
   "metadata": {},
   "outputs": [],
   "source": [
    "def generate_dugast(text):\n",
    "    lex = LexicalRichness(text)\n",
    "    try:\n",
    "        return lex.Dugast\n",
    "    except:\n",
    "        return False\n",
    "\n",
    "df['Dugast'] = df['lex_data_prep'].apply(generate_dugast)"
   ]
  },
  {
   "cell_type": "code",
   "execution_count": 54,
   "metadata": {},
   "outputs": [
    {
     "name": "stdout",
     "output_type": "stream",
     "text": [
      "False data proportion in the dataset:  0.004706673390485796\n"
     ]
    }
   ],
   "source": [
    "print(f'False data proportion in the dataset: ', len(df[df['Dugast'] == False])/len(df))"
   ]
  },
  {
   "cell_type": "code",
   "execution_count": 56,
   "metadata": {},
   "outputs": [],
   "source": [
    "def generate_summer(text):\n",
    "    lex = LexicalRichness(text)\n",
    "    try:\n",
    "        return lex.Summer\n",
    "    except:\n",
    "        return False\n",
    "\n",
    "df['Summer'] = df['lex_data_prep'].apply(generate_summer)"
   ]
  },
  {
   "cell_type": "code",
   "execution_count": 57,
   "metadata": {},
   "outputs": [
    {
     "name": "stdout",
     "output_type": "stream",
     "text": [
      "False data proportion in the dataset:  0.0\n"
     ]
    }
   ],
   "source": [
    "print(f'False data proportion in the dataset: ', len(df[df['Summer'] == False])/len(df))"
   ]
  },
  {
   "cell_type": "code",
   "execution_count": 59,
   "metadata": {},
   "outputs": [
    {
     "data": {
      "text/plain": [
       "count    178470.000000\n",
       "mean          0.935562\n",
       "std           0.036510\n",
       "min          -3.897091\n",
       "25%           0.926977\n",
       "50%           0.939773\n",
       "75%           0.950311\n",
       "max           1.000000\n",
       "Name: Summer, dtype: float64"
      ]
     },
     "execution_count": 59,
     "metadata": {},
     "output_type": "execute_result"
    },
    {
     "data": {
      "image/png": "[encoded data removed]",
      "text/plain": [
       "<Figure size 432x288 with 1 Axes>"
      ]
     },
     "metadata": {
      "needs_background": "light"
     },
     "output_type": "display_data"
    }
   ],
   "source": [
    "import matplotlib.pyplot as plt\n",
    "plt.hist(df['Summer'])\n",
    "plt.title('Summer score distribution')\n",
    "\n",
    "df['Summer'].describe()"
   ]
  },
  {
   "cell_type": "code",
   "execution_count": 61,
   "metadata": {},
   "outputs": [],
   "source": [
    "def generate_hdd(text):\n",
    "    lex = LexicalRichness(text)\n",
    "    try:\n",
    "        return lex.hdd(draws=20)\n",
    "    except:\n",
    "        return False\n",
    "\n",
    "df['hdd'] = df['lex_data_prep'].apply(generate_hdd)"
   ]
  },
  {
   "cell_type": "code",
   "execution_count": 63,
   "metadata": {},
   "outputs": [
    {
     "name": "stdout",
     "output_type": "stream",
     "text": [
      "False data proportion in the dataset:  0.012539922676080013\n"
     ]
    },
    {
     "data": {
      "text/plain": [
       "Text(0.5, 1.0, 'HDD score distribution')"
      ]
     },
     "execution_count": 63,
     "metadata": {},
     "output_type": "execute_result"
    },
    {
     "data": {
      "image/png": "[encoded data removed]",
      "text/plain": [
       "<Figure size 432x288 with 1 Axes>"
      ]
     },
     "metadata": {
      "needs_background": "light"
     },
     "output_type": "display_data"
    }
   ],
   "source": [
    "print(f'False data proportion in the dataset: ', len(df[df['hdd'] == False])/len(df))\n",
    "plt.hist(df['hdd'])\n",
    "plt.title('HDD score distribution')"
   ]
  },
  {
   "cell_type": "code",
   "execution_count": 65,
   "metadata": {},
   "outputs": [
    {
     "data": {
      "text/plain": [
       "0.013049812293382642"
      ]
     },
     "execution_count": 65,
     "metadata": {},
     "output_type": "execute_result"
    }
   ],
   "source": [
    "len(df[(df.Dugast == False) | (df.Summer == False) | (df.hdd == False)])/len(df)"
   ]
  },
  {
   "cell_type": "code",
   "execution_count": 66,
   "metadata": {},
   "outputs": [],
   "source": [
    "df = df[df.Dugast != False]\n",
    "df = df[df.Summer != False]\n",
    "df = df[df.hdd != False]"
   ]
  },
  {
   "cell_type": "code",
   "execution_count": 67,
   "metadata": {},
   "outputs": [],
   "source": [
    "#covert into a csv\n",
    "compression_opts = dict(method='zip',\n",
    "                        archive_name='lexcial_rich_data.csv')  \n",
    "df.to_csv('lexcial_rich_data.zip', index=False,\n",
    "          compression=compression_opts)  "
   ]
  },
  {
   "cell_type": "code",
   "execution_count": null,
   "metadata": {},
   "outputs": [],
   "source": []
  }
 ],
 "metadata": {
  "kernelspec": {
   "display_name": "base",
   "language": "python",
   "name": "python3"
  },
  "language_info": {
   "codemirror_mode": {
    "name": "ipython",
    "version": 3
   },
   "file_extension": ".py",
   "mimetype": "text/x-python",
   "name": "python",
   "nbconvert_exporter": "python",
   "pygments_lexer": "ipython3",
   "version": "3.9.7"
  },
  "orig_nbformat": 4,
  "vscode": {
   "interpreter": {
    "hash": "c9b5a0d0397a965b8a61bea250a52cf791a7dd32e6dbdab8d82b426f9cd3b168"
   }
  }
 },
 "nbformat": 4,
 "nbformat_minor": 2
}
