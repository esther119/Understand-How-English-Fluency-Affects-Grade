{
 "cells": [
  {
   "cell_type": "code",
   "execution_count": 25,
   "metadata": {},
   "outputs": [],
   "source": [
    "import pandas as pd \n",
    "import numpy as np\n"
   ]
  },
  {
   "cell_type": "code",
   "execution_count": 26,
   "metadata": {},
   "outputs": [],
   "source": [
    "df = pd.read_csv('readibility_process_data.zip')"
   ]
  },
  {
   "cell_type": "code",
   "execution_count": 27,
   "metadata": {},
   "outputs": [],
   "source": [
    "df = df[df['Poll Responses Response'].notnull()]"
   ]
  },
  {
   "cell_type": "code",
   "execution_count": 28,
   "metadata": {},
   "outputs": [],
   "source": [
    "#exclude all the rows contain http\n",
    "http_index = df[df['Poll Responses Response'].str.contains('http')]['Poll Responses Response'].index\n",
    "http_texts = df[df.index.isin(http_index)]['Poll Responses Response']\n",
    "\n",
    "df = df[~df.index.isin(http_index)]"
   ]
  },
  {
   "cell_type": "code",
   "execution_count": 29,
   "metadata": {},
   "outputs": [],
   "source": [
    "from IPython.display import display\n",
    "# pd.options.display.max_rows = None\n",
    "# pd.set_option('display.max_colwidth', None)\n",
    "\n"
   ]
  },
  {
   "cell_type": "code",
   "execution_count": 30,
   "metadata": {},
   "outputs": [
    {
     "data": {
      "text/html": [
       "<div>\n",
       "<style scoped>\n",
       "    .dataframe tbody tr th:only-of-type {\n",
       "        vertical-align: middle;\n",
       "    }\n",
       "\n",
       "    .dataframe tbody tr th {\n",
       "        vertical-align: top;\n",
       "    }\n",
       "\n",
       "    .dataframe thead th {\n",
       "        text-align: right;\n",
       "    }\n",
       "</style>\n",
       "<table border=\"1\" class=\"dataframe\">\n",
       "  <thead>\n",
       "    <tr style=\"text-align: right;\">\n",
       "      <th></th>\n",
       "      <th>Polls ID</th>\n",
       "      <th>Poll Responses Response</th>\n",
       "      <th>Assessment reports Hashtag</th>\n",
       "      <th>Assessment reports Score</th>\n",
       "      <th>time_stamp</th>\n",
       "      <th>tokenized_responses</th>\n",
       "      <th>stemmed_responses</th>\n",
       "      <th>clean_responses</th>\n",
       "      <th>string</th>\n",
       "      <th>LOs/ HCs</th>\n",
       "      <th>College</th>\n",
       "      <th>Course</th>\n",
       "      <th>flesch_reading_ease</th>\n",
       "      <th>flesch_kincaid_grade</th>\n",
       "      <th>gunning_fog</th>\n",
       "      <th>smog_index</th>\n",
       "      <th>automated_readability_index</th>\n",
       "      <th>coleman_liau_index</th>\n",
       "      <th>dale_chall_readability_score</th>\n",
       "      <th>linsear_write_formula</th>\n",
       "    </tr>\n",
       "  </thead>\n",
       "  <tbody>\n",
       "    <tr>\n",
       "      <th>755</th>\n",
       "      <td>44845</td>\n",
       "      <td>Prediction. In today's world, causal inferece ...</td>\n",
       "      <td>#decisioninference</td>\n",
       "      <td>3</td>\n",
       "      <td>480</td>\n",
       "      <td>['Prediction', 'In', \"today's\", 'world', 'caus...</td>\n",
       "      <td>['predict', 'in', 'today', 'world', 'causal', ...</td>\n",
       "      <td>['predict', 'today', 'world', 'causal', 'infer...</td>\n",
       "      <td>predict today world causal inferec realli unim...</td>\n",
       "      <td>decisioninference</td>\n",
       "      <td>CS</td>\n",
       "      <td>CS112</td>\n",
       "      <td>13.96</td>\n",
       "      <td>21.3</td>\n",
       "      <td>22.00</td>\n",
       "      <td>0.0</td>\n",
       "      <td>25.4</td>\n",
       "      <td>16.37</td>\n",
       "      <td>14.70</td>\n",
       "      <td>26.0</td>\n",
       "    </tr>\n",
       "    <tr>\n",
       "      <th>958</th>\n",
       "      <td>88971</td>\n",
       "      <td>/ pick a appropriate type of distribution (e.g...</td>\n",
       "      <td>#exactinference</td>\n",
       "      <td>4</td>\n",
       "      <td>1810</td>\n",
       "      <td>['pick', 'a', 'appropriate', 'type', 'of', 'di...</td>\n",
       "      <td>['pick', 'a', 'appropri', 'type', 'of', 'distr...</td>\n",
       "      <td>['pick', 'appropri', 'type', 'distribut', 'e',...</td>\n",
       "      <td>pick appropri type distribut e g beta figur pa...</td>\n",
       "      <td>decisioninference</td>\n",
       "      <td>CS</td>\n",
       "      <td>CS112</td>\n",
       "      <td>31.89</td>\n",
       "      <td>18.5</td>\n",
       "      <td>18.68</td>\n",
       "      <td>0.0</td>\n",
       "      <td>19.2</td>\n",
       "      <td>9.35</td>\n",
       "      <td>14.88</td>\n",
       "      <td>22.5</td>\n",
       "    </tr>\n",
       "    <tr>\n",
       "      <th>999</th>\n",
       "      <td>92211</td>\n",
       "      <td>To be honest, I don't know how to do it mathem...</td>\n",
       "      <td>#exactinference</td>\n",
       "      <td>1</td>\n",
       "      <td>2205</td>\n",
       "      <td>['To', 'be', 'honest', 'I', \"don't\", 'know', '...</td>\n",
       "      <td>['to', 'be', 'honest', 'i', \"don't\", 'know', '...</td>\n",
       "      <td>['honest', 'know', 'mathemat', 'scratch', 'bas...</td>\n",
       "      <td>honest know mathemat scratch basic idea p thet...</td>\n",
       "      <td>decisioninference</td>\n",
       "      <td>CS</td>\n",
       "      <td>CS112</td>\n",
       "      <td>60.99</td>\n",
       "      <td>11.5</td>\n",
       "      <td>13.76</td>\n",
       "      <td>0.0</td>\n",
       "      <td>14.6</td>\n",
       "      <td>10.74</td>\n",
       "      <td>10.82</td>\n",
       "      <td>15.5</td>\n",
       "    </tr>\n",
       "    <tr>\n",
       "      <th>1000</th>\n",
       "      <td>92211</td>\n",
       "      <td>p(theta, theta|y) = p(y|theta, theta) * P(thet...</td>\n",
       "      <td>#exactinference</td>\n",
       "      <td>1</td>\n",
       "      <td>2205</td>\n",
       "      <td>['p', 'theta', 'theta', 'y', 'p', 'y', 'theta'...</td>\n",
       "      <td>['p', 'theta', 'theta', 'y', 'p', 'y', 'theta'...</td>\n",
       "      <td>['p', 'theta', 'theta', 'p', 'theta', 'theta',...</td>\n",
       "      <td>p theta theta p theta theta p theta theta e at...</td>\n",
       "      <td>decisioninference</td>\n",
       "      <td>CS</td>\n",
       "      <td>CS112</td>\n",
       "      <td>93.82</td>\n",
       "      <td>7.1</td>\n",
       "      <td>11.20</td>\n",
       "      <td>0.0</td>\n",
       "      <td>8.2</td>\n",
       "      <td>2.27</td>\n",
       "      <td>9.54</td>\n",
       "      <td>14.0</td>\n",
       "    </tr>\n",
       "    <tr>\n",
       "      <th>1008</th>\n",
       "      <td>92211</td>\n",
       "      <td>To derive the marginal posterior dist. over th...</td>\n",
       "      <td>#exactinference</td>\n",
       "      <td>2</td>\n",
       "      <td>2205</td>\n",
       "      <td>['To', 'derive', 'the', 'marginal', 'posterior...</td>\n",
       "      <td>['to', 'deriv', 'the', 'margin', 'posterior', ...</td>\n",
       "      <td>['deriv', 'margin', 'posterior', 'dist', 'thet...</td>\n",
       "      <td>deriv margin posterior dist theta need integr ...</td>\n",
       "      <td>decisioninference</td>\n",
       "      <td>CS</td>\n",
       "      <td>CS112</td>\n",
       "      <td>47.12</td>\n",
       "      <td>12.7</td>\n",
       "      <td>12.93</td>\n",
       "      <td>0.0</td>\n",
       "      <td>12.0</td>\n",
       "      <td>9.35</td>\n",
       "      <td>13.38</td>\n",
       "      <td>16.0</td>\n",
       "    </tr>\n",
       "    <tr>\n",
       "      <th>...</th>\n",
       "      <td>...</td>\n",
       "      <td>...</td>\n",
       "      <td>...</td>\n",
       "      <td>...</td>\n",
       "      <td>...</td>\n",
       "      <td>...</td>\n",
       "      <td>...</td>\n",
       "      <td>...</td>\n",
       "      <td>...</td>\n",
       "      <td>...</td>\n",
       "      <td>...</td>\n",
       "      <td>...</td>\n",
       "      <td>...</td>\n",
       "      <td>...</td>\n",
       "      <td>...</td>\n",
       "      <td>...</td>\n",
       "      <td>...</td>\n",
       "      <td>...</td>\n",
       "      <td>...</td>\n",
       "      <td>...</td>\n",
       "    </tr>\n",
       "    <tr>\n",
       "      <th>180467</th>\n",
       "      <td>304985</td>\n",
       "      <td>P()/P() = e^{(.x^{-}*.*)/(*.x^{-})} = .\\nIndir...</td>\n",
       "      <td>#StatisticalEquilibrium</td>\n",
       "      <td>4</td>\n",
       "      <td>14422</td>\n",
       "      <td>['P', 'P', 'e', 'x', 'x', 'Indirectly', 'yes',...</td>\n",
       "      <td>['p', 'p', 'e', 'x', 'x', 'indirect', 'yes', '...</td>\n",
       "      <td>['p', 'p', 'e', 'x', 'x', 'indirect', 'yes', '...</td>\n",
       "      <td>p p e x x indirect yes sinc gpe determin heigh...</td>\n",
       "      <td>statisticalequilibrium</td>\n",
       "      <td>NS</td>\n",
       "      <td>NS162</td>\n",
       "      <td>54.22</td>\n",
       "      <td>9.9</td>\n",
       "      <td>16.21</td>\n",
       "      <td>0.0</td>\n",
       "      <td>9.3</td>\n",
       "      <td>9.74</td>\n",
       "      <td>15.63</td>\n",
       "      <td>12.5</td>\n",
       "    </tr>\n",
       "    <tr>\n",
       "      <th>181165</th>\n",
       "      <td>298114</td>\n",
       "      <td>Assuming an isobaric process, so from the firs...</td>\n",
       "      <td>#Heat</td>\n",
       "      <td>3</td>\n",
       "      <td>14054</td>\n",
       "      <td>['Assuming', 'an', 'isobaric', 'process', 'so'...</td>\n",
       "      <td>['assum', 'an', 'isobar', 'process', 'so', 'fr...</td>\n",
       "      <td>['assum', 'isobar', 'process', 'first', 'law',...</td>\n",
       "      <td>assum isobar process first law du q w q du w n...</td>\n",
       "      <td>heat</td>\n",
       "      <td>NS</td>\n",
       "      <td>NS162</td>\n",
       "      <td>86.37</td>\n",
       "      <td>7.9</td>\n",
       "      <td>10.80</td>\n",
       "      <td>0.0</td>\n",
       "      <td>6.9</td>\n",
       "      <td>1.29</td>\n",
       "      <td>14.92</td>\n",
       "      <td>13.5</td>\n",
       "    </tr>\n",
       "    <tr>\n",
       "      <th>181460</th>\n",
       "      <td>305203</td>\n",
       "      <td>B = PAQ\\n\\nThe reason is P transforms S to S',...</td>\n",
       "      <td>#Transformations</td>\n",
       "      <td>4</td>\n",
       "      <td>14433</td>\n",
       "      <td>['B', 'PAQ', 'The', 'reason', 'is', 'P', 'tran...</td>\n",
       "      <td>['b', 'paq', 'the', 'reason', 'is', 'p', 'tran...</td>\n",
       "      <td>['b', 'paq', 'reason', 'p', 'transform', \"s'\",...</td>\n",
       "      <td>b paq reason p transform s' repres linear tran...</td>\n",
       "      <td>transformationapplication</td>\n",
       "      <td>CS</td>\n",
       "      <td>CS111B</td>\n",
       "      <td>44.75</td>\n",
       "      <td>17.7</td>\n",
       "      <td>19.06</td>\n",
       "      <td>0.0</td>\n",
       "      <td>20.1</td>\n",
       "      <td>7.62</td>\n",
       "      <td>13.11</td>\n",
       "      <td>23.5</td>\n",
       "    </tr>\n",
       "    <tr>\n",
       "      <th>181500</th>\n",
       "      <td>305210</td>\n",
       "      <td>In order to change from one basis to another w...</td>\n",
       "      <td>#Transformations</td>\n",
       "      <td>4</td>\n",
       "      <td>14435</td>\n",
       "      <td>['In', 'order', 'to', 'change', 'from', 'one',...</td>\n",
       "      <td>['in', 'order', 'to', 'chang', 'from', 'one', ...</td>\n",
       "      <td>['order', 'chang', 'one', 'basi', 'anoth', 'ne...</td>\n",
       "      <td>order chang one basi anoth need put known basi...</td>\n",
       "      <td>transformationapplication</td>\n",
       "      <td>CS</td>\n",
       "      <td>CS111B</td>\n",
       "      <td>35.96</td>\n",
       "      <td>23.2</td>\n",
       "      <td>24.67</td>\n",
       "      <td>0.0</td>\n",
       "      <td>26.6</td>\n",
       "      <td>5.76</td>\n",
       "      <td>12.14</td>\n",
       "      <td>31.0</td>\n",
       "    </tr>\n",
       "    <tr>\n",
       "      <th>181502</th>\n",
       "      <td>305210</td>\n",
       "      <td>vectors S' are linearly independent and span ...</td>\n",
       "      <td>#Transformations</td>\n",
       "      <td>4</td>\n",
       "      <td>14435</td>\n",
       "      <td>['vectors', \"S'\", 'are', 'linearly', 'independ...</td>\n",
       "      <td>['vector', \"s'\", 'are', 'linear', 'independ', ...</td>\n",
       "      <td>['vector', \"s'\", 'linear', 'independ', 'span',...</td>\n",
       "      <td>vector s' linear independ span p form basi p s...</td>\n",
       "      <td>transformationapplication</td>\n",
       "      <td>CS</td>\n",
       "      <td>CS111B</td>\n",
       "      <td>57.61</td>\n",
       "      <td>10.7</td>\n",
       "      <td>12.44</td>\n",
       "      <td>0.0</td>\n",
       "      <td>11.2</td>\n",
       "      <td>8.53</td>\n",
       "      <td>13.34</td>\n",
       "      <td>13.0</td>\n",
       "    </tr>\n",
       "  </tbody>\n",
       "</table>\n",
       "<p>1005 rows × 20 columns</p>\n",
       "</div>"
      ],
      "text/plain": [
       "        Polls ID                            Poll Responses Response  \\\n",
       "755        44845  Prediction. In today's world, causal inferece ...   \n",
       "958        88971  / pick a appropriate type of distribution (e.g...   \n",
       "999        92211  To be honest, I don't know how to do it mathem...   \n",
       "1000       92211  p(theta, theta|y) = p(y|theta, theta) * P(thet...   \n",
       "1008       92211  To derive the marginal posterior dist. over th...   \n",
       "...          ...                                                ...   \n",
       "180467    304985  P()/P() = e^{(.x^{-}*.*)/(*.x^{-})} = .\\nIndir...   \n",
       "181165    298114  Assuming an isobaric process, so from the firs...   \n",
       "181460    305203  B = PAQ\\n\\nThe reason is P transforms S to S',...   \n",
       "181500    305210  In order to change from one basis to another w...   \n",
       "181502    305210   vectors S' are linearly independent and span ...   \n",
       "\n",
       "       Assessment reports Hashtag  Assessment reports Score  time_stamp  \\\n",
       "755            #decisioninference                         3         480   \n",
       "958               #exactinference                         4        1810   \n",
       "999               #exactinference                         1        2205   \n",
       "1000              #exactinference                         1        2205   \n",
       "1008              #exactinference                         2        2205   \n",
       "...                           ...                       ...         ...   \n",
       "180467    #StatisticalEquilibrium                         4       14422   \n",
       "181165                      #Heat                         3       14054   \n",
       "181460           #Transformations                         4       14433   \n",
       "181500           #Transformations                         4       14435   \n",
       "181502           #Transformations                         4       14435   \n",
       "\n",
       "                                      tokenized_responses  \\\n",
       "755     ['Prediction', 'In', \"today's\", 'world', 'caus...   \n",
       "958     ['pick', 'a', 'appropriate', 'type', 'of', 'di...   \n",
       "999     ['To', 'be', 'honest', 'I', \"don't\", 'know', '...   \n",
       "1000    ['p', 'theta', 'theta', 'y', 'p', 'y', 'theta'...   \n",
       "1008    ['To', 'derive', 'the', 'marginal', 'posterior...   \n",
       "...                                                   ...   \n",
       "180467  ['P', 'P', 'e', 'x', 'x', 'Indirectly', 'yes',...   \n",
       "181165  ['Assuming', 'an', 'isobaric', 'process', 'so'...   \n",
       "181460  ['B', 'PAQ', 'The', 'reason', 'is', 'P', 'tran...   \n",
       "181500  ['In', 'order', 'to', 'change', 'from', 'one',...   \n",
       "181502  ['vectors', \"S'\", 'are', 'linearly', 'independ...   \n",
       "\n",
       "                                        stemmed_responses  \\\n",
       "755     ['predict', 'in', 'today', 'world', 'causal', ...   \n",
       "958     ['pick', 'a', 'appropri', 'type', 'of', 'distr...   \n",
       "999     ['to', 'be', 'honest', 'i', \"don't\", 'know', '...   \n",
       "1000    ['p', 'theta', 'theta', 'y', 'p', 'y', 'theta'...   \n",
       "1008    ['to', 'deriv', 'the', 'margin', 'posterior', ...   \n",
       "...                                                   ...   \n",
       "180467  ['p', 'p', 'e', 'x', 'x', 'indirect', 'yes', '...   \n",
       "181165  ['assum', 'an', 'isobar', 'process', 'so', 'fr...   \n",
       "181460  ['b', 'paq', 'the', 'reason', 'is', 'p', 'tran...   \n",
       "181500  ['in', 'order', 'to', 'chang', 'from', 'one', ...   \n",
       "181502  ['vector', \"s'\", 'are', 'linear', 'independ', ...   \n",
       "\n",
       "                                          clean_responses  \\\n",
       "755     ['predict', 'today', 'world', 'causal', 'infer...   \n",
       "958     ['pick', 'appropri', 'type', 'distribut', 'e',...   \n",
       "999     ['honest', 'know', 'mathemat', 'scratch', 'bas...   \n",
       "1000    ['p', 'theta', 'theta', 'p', 'theta', 'theta',...   \n",
       "1008    ['deriv', 'margin', 'posterior', 'dist', 'thet...   \n",
       "...                                                   ...   \n",
       "180467  ['p', 'p', 'e', 'x', 'x', 'indirect', 'yes', '...   \n",
       "181165  ['assum', 'isobar', 'process', 'first', 'law',...   \n",
       "181460  ['b', 'paq', 'reason', 'p', 'transform', \"s'\",...   \n",
       "181500  ['order', 'chang', 'one', 'basi', 'anoth', 'ne...   \n",
       "181502  ['vector', \"s'\", 'linear', 'independ', 'span',...   \n",
       "\n",
       "                                                   string  \\\n",
       "755     predict today world causal inferec realli unim...   \n",
       "958     pick appropri type distribut e g beta figur pa...   \n",
       "999     honest know mathemat scratch basic idea p thet...   \n",
       "1000    p theta theta p theta theta p theta theta e at...   \n",
       "1008    deriv margin posterior dist theta need integr ...   \n",
       "...                                                   ...   \n",
       "180467  p p e x x indirect yes sinc gpe determin heigh...   \n",
       "181165  assum isobar process first law du q w q du w n...   \n",
       "181460  b paq reason p transform s' repres linear tran...   \n",
       "181500  order chang one basi anoth need put known basi...   \n",
       "181502  vector s' linear independ span p form basi p s...   \n",
       "\n",
       "                         LOs/ HCs College  Course  flesch_reading_ease  \\\n",
       "755             decisioninference      CS   CS112                13.96   \n",
       "958             decisioninference      CS   CS112                31.89   \n",
       "999             decisioninference      CS   CS112                60.99   \n",
       "1000            decisioninference      CS   CS112                93.82   \n",
       "1008            decisioninference      CS   CS112                47.12   \n",
       "...                           ...     ...     ...                  ...   \n",
       "180467     statisticalequilibrium      NS   NS162                54.22   \n",
       "181165                       heat      NS   NS162                86.37   \n",
       "181460  transformationapplication      CS  CS111B                44.75   \n",
       "181500  transformationapplication      CS  CS111B                35.96   \n",
       "181502  transformationapplication      CS  CS111B                57.61   \n",
       "\n",
       "        flesch_kincaid_grade  gunning_fog  smog_index  \\\n",
       "755                     21.3        22.00         0.0   \n",
       "958                     18.5        18.68         0.0   \n",
       "999                     11.5        13.76         0.0   \n",
       "1000                     7.1        11.20         0.0   \n",
       "1008                    12.7        12.93         0.0   \n",
       "...                      ...          ...         ...   \n",
       "180467                   9.9        16.21         0.0   \n",
       "181165                   7.9        10.80         0.0   \n",
       "181460                  17.7        19.06         0.0   \n",
       "181500                  23.2        24.67         0.0   \n",
       "181502                  10.7        12.44         0.0   \n",
       "\n",
       "        automated_readability_index  coleman_liau_index  \\\n",
       "755                            25.4               16.37   \n",
       "958                            19.2                9.35   \n",
       "999                            14.6               10.74   \n",
       "1000                            8.2                2.27   \n",
       "1008                           12.0                9.35   \n",
       "...                             ...                 ...   \n",
       "180467                          9.3                9.74   \n",
       "181165                          6.9                1.29   \n",
       "181460                         20.1                7.62   \n",
       "181500                         26.6                5.76   \n",
       "181502                         11.2                8.53   \n",
       "\n",
       "        dale_chall_readability_score  linsear_write_formula  \n",
       "755                            14.70                   26.0  \n",
       "958                            14.88                   22.5  \n",
       "999                            10.82                   15.5  \n",
       "1000                            9.54                   14.0  \n",
       "1008                           13.38                   16.0  \n",
       "...                              ...                    ...  \n",
       "180467                         15.63                   12.5  \n",
       "181165                         14.92                   13.5  \n",
       "181460                         13.11                   23.5  \n",
       "181500                         12.14                   31.0  \n",
       "181502                         13.34                   13.0  \n",
       "\n",
       "[1005 rows x 20 columns]"
      ]
     },
     "execution_count": 30,
     "metadata": {},
     "output_type": "execute_result"
    }
   ],
   "source": [
    "math_texts = df[(df['Poll Responses Response'].str.contains('P\\('))]\n",
    "math_texts "
   ]
  },
  {
   "cell_type": "code",
   "execution_count": 31,
   "metadata": {},
   "outputs": [
    {
     "data": {
      "text/html": [
       "<div>\n",
       "<style scoped>\n",
       "    .dataframe tbody tr th:only-of-type {\n",
       "        vertical-align: middle;\n",
       "    }\n",
       "\n",
       "    .dataframe tbody tr th {\n",
       "        vertical-align: top;\n",
       "    }\n",
       "\n",
       "    .dataframe thead th {\n",
       "        text-align: right;\n",
       "    }\n",
       "</style>\n",
       "<table border=\"1\" class=\"dataframe\">\n",
       "  <thead>\n",
       "    <tr style=\"text-align: right;\">\n",
       "      <th></th>\n",
       "      <th>Polls ID</th>\n",
       "      <th>Poll Responses Response</th>\n",
       "      <th>Assessment reports Hashtag</th>\n",
       "      <th>Assessment reports Score</th>\n",
       "      <th>time_stamp</th>\n",
       "      <th>tokenized_responses</th>\n",
       "      <th>stemmed_responses</th>\n",
       "      <th>clean_responses</th>\n",
       "      <th>string</th>\n",
       "      <th>LOs/ HCs</th>\n",
       "      <th>College</th>\n",
       "      <th>Course</th>\n",
       "      <th>flesch_reading_ease</th>\n",
       "      <th>flesch_kincaid_grade</th>\n",
       "      <th>gunning_fog</th>\n",
       "      <th>smog_index</th>\n",
       "      <th>automated_readability_index</th>\n",
       "      <th>coleman_liau_index</th>\n",
       "      <th>dale_chall_readability_score</th>\n",
       "      <th>linsear_write_formula</th>\n",
       "    </tr>\n",
       "  </thead>\n",
       "  <tbody>\n",
       "    <tr>\n",
       "      <th>15413</th>\n",
       "      <td>88603</td>\n",
       "      <td>def maximum_subarray(a):\\n    if len(a) == :\\n...</td>\n",
       "      <td>#complexity</td>\n",
       "      <td>4</td>\n",
       "      <td>1774</td>\n",
       "      <td>['def', 'maximum_subarray', 'a', 'if', 'len', ...</td>\n",
       "      <td>['def', 'maximum_subarray', 'a', 'if', 'len', ...</td>\n",
       "      <td>['def', 'maximum_subarray', 'len', 'rais', 'va...</td>\n",
       "      <td>def maximum_subarray len rais valueerror begin...</td>\n",
       "      <td>complexity</td>\n",
       "      <td>CS</td>\n",
       "      <td>CS142</td>\n",
       "      <td>21.74</td>\n",
       "      <td>16.2</td>\n",
       "      <td>14.60</td>\n",
       "      <td>0.0</td>\n",
       "      <td>15.3</td>\n",
       "      <td>13.47</td>\n",
       "      <td>9.43</td>\n",
       "      <td>18.0</td>\n",
       "    </tr>\n",
       "    <tr>\n",
       "      <th>15425</th>\n",
       "      <td>88603</td>\n",
       "      <td>def bruteforce_Max(array):\\nfor i in (array):\\...</td>\n",
       "      <td>#complexity</td>\n",
       "      <td>2</td>\n",
       "      <td>1774</td>\n",
       "      <td>['def', 'bruteforce_Max', 'array', 'for', 'i',...</td>\n",
       "      <td>['def', 'bruteforce_max', 'array', 'for', 'i',...</td>\n",
       "      <td>['def', 'bruteforce_max', 'array', 'array', 'j...</td>\n",
       "      <td>def bruteforce_max array array j dictionari j ...</td>\n",
       "      <td>complexity</td>\n",
       "      <td>CS</td>\n",
       "      <td>CS142</td>\n",
       "      <td>35.95</td>\n",
       "      <td>10.7</td>\n",
       "      <td>12.00</td>\n",
       "      <td>0.0</td>\n",
       "      <td>12.3</td>\n",
       "      <td>16.62</td>\n",
       "      <td>13.61</td>\n",
       "      <td>7.0</td>\n",
       "    </tr>\n",
       "    <tr>\n",
       "      <th>15460</th>\n",
       "      <td>90359</td>\n",
       "      <td>def incremental_max_subarray(x,mx):\\n    maxim...</td>\n",
       "      <td>#complexity</td>\n",
       "      <td>3</td>\n",
       "      <td>1889</td>\n",
       "      <td>['def', 'incremental_max_subarray', 'x', 'mx',...</td>\n",
       "      <td>['def', 'incremental_max_subarray', 'x', 'mx',...</td>\n",
       "      <td>['def', 'incremental_max_subarray', 'x', 'mx',...</td>\n",
       "      <td>def incremental_max_subarray x mx maximum mx z...</td>\n",
       "      <td>complexity</td>\n",
       "      <td>CS</td>\n",
       "      <td>CS142</td>\n",
       "      <td>38.66</td>\n",
       "      <td>13.8</td>\n",
       "      <td>12.93</td>\n",
       "      <td>0.0</td>\n",
       "      <td>8.8</td>\n",
       "      <td>5.52</td>\n",
       "      <td>9.43</td>\n",
       "      <td>17.0</td>\n",
       "    </tr>\n",
       "    <tr>\n",
       "      <th>15462</th>\n",
       "      <td>90359</td>\n",
       "      <td>#incremental dint work\\ndef max_crossing_subar...</td>\n",
       "      <td>#complexity</td>\n",
       "      <td>1</td>\n",
       "      <td>1889</td>\n",
       "      <td>['incremental', 'dint', 'work', 'def', 'max_cr...</td>\n",
       "      <td>['increment', 'dint', 'work', 'def', 'max_cros...</td>\n",
       "      <td>['increment', 'dint', 'work', 'def', 'max_cros...</td>\n",
       "      <td>increment dint work def max_crossing_subarray ...</td>\n",
       "      <td>complexity</td>\n",
       "      <td>CS</td>\n",
       "      <td>CS142</td>\n",
       "      <td>40.02</td>\n",
       "      <td>21.6</td>\n",
       "      <td>24.54</td>\n",
       "      <td>0.0</td>\n",
       "      <td>29.4</td>\n",
       "      <td>11.45</td>\n",
       "      <td>10.36</td>\n",
       "      <td>32.0</td>\n",
       "    </tr>\n",
       "    <tr>\n",
       "      <th>15511</th>\n",
       "      <td>90367</td>\n",
       "      <td>def incremental_max_subarray(x, mx):\\n    max_...</td>\n",
       "      <td>#complexity</td>\n",
       "      <td>2</td>\n",
       "      <td>1892</td>\n",
       "      <td>['def', 'incremental_max_subarray', 'x', 'mx',...</td>\n",
       "      <td>['def', 'incremental_max_subarray', 'x', 'mx',...</td>\n",
       "      <td>['def', 'incremental_max_subarray', 'x', 'mx',...</td>\n",
       "      <td>def incremental_max_subarray x mx max_sum star...</td>\n",
       "      <td>complexity</td>\n",
       "      <td>CS</td>\n",
       "      <td>CS142</td>\n",
       "      <td>-12.45</td>\n",
       "      <td>25.2</td>\n",
       "      <td>22.25</td>\n",
       "      <td>0.0</td>\n",
       "      <td>33.4</td>\n",
       "      <td>25.89</td>\n",
       "      <td>12.22</td>\n",
       "      <td>29.5</td>\n",
       "    </tr>\n",
       "    <tr>\n",
       "      <th>...</th>\n",
       "      <td>...</td>\n",
       "      <td>...</td>\n",
       "      <td>...</td>\n",
       "      <td>...</td>\n",
       "      <td>...</td>\n",
       "      <td>...</td>\n",
       "      <td>...</td>\n",
       "      <td>...</td>\n",
       "      <td>...</td>\n",
       "      <td>...</td>\n",
       "      <td>...</td>\n",
       "      <td>...</td>\n",
       "      <td>...</td>\n",
       "      <td>...</td>\n",
       "      <td>...</td>\n",
       "      <td>...</td>\n",
       "      <td>...</td>\n",
       "      <td>...</td>\n",
       "      <td>...</td>\n",
       "      <td>...</td>\n",
       "    </tr>\n",
       "    <tr>\n",
       "      <th>181311</th>\n",
       "      <td>297148</td>\n",
       "      <td>a x matrix, A, having rank  suggest that there...</td>\n",
       "      <td>#Transformations</td>\n",
       "      <td>4</td>\n",
       "      <td>13945</td>\n",
       "      <td>['a', 'x', 'matrix', 'A', 'having', 'rank', 's...</td>\n",
       "      <td>['a', 'x', 'matrix', 'a', 'have', 'rank', 'sug...</td>\n",
       "      <td>['x', 'matrix', 'rank', 'suggest', 'pivot', 'c...</td>\n",
       "      <td>x matrix rank suggest pivot column dim col kno...</td>\n",
       "      <td>transformationapplication</td>\n",
       "      <td>CS</td>\n",
       "      <td>CS111B</td>\n",
       "      <td>64.72</td>\n",
       "      <td>14.2</td>\n",
       "      <td>16.00</td>\n",
       "      <td>0.0</td>\n",
       "      <td>15.0</td>\n",
       "      <td>3.50</td>\n",
       "      <td>10.36</td>\n",
       "      <td>20.0</td>\n",
       "    </tr>\n",
       "    <tr>\n",
       "      <th>181378</th>\n",
       "      <td>303417</td>\n",
       "      <td>First we find the coordinates of the basis, by...</td>\n",
       "      <td>#Transformations</td>\n",
       "      <td>3</td>\n",
       "      <td>14344</td>\n",
       "      <td>['First', 'we', 'find', 'the', 'coordinates', ...</td>\n",
       "      <td>['first', 'we', 'find', 'the', 'coordin', 'of'...</td>\n",
       "      <td>['first', 'find', 'coordin', 'basi', 'augment'...</td>\n",
       "      <td>first find coordin basi augment basi vector ma...</td>\n",
       "      <td>transformationapplication</td>\n",
       "      <td>CS</td>\n",
       "      <td>CS111B</td>\n",
       "      <td>76.22</td>\n",
       "      <td>5.6</td>\n",
       "      <td>4.80</td>\n",
       "      <td>0.0</td>\n",
       "      <td>8.1</td>\n",
       "      <td>10.83</td>\n",
       "      <td>12.13</td>\n",
       "      <td>5.0</td>\n",
       "    </tr>\n",
       "    <tr>\n",
       "      <th>181518</th>\n",
       "      <td>305212</td>\n",
       "      <td>B = PAQ ==&gt; we have (Transform S'; B) = (S--&gt;S...</td>\n",
       "      <td>#Transformations</td>\n",
       "      <td>3</td>\n",
       "      <td>14436</td>\n",
       "      <td>['B', 'PAQ', 'we', 'have', 'Transform', \"S'\", ...</td>\n",
       "      <td>['b', 'paq', 'we', 'have', 'transform', \"s'\", ...</td>\n",
       "      <td>['b', 'paq', 'transform', \"s'\", 'b', \"s'\", 'p'...</td>\n",
       "      <td>b paq transform s' b s' p transform s' q thus ...</td>\n",
       "      <td>transformationapplication</td>\n",
       "      <td>CS</td>\n",
       "      <td>CS111B</td>\n",
       "      <td>85.02</td>\n",
       "      <td>6.4</td>\n",
       "      <td>8.00</td>\n",
       "      <td>0.0</td>\n",
       "      <td>4.6</td>\n",
       "      <td>0.99</td>\n",
       "      <td>10.16</td>\n",
       "      <td>9.0</td>\n",
       "    </tr>\n",
       "    <tr>\n",
       "      <th>181566</th>\n",
       "      <td>318008</td>\n",
       "      <td>It can because it will have  eigenvectors. If ...</td>\n",
       "      <td>#Transformations</td>\n",
       "      <td>3</td>\n",
       "      <td>15105</td>\n",
       "      <td>['It', 'can', 'because', 'it', 'will', 'have',...</td>\n",
       "      <td>['it', 'can', 'becaus', 'it', 'will', 'have', ...</td>\n",
       "      <td>['becaus', 'eigenvector', 'matrix', 'column', ...</td>\n",
       "      <td>becaus eigenvector matrix column vector equal ...</td>\n",
       "      <td>transformationapplication</td>\n",
       "      <td>CS</td>\n",
       "      <td>CS111B</td>\n",
       "      <td>17.68</td>\n",
       "      <td>17.8</td>\n",
       "      <td>14.06</td>\n",
       "      <td>0.0</td>\n",
       "      <td>17.6</td>\n",
       "      <td>13.87</td>\n",
       "      <td>13.48</td>\n",
       "      <td>18.0</td>\n",
       "    </tr>\n",
       "    <tr>\n",
       "      <th>181615</th>\n",
       "      <td>318034</td>\n",
       "      <td>When we raise a matrix to a power, the eigenve...</td>\n",
       "      <td>#Transformations</td>\n",
       "      <td>3</td>\n",
       "      <td>15108</td>\n",
       "      <td>['When', 'we', 'raise', 'a', 'matrix', 'to', '...</td>\n",
       "      <td>['when', 'we', 'rais', 'a', 'matrix', 'to', 'a...</td>\n",
       "      <td>['rais', 'matrix', 'power', 'eigenvector', 'ma...</td>\n",
       "      <td>rais matrix power eigenvector maintain eigenve...</td>\n",
       "      <td>transformationapplication</td>\n",
       "      <td>CS</td>\n",
       "      <td>CS111B</td>\n",
       "      <td>44.07</td>\n",
       "      <td>13.8</td>\n",
       "      <td>12.28</td>\n",
       "      <td>0.0</td>\n",
       "      <td>18.6</td>\n",
       "      <td>15.67</td>\n",
       "      <td>11.99</td>\n",
       "      <td>16.5</td>\n",
       "    </tr>\n",
       "  </tbody>\n",
       "</table>\n",
       "<p>353 rows × 20 columns</p>\n",
       "</div>"
      ],
      "text/plain": [
       "        Polls ID                            Poll Responses Response  \\\n",
       "15413      88603  def maximum_subarray(a):\\n    if len(a) == :\\n...   \n",
       "15425      88603  def bruteforce_Max(array):\\nfor i in (array):\\...   \n",
       "15460      90359  def incremental_max_subarray(x,mx):\\n    maxim...   \n",
       "15462      90359  #incremental dint work\\ndef max_crossing_subar...   \n",
       "15511      90367  def incremental_max_subarray(x, mx):\\n    max_...   \n",
       "...          ...                                                ...   \n",
       "181311    297148  a x matrix, A, having rank  suggest that there...   \n",
       "181378    303417  First we find the coordinates of the basis, by...   \n",
       "181518    305212  B = PAQ ==> we have (Transform S'; B) = (S-->S...   \n",
       "181566    318008  It can because it will have  eigenvectors. If ...   \n",
       "181615    318034  When we raise a matrix to a power, the eigenve...   \n",
       "\n",
       "       Assessment reports Hashtag  Assessment reports Score  time_stamp  \\\n",
       "15413                 #complexity                         4        1774   \n",
       "15425                 #complexity                         2        1774   \n",
       "15460                 #complexity                         3        1889   \n",
       "15462                 #complexity                         1        1889   \n",
       "15511                 #complexity                         2        1892   \n",
       "...                           ...                       ...         ...   \n",
       "181311           #Transformations                         4       13945   \n",
       "181378           #Transformations                         3       14344   \n",
       "181518           #Transformations                         3       14436   \n",
       "181566           #Transformations                         3       15105   \n",
       "181615           #Transformations                         3       15108   \n",
       "\n",
       "                                      tokenized_responses  \\\n",
       "15413   ['def', 'maximum_subarray', 'a', 'if', 'len', ...   \n",
       "15425   ['def', 'bruteforce_Max', 'array', 'for', 'i',...   \n",
       "15460   ['def', 'incremental_max_subarray', 'x', 'mx',...   \n",
       "15462   ['incremental', 'dint', 'work', 'def', 'max_cr...   \n",
       "15511   ['def', 'incremental_max_subarray', 'x', 'mx',...   \n",
       "...                                                   ...   \n",
       "181311  ['a', 'x', 'matrix', 'A', 'having', 'rank', 's...   \n",
       "181378  ['First', 'we', 'find', 'the', 'coordinates', ...   \n",
       "181518  ['B', 'PAQ', 'we', 'have', 'Transform', \"S'\", ...   \n",
       "181566  ['It', 'can', 'because', 'it', 'will', 'have',...   \n",
       "181615  ['When', 'we', 'raise', 'a', 'matrix', 'to', '...   \n",
       "\n",
       "                                        stemmed_responses  \\\n",
       "15413   ['def', 'maximum_subarray', 'a', 'if', 'len', ...   \n",
       "15425   ['def', 'bruteforce_max', 'array', 'for', 'i',...   \n",
       "15460   ['def', 'incremental_max_subarray', 'x', 'mx',...   \n",
       "15462   ['increment', 'dint', 'work', 'def', 'max_cros...   \n",
       "15511   ['def', 'incremental_max_subarray', 'x', 'mx',...   \n",
       "...                                                   ...   \n",
       "181311  ['a', 'x', 'matrix', 'a', 'have', 'rank', 'sug...   \n",
       "181378  ['first', 'we', 'find', 'the', 'coordin', 'of'...   \n",
       "181518  ['b', 'paq', 'we', 'have', 'transform', \"s'\", ...   \n",
       "181566  ['it', 'can', 'becaus', 'it', 'will', 'have', ...   \n",
       "181615  ['when', 'we', 'rais', 'a', 'matrix', 'to', 'a...   \n",
       "\n",
       "                                          clean_responses  \\\n",
       "15413   ['def', 'maximum_subarray', 'len', 'rais', 'va...   \n",
       "15425   ['def', 'bruteforce_max', 'array', 'array', 'j...   \n",
       "15460   ['def', 'incremental_max_subarray', 'x', 'mx',...   \n",
       "15462   ['increment', 'dint', 'work', 'def', 'max_cros...   \n",
       "15511   ['def', 'incremental_max_subarray', 'x', 'mx',...   \n",
       "...                                                   ...   \n",
       "181311  ['x', 'matrix', 'rank', 'suggest', 'pivot', 'c...   \n",
       "181378  ['first', 'find', 'coordin', 'basi', 'augment'...   \n",
       "181518  ['b', 'paq', 'transform', \"s'\", 'b', \"s'\", 'p'...   \n",
       "181566  ['becaus', 'eigenvector', 'matrix', 'column', ...   \n",
       "181615  ['rais', 'matrix', 'power', 'eigenvector', 'ma...   \n",
       "\n",
       "                                                   string  \\\n",
       "15413   def maximum_subarray len rais valueerror begin...   \n",
       "15425   def bruteforce_max array array j dictionari j ...   \n",
       "15460   def incremental_max_subarray x mx maximum mx z...   \n",
       "15462   increment dint work def max_crossing_subarray ...   \n",
       "15511   def incremental_max_subarray x mx max_sum star...   \n",
       "...                                                   ...   \n",
       "181311  x matrix rank suggest pivot column dim col kno...   \n",
       "181378  first find coordin basi augment basi vector ma...   \n",
       "181518  b paq transform s' b s' p transform s' q thus ...   \n",
       "181566  becaus eigenvector matrix column vector equal ...   \n",
       "181615  rais matrix power eigenvector maintain eigenve...   \n",
       "\n",
       "                         LOs/ HCs College  Course  flesch_reading_ease  \\\n",
       "15413                  complexity      CS   CS142                21.74   \n",
       "15425                  complexity      CS   CS142                35.95   \n",
       "15460                  complexity      CS   CS142                38.66   \n",
       "15462                  complexity      CS   CS142                40.02   \n",
       "15511                  complexity      CS   CS142               -12.45   \n",
       "...                           ...     ...     ...                  ...   \n",
       "181311  transformationapplication      CS  CS111B                64.72   \n",
       "181378  transformationapplication      CS  CS111B                76.22   \n",
       "181518  transformationapplication      CS  CS111B                85.02   \n",
       "181566  transformationapplication      CS  CS111B                17.68   \n",
       "181615  transformationapplication      CS  CS111B                44.07   \n",
       "\n",
       "        flesch_kincaid_grade  gunning_fog  smog_index  \\\n",
       "15413                   16.2        14.60         0.0   \n",
       "15425                   10.7        12.00         0.0   \n",
       "15460                   13.8        12.93         0.0   \n",
       "15462                   21.6        24.54         0.0   \n",
       "15511                   25.2        22.25         0.0   \n",
       "...                      ...          ...         ...   \n",
       "181311                  14.2        16.00         0.0   \n",
       "181378                   5.6         4.80         0.0   \n",
       "181518                   6.4         8.00         0.0   \n",
       "181566                  17.8        14.06         0.0   \n",
       "181615                  13.8        12.28         0.0   \n",
       "\n",
       "        automated_readability_index  coleman_liau_index  \\\n",
       "15413                          15.3               13.47   \n",
       "15425                          12.3               16.62   \n",
       "15460                           8.8                5.52   \n",
       "15462                          29.4               11.45   \n",
       "15511                          33.4               25.89   \n",
       "...                             ...                 ...   \n",
       "181311                         15.0                3.50   \n",
       "181378                          8.1               10.83   \n",
       "181518                          4.6                0.99   \n",
       "181566                         17.6               13.87   \n",
       "181615                         18.6               15.67   \n",
       "\n",
       "        dale_chall_readability_score  linsear_write_formula  \n",
       "15413                           9.43                   18.0  \n",
       "15425                          13.61                    7.0  \n",
       "15460                           9.43                   17.0  \n",
       "15462                          10.36                   32.0  \n",
       "15511                          12.22                   29.5  \n",
       "...                              ...                    ...  \n",
       "181311                         10.36                   20.0  \n",
       "181378                         12.13                    5.0  \n",
       "181518                         10.16                    9.0  \n",
       "181566                         13.48                   18.0  \n",
       "181615                         11.99                   16.5  \n",
       "\n",
       "[353 rows x 20 columns]"
      ]
     },
     "execution_count": 31,
     "metadata": {},
     "output_type": "execute_result"
    }
   ],
   "source": [
    "code_texts = df[(df['Poll Responses Response'].str.contains('==')) & (df['College']=='CS')]\n",
    "\n",
    "# df1 = df[(df.a != -1) & (df.b != -1)]\n",
    "\n",
    "code_texts\n"
   ]
  },
  {
   "cell_type": "code",
   "execution_count": 32,
   "metadata": {},
   "outputs": [],
   "source": [
    "code_http_math_texts = pd.concat([code_texts, http_texts, math_texts])\n",
    "code_http_texts = pd.concat([code_texts, http_texts])\n"
   ]
  },
  {
   "cell_type": "code",
   "execution_count": 33,
   "metadata": {},
   "outputs": [],
   "source": [
    "#convert into a csv\n",
    "compression_opts = dict(method='zip',\n",
    "                        archive_name='code_http_math_texts.csv')  \n",
    "code_http_math_texts.to_csv('code_http_math_texts.zip', index=False,\n",
    "          compression=compression_opts)  "
   ]
  },
  {
   "cell_type": "code",
   "execution_count": 34,
   "metadata": {},
   "outputs": [],
   "source": [
    "#convert into a csv\n",
    "compression_opts = dict(method='zip',\n",
    "                        archive_name='math_texts.csv')  \n",
    "math_texts.to_csv('math_texts.zip', index=False,\n",
    "          compression=compression_opts)  "
   ]
  },
  {
   "cell_type": "code",
   "execution_count": 35,
   "metadata": {},
   "outputs": [],
   "source": [
    "writing_texts = df[df['LOs/ HCs'] == 'composition']"
   ]
  },
  {
   "cell_type": "code",
   "execution_count": 36,
   "metadata": {},
   "outputs": [],
   "source": [
    "code_http_math_texts = code_http_math_texts[code_http_math_texts['Assessment reports Score'].notnull()]\n",
    "code_http_math_texts = code_http_math_texts[code_http_math_texts['dale_chall_readability_score'].notnull()]"
   ]
  },
  {
   "cell_type": "code",
   "execution_count": 37,
   "metadata": {},
   "outputs": [],
   "source": [
    "code_http_texts = code_http_texts[code_http_texts['Assessment reports Score'].notnull()]\n",
    "code_http_texts = code_http_texts[code_http_texts['dale_chall_readability_score'].notnull()]"
   ]
  },
  {
   "cell_type": "code",
   "execution_count": 38,
   "metadata": {},
   "outputs": [],
   "source": [
    "writing_texts = writing_texts[writing_texts['Assessment reports Score'].notnull()]\n",
    "writing_texts = writing_texts[writing_texts['dale_chall_readability_score'].notnull()]"
   ]
  },
  {
   "cell_type": "code",
   "execution_count": 70,
   "metadata": {},
   "outputs": [],
   "source": [
    "throw_away = pd.concat([code_http_math_texts, writing_texts]).index\n",
    "the_rest_texts = df[~df.index.isin(throw_away)]"
   ]
  },
  {
   "cell_type": "code",
   "execution_count": 71,
   "metadata": {},
   "outputs": [
    {
     "data": {
      "text/plain": [
       "(1460, 1358, 353, 176973)"
      ]
     },
     "execution_count": 71,
     "metadata": {},
     "output_type": "execute_result"
    }
   ],
   "source": [
    "len(writing_texts), len(code_http_math_texts), len(code_http_texts), len(the_rest_texts)"
   ]
  },
  {
   "cell_type": "markdown",
   "metadata": {},
   "source": [
    "# Code + Http"
   ]
  },
  {
   "cell_type": "code",
   "execution_count": 40,
   "metadata": {},
   "outputs": [],
   "source": [
    "import matplotlib.pyplot as plt\n",
    "import seaborn as sns"
   ]
  },
  {
   "cell_type": "code",
   "execution_count": 41,
   "metadata": {},
   "outputs": [],
   "source": [
    "import scipy.stats as sts\n",
    "def correlation_comparison(dataset, y_column): \n",
    "    x= np.array(dataset['Assessment reports Score']) \n",
    "    y = np.array(dataset[y_column])\n",
    "\n",
    "    code_coef = np.corrcoef(x, y)\n",
    "    r_pear, p_pear = sts.pearsonr(x, y)\n",
    "    r_spear, p_spear = sts.spearmanr(x, y)\n",
    "    r_kend, p_kend = sts.kendalltau(x, y)\n",
    "\n",
    "    r_z = np.arctanh(r_pear)\n",
    "\n",
    "    print(f'The correlation between Assessment reports Score and {y_column}')\n",
    "    print(f'Person r and p value:{r_pear, p_pear}')\n",
    "    print(f'Spearman r and p value:{r_spear, p_spear}')\n",
    "    print(f'Kendalltau r and p value:{r_kend, p_kend}')\n",
    "    print(f'Fisher z-transformation value:{r_z}')\n",
    "\n",
    "    sns.set_palette('rainbow')\n",
    "\n",
    "    sns.boxplot(x=x, y=y)"
   ]
  },
  {
   "cell_type": "code",
   "execution_count": 42,
   "metadata": {},
   "outputs": [
    {
     "name": "stdout",
     "output_type": "stream",
     "text": [
      "The correlation between Assessment reports Score and dale_chall_readability_score\n",
      "Person r and p value:(0.030436007698720367, 0.5687153500899164)\n",
      "Spearman r and p value:(-0.007682363972076943, 0.8856357481415387)\n",
      "Kendalltau r and p value:(-0.0053763695695082025, 0.8953914429480333)\n",
      "Fisher z-transformation value:0.030445411063400256\n"
     ]
    },
    {
     "data": {
      "image/png": "[encoded data removed]",
      "text/plain": [
       "<Figure size 432x288 with 1 Axes>"
      ]
     },
     "metadata": {
      "needs_background": "light"
     },
     "output_type": "display_data"
    }
   ],
   "source": [
    "correlation_comparison(code_http_texts, 'dale_chall_readability_score')"
   ]
  },
  {
   "cell_type": "code",
   "execution_count": 59,
   "metadata": {},
   "outputs": [
    {
     "data": {
      "text/plain": [
       "1460"
      ]
     },
     "execution_count": 59,
     "metadata": {},
     "output_type": "execute_result"
    }
   ],
   "source": [
    "len(writing_texts)"
   ]
  },
  {
   "cell_type": "code",
   "execution_count": 43,
   "metadata": {},
   "outputs": [
    {
     "name": "stdout",
     "output_type": "stream",
     "text": [
      "The correlation between Assessment reports Score and automated_readability_index\n",
      "Person r and p value:(0.10341872934891848, 0.05221241564250686)\n",
      "Spearman r and p value:(0.06776849721011832, 0.20401372438859133)\n",
      "Kendalltau r and p value:(0.05144957435370321, 0.20845794754465918)\n",
      "Fisher z-transformation value:0.10378981635451298\n"
     ]
    },
    {
     "data": {
      "image/png": "[encoded data removed]",
      "text/plain": [
       "<Figure size 432x288 with 1 Axes>"
      ]
     },
     "metadata": {
      "needs_background": "light"
     },
     "output_type": "display_data"
    }
   ],
   "source": [
    "correlation_comparison(code_http_texts, 'automated_readability_index')"
   ]
  },
  {
   "cell_type": "markdown",
   "metadata": {},
   "source": [
    "# Code + Http + Math"
   ]
  },
  {
   "cell_type": "code",
   "execution_count": 44,
   "metadata": {},
   "outputs": [
    {
     "name": "stdout",
     "output_type": "stream",
     "text": [
      "The correlation between Assessment reports Score and dale_chall_readability_score\n",
      "Person r and p value:(0.08784641318297055, 0.0011931276599887115)\n",
      "Spearman r and p value:(0.09466092334777111, 0.00047764761002722745)\n",
      "Kendalltau r and p value:(0.07242579566459695, 0.0004966022473927192)\n",
      "Fisher z-transformation value:0.08807343530211162\n"
     ]
    },
    {
     "data": {
      "image/png": "[encoded data removed]",
      "text/plain": [
       "<Figure size 432x288 with 1 Axes>"
      ]
     },
     "metadata": {
      "needs_background": "light"
     },
     "output_type": "display_data"
    }
   ],
   "source": [
    "correlation_comparison(code_http_math_texts, 'dale_chall_readability_score')"
   ]
  },
  {
   "cell_type": "code",
   "execution_count": 45,
   "metadata": {},
   "outputs": [
    {
     "name": "stdout",
     "output_type": "stream",
     "text": [
      "The correlation between Assessment reports Score and automated_readability_index\n",
      "Person r and p value:(0.24787491090556618, 1.8424172905916107e-20)\n",
      "Spearman r and p value:(0.23746452538736687, 7.319151737072842e-19)\n",
      "Kendalltau r and p value:(0.18166306418471007, 2.4906737994952624e-18)\n",
      "Fisher z-transformation value:0.25314733013110285\n"
     ]
    },
    {
     "data": {
      "image/png": "[encoded data removed]",
      "text/plain": [
       "<Figure size 432x288 with 1 Axes>"
      ]
     },
     "metadata": {
      "needs_background": "light"
     },
     "output_type": "display_data"
    }
   ],
   "source": [
    "correlation_comparison(code_http_math_texts, 'automated_readability_index')"
   ]
  },
  {
   "cell_type": "markdown",
   "metadata": {},
   "source": [
    "# Writing "
   ]
  },
  {
   "cell_type": "code",
   "execution_count": 46,
   "metadata": {},
   "outputs": [
    {
     "name": "stdout",
     "output_type": "stream",
     "text": [
      "The correlation between Assessment reports Score and dale_chall_readability_score\n",
      "Person r and p value:(0.1182693243069195, 5.867600634263368e-06)\n",
      "Spearman r and p value:(0.10484637252715738, 5.974647177936407e-05)\n",
      "Kendalltau r and p value:(0.08263034478495357, 6.14372047098767e-05)\n",
      "Fisher z-transformation value:0.11882543499571896\n"
     ]
    },
    {
     "data": {
      "image/png": "[encoded data removed]",
      "text/plain": [
       "<Figure size 432x288 with 1 Axes>"
      ]
     },
     "metadata": {
      "needs_background": "light"
     },
     "output_type": "display_data"
    }
   ],
   "source": [
    "correlation_comparison(writing_texts, 'dale_chall_readability_score')"
   ]
  },
  {
   "cell_type": "code",
   "execution_count": 47,
   "metadata": {},
   "outputs": [
    {
     "name": "stdout",
     "output_type": "stream",
     "text": [
      "The correlation between Assessment reports Score and automated_readability_index\n",
      "Person r and p value:(0.13115650241584254, 4.932288198645849e-07)\n",
      "Spearman r and p value:(0.12434640702176111, 1.8819278408574658e-06)\n",
      "Kendalltau r and p value:(0.09827935686331996, 1.926767165636115e-06)\n",
      "Fisher z-transformation value:0.13191641379689933\n"
     ]
    },
    {
     "data": {
      "image/png": "[encoded data removed]",
      "text/plain": [
       "<Figure size 432x288 with 1 Axes>"
      ]
     },
     "metadata": {
      "needs_background": "light"
     },
     "output_type": "display_data"
    }
   ],
   "source": [
    "correlation_comparison(writing_texts, 'automated_readability_index')"
   ]
  },
  {
   "cell_type": "code",
   "execution_count": null,
   "metadata": {},
   "outputs": [],
   "source": []
  },
  {
   "cell_type": "markdown",
   "metadata": {},
   "source": [
    "the_rest_texts"
   ]
  },
  {
   "cell_type": "code",
   "execution_count": 55,
   "metadata": {},
   "outputs": [],
   "source": [
    "code_read_score = code_http_texts['dale_chall_readability_score']\n",
    "code_math_read_score = code_http_math_texts['dale_chall_readability_score']\n",
    "writing_read_score = writing_texts['dale_chall_readability_score']"
   ]
  },
  {
   "cell_type": "code",
   "execution_count": 49,
   "metadata": {},
   "outputs": [],
   "source": [
    "import pingouin as pg"
   ]
  },
  {
   "cell_type": "code",
   "execution_count": 50,
   "metadata": {},
   "outputs": [],
   "source": [
    "from statsmodels.stats.weightstats import ttest_ind\n",
    "import numpy as np\n"
   ]
  },
  {
   "cell_type": "code",
   "execution_count": 56,
   "metadata": {},
   "outputs": [
    {
     "name": "stdout",
     "output_type": "stream",
     "text": [
      "13.810671232876716 11.262606232294612 11.467260677466875\n",
      "3.146189138487516 3.02509519055606 5.1664879305744975\n"
     ]
    }
   ],
   "source": [
    "print(np.mean(writing_read_score), np.mean(code_read_score), np.mean(code_math_read_score))\n",
    "print(np.var(writing_read_score), np.var(code_read_score), np.var(code_math_read_score))"
   ]
  },
  {
   "cell_type": "markdown",
   "metadata": {},
   "source": [
    "## code_math vs writing test"
   ]
  },
  {
   "cell_type": "code",
   "execution_count": 54,
   "metadata": {},
   "outputs": [
    {
     "data": {
      "text/html": [
       "<div>\n",
       "<style scoped>\n",
       "    .dataframe tbody tr th:only-of-type {\n",
       "        vertical-align: middle;\n",
       "    }\n",
       "\n",
       "    .dataframe tbody tr th {\n",
       "        vertical-align: top;\n",
       "    }\n",
       "\n",
       "    .dataframe thead th {\n",
       "        text-align: right;\n",
       "    }\n",
       "</style>\n",
       "<table border=\"1\" class=\"dataframe\">\n",
       "  <thead>\n",
       "    <tr style=\"text-align: right;\">\n",
       "      <th></th>\n",
       "      <th>T</th>\n",
       "      <th>dof</th>\n",
       "      <th>alternative</th>\n",
       "      <th>p-val</th>\n",
       "      <th>CI95%</th>\n",
       "      <th>cohen-d</th>\n",
       "      <th>BF10</th>\n",
       "      <th>power</th>\n",
       "    </tr>\n",
       "  </thead>\n",
       "  <tbody>\n",
       "    <tr>\n",
       "      <th>T-test</th>\n",
       "      <td>24.575239</td>\n",
       "      <td>542.567297</td>\n",
       "      <td>two-sided</td>\n",
       "      <td>3.360402e-90</td>\n",
       "      <td>[2.34, 2.75]</td>\n",
       "      <td>1.441159</td>\n",
       "      <td>2.22e+111</td>\n",
       "      <td>1.0</td>\n",
       "    </tr>\n",
       "  </tbody>\n",
       "</table>\n",
       "</div>"
      ],
      "text/plain": [
       "                T         dof alternative         p-val         CI95%  \\\n",
       "T-test  24.575239  542.567297   two-sided  3.360402e-90  [2.34, 2.75]   \n",
       "\n",
       "         cohen-d       BF10  power  \n",
       "T-test  1.441159  2.22e+111    1.0  "
      ]
     },
     "execution_count": 54,
     "metadata": {},
     "output_type": "execute_result"
    }
   ],
   "source": [
    "result = pg.ttest(writing_read_score,\n",
    "                  code_read_score,\n",
    "                  correction=True)\n",
    " \n",
    "# Print the result\n",
    "result"
   ]
  },
  {
   "cell_type": "markdown",
   "metadata": {},
   "source": [
    "## code_http_math vs writing test"
   ]
  },
  {
   "cell_type": "code",
   "execution_count": 57,
   "metadata": {},
   "outputs": [
    {
     "data": {
      "text/html": [
       "<div>\n",
       "<style scoped>\n",
       "    .dataframe tbody tr th:only-of-type {\n",
       "        vertical-align: middle;\n",
       "    }\n",
       "\n",
       "    .dataframe tbody tr th {\n",
       "        vertical-align: top;\n",
       "    }\n",
       "\n",
       "    .dataframe thead th {\n",
       "        text-align: right;\n",
       "    }\n",
       "</style>\n",
       "<table border=\"1\" class=\"dataframe\">\n",
       "  <thead>\n",
       "    <tr style=\"text-align: right;\">\n",
       "      <th></th>\n",
       "      <th>T</th>\n",
       "      <th>dof</th>\n",
       "      <th>alternative</th>\n",
       "      <th>p-val</th>\n",
       "      <th>CI95%</th>\n",
       "      <th>cohen-d</th>\n",
       "      <th>BF10</th>\n",
       "      <th>power</th>\n",
       "    </tr>\n",
       "  </thead>\n",
       "  <tbody>\n",
       "    <tr>\n",
       "      <th>T-test</th>\n",
       "      <td>30.345265</td>\n",
       "      <td>2564.36964</td>\n",
       "      <td>two-sided</td>\n",
       "      <td>4.343289e-173</td>\n",
       "      <td>[2.19, 2.49]</td>\n",
       "      <td>1.154137</td>\n",
       "      <td>1.365e+171</td>\n",
       "      <td>1.0</td>\n",
       "    </tr>\n",
       "  </tbody>\n",
       "</table>\n",
       "</div>"
      ],
      "text/plain": [
       "                T         dof alternative          p-val         CI95%  \\\n",
       "T-test  30.345265  2564.36964   two-sided  4.343289e-173  [2.19, 2.49]   \n",
       "\n",
       "         cohen-d        BF10  power  \n",
       "T-test  1.154137  1.365e+171    1.0  "
      ]
     },
     "execution_count": 57,
     "metadata": {},
     "output_type": "execute_result"
    }
   ],
   "source": [
    "result = pg.ttest(writing_read_score,\n",
    "                  code_math_read_score,\n",
    "                  correction=True)\n",
    " \n",
    "# Print the result\n",
    "result"
   ]
  },
  {
   "cell_type": "code",
   "execution_count": 53,
   "metadata": {},
   "outputs": [
    {
     "ename": "NameError",
     "evalue": "name 'write_r_z' is not defined",
     "output_type": "error",
     "traceback": [
      "\u001b[0;31m---------------------------------------------------------------------------\u001b[0m",
      "\u001b[0;31mNameError\u001b[0m                                 Traceback (most recent call last)",
      "\u001b[0;32m/var/folders/0h/xyv81g2n7sj6zr0c9cw30gkc0000gn/T/ipykernel_62877/350628392.py\u001b[0m in \u001b[0;36m<module>\u001b[0;34m\u001b[0m\n\u001b[0;32m----> 1\u001b[0;31m \u001b[0;34m(\u001b[0m\u001b[0mwrite_r_z\u001b[0m \u001b[0;34m-\u001b[0m \u001b[0mcode_r_z\u001b[0m\u001b[0;34m)\u001b[0m\u001b[0;34m/\u001b[0m\u001b[0mnp\u001b[0m\u001b[0;34m.\u001b[0m\u001b[0msqrt\u001b[0m\u001b[0;34m(\u001b[0m\u001b[0;34m(\u001b[0m\u001b[0;36m1\u001b[0m \u001b[0;34m/\u001b[0m \u001b[0;34m(\u001b[0m\u001b[0mlen\u001b[0m\u001b[0;34m(\u001b[0m\u001b[0mwrite_x\u001b[0m\u001b[0;34m)\u001b[0m \u001b[0;34m-\u001b[0m \u001b[0;36m3\u001b[0m\u001b[0;34m)\u001b[0m\u001b[0;34m)\u001b[0m \u001b[0;34m+\u001b[0m \u001b[0;34m(\u001b[0m\u001b[0;36m1\u001b[0m \u001b[0;34m/\u001b[0m \u001b[0;34m(\u001b[0m\u001b[0mlen\u001b[0m\u001b[0;34m(\u001b[0m\u001b[0mcode_x\u001b[0m\u001b[0;34m)\u001b[0m \u001b[0;34m-\u001b[0m \u001b[0;36m3\u001b[0m\u001b[0;34m)\u001b[0m\u001b[0;34m)\u001b[0m\u001b[0;34m)\u001b[0m\u001b[0;34m\u001b[0m\u001b[0;34m\u001b[0m\u001b[0m\n\u001b[0m\u001b[1;32m      2\u001b[0m \u001b[0;34m\u001b[0m\u001b[0m\n",
      "\u001b[0;31mNameError\u001b[0m: name 'write_r_z' is not defined"
     ]
    }
   ],
   "source": [
    "(write_r_z - code_r_z)/np.sqrt((1 / (len(write_x) - 3)) + (1 / (len(code_x) - 3)))\n",
    "\n"
   ]
  },
  {
   "cell_type": "code",
   "execution_count": null,
   "metadata": {},
   "outputs": [
    {
     "data": {
      "text/plain": [
       "1460"
      ]
     },
     "execution_count": 36,
     "metadata": {},
     "output_type": "execute_result"
    }
   ],
   "source": [
    "len(write_x)"
   ]
  },
  {
   "cell_type": "code",
   "execution_count": null,
   "metadata": {},
   "outputs": [],
   "source": []
  }
 ],
 "metadata": {
  "kernelspec": {
   "display_name": "base",
   "language": "python",
   "name": "python3"
  },
  "language_info": {
   "codemirror_mode": {
    "name": "ipython",
    "version": 3
   },
   "file_extension": ".py",
   "mimetype": "text/x-python",
   "name": "python",
   "nbconvert_exporter": "python",
   "pygments_lexer": "ipython3",
   "version": "3.9.7"
  },
  "orig_nbformat": 4,
  "vscode": {
   "interpreter": {
    "hash": "c9b5a0d0397a965b8a61bea250a52cf791a7dd32e6dbdab8d82b426f9cd3b168"
   }
  }
 },
 "nbformat": 4,
 "nbformat_minor": 2
}
