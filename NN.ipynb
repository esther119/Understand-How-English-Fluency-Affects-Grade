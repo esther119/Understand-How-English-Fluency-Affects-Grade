{
 "cells": [
  {
   "cell_type": "code",
   "execution_count": 1,
   "metadata": {},
   "outputs": [],
   "source": [
    "import pandas as pd\n",
    "from sklearn.model_selection import train_test_split\n",
    "from sklearn.metrics import mean_squared_error\n",
    "from sklearn.metrics import accuracy_score\n",
    "import matplotlib.pyplot as plt\n",
    "from sklearn.metrics import classification_report\n",
    "from sklearn.preprocessing import StandardScaler\n",
    "from sklearn.model_selection import KFold, cross_val_score\n",
    "from sklearn.neural_network import MLPClassifier\n",
    "from sklearn.metrics import classification_report\n",
    "import numpy as np \n"
   ]
  },
  {
   "cell_type": "code",
   "execution_count": 2,
   "metadata": {},
   "outputs": [],
   "source": [
    "df = pd.read_csv('vectorized_data.zip')\n",
    "\n",
    "sample_len = df[df['Assessment reports Score'] == 2].shape[0]\n",
    "\n",
    "sample_3 = df[df['Assessment reports Score'] == 3].sample(n= sample_len)\n",
    "sample_4 = df[df['Assessment reports Score'] == 4].sample(n= sample_len)\n",
    "\n",
    "#concatenate the dataframes\n",
    "df = pd.concat([df[df['Assessment reports Score'] == 2], sample_3, sample_4], axis=0)"
   ]
  },
  {
   "cell_type": "code",
   "execution_count": 3,
   "metadata": {},
   "outputs": [],
   "source": [
    "# X exclude categorical data\n",
    "X = df[['time_stamp','flesch_reading_ease', 'flesch_kincaid_grade', 'gunning_fog',\n",
    "       'smog_index', 'automated_readability_index', 'coleman_liau_index',\n",
    "       'dale_chall_readability_score', 'linsear_write_formula', 'hdd', 'Summer', 'Dugast', 'words_count',\n",
    "       'unique_words', 'ttr', 'rttr', 'cttr', 'mtld', 'herdan', 'maas', \n",
    "       'vec_1', 'vec_2', 'vec_3', 'vec_4', 'vec_5', 'vec_6', 'vec_7', 'vec_8',\n",
    "       'vec_9', 'vec_10', 'vec_11', 'vec_12', 'vec_13', 'vec_14', 'vec_15',\n",
    "       'vec_16', 'vec_17', 'vec_18', 'vec_19', 'vec_20']]\n",
    "y = df['Assessment reports Score']\n",
    "x_train, x_test, y_train, y_test = train_test_split(X, y)"
   ]
  },
  {
   "cell_type": "code",
   "execution_count": 4,
   "metadata": {},
   "outputs": [
    {
     "data": {
      "text/plain": [
       "2    21104\n",
       "3    21104\n",
       "4    21104\n",
       "Name: Assessment reports Score, dtype: int64"
      ]
     },
     "execution_count": 4,
     "metadata": {},
     "output_type": "execute_result"
    }
   ],
   "source": [
    "y.value_counts()"
   ]
  },
  {
   "cell_type": "code",
   "execution_count": 5,
   "metadata": {},
   "outputs": [],
   "source": [
    "scaler = StandardScaler()\n",
    "\n",
    "#Fit the StandardScaler to the training data\n",
    "x_train = scaler.fit_transform(x_train)\n",
    "\n",
    "# Apply the StandardScaler ti the test data\n",
    "x_test = scaler.transform(x_test)"
   ]
  },
  {
   "cell_type": "code",
   "execution_count": 6,
   "metadata": {},
   "outputs": [],
   "source": [
    "# turn the grade class from 1-5 to 0-4\n",
    "y_train = y_train - 1\n",
    "y_test = y_test -1"
   ]
  },
  {
   "cell_type": "code",
   "execution_count": 7,
   "metadata": {},
   "outputs": [],
   "source": [
    "from keras.utils import to_categorical\n",
    "y_train = to_categorical(y_train, num_classes=5) \n",
    "y_test = to_categorical(y_test, num_classes=5)"
   ]
  },
  {
   "cell_type": "code",
   "execution_count": 8,
   "metadata": {},
   "outputs": [],
   "source": [
    "# import keras modules\n",
    "from keras.models import Sequential\n",
    "from keras.layers import Dense"
   ]
  },
  {
   "cell_type": "code",
   "execution_count": 28,
   "metadata": {},
   "outputs": [],
   "source": [
    "from tensorflow.keras.layers import BatchNormalization\n",
    "# define vars\n",
    "input_num_units = 40\n",
    "hidden1_num_units = 40\n",
    "hidden2_num_units = 48\n",
    "# hidden3_num_units = 500\n",
    "# hidden4_num_units = 500\n",
    "hidden5_num_units = 48\n",
    "output_num_units = 5\n",
    "\n",
    "epochs = 20\n",
    "batch_size = 128\n",
    "\n",
    "model = Sequential([\n",
    "#  Dense(units=hidden1_num_units, input_dim=input_num_units, activation='relu', kernel_initializer='he_normal'),\n",
    "#  BatchNormalization(),\n",
    " Dense(units=hidden2_num_units, input_dim=hidden1_num_units, activation='relu'),\n",
    "#  Dense(units=hidden5_num_units, input_dim=hidden4_num_units, activation='sigmoid'),\n",
    " Dense(units=output_num_units, input_dim=hidden5_num_units, activation='softmax'),\n",
    " ])\n"
   ]
  },
  {
   "cell_type": "code",
   "execution_count": 29,
   "metadata": {},
   "outputs": [
    {
     "name": "stdout",
     "output_type": "stream",
     "text": [
      "Epoch 1/20\n",
      "  6/371 [..............................] - ETA: 4s - loss: 1.8411 - accuracy: 0.1784  "
     ]
    },
    {
     "name": "stderr",
     "output_type": "stream",
     "text": [
      "2023-03-29 22:32:20.324898: I tensorflow/core/grappler/optimizers/custom_graph_optimizer_registry.cc:113] Plugin optimizer for device_type GPU is enabled.\n"
     ]
    },
    {
     "name": "stdout",
     "output_type": "stream",
     "text": [
      "371/371 [==============================] - ETA: 0s - loss: 1.1495 - accuracy: 0.4155"
     ]
    },
    {
     "name": "stderr",
     "output_type": "stream",
     "text": [
      "2023-03-29 22:32:23.894671: I tensorflow/core/grappler/optimizers/custom_graph_optimizer_registry.cc:113] Plugin optimizer for device_type GPU is enabled.\n"
     ]
    },
    {
     "name": "stdout",
     "output_type": "stream",
     "text": [
      "371/371 [==============================] - 5s 12ms/step - loss: 1.1495 - accuracy: 0.4155 - val_loss: 1.0595 - val_accuracy: 0.4498\n",
      "Epoch 2/20\n",
      "371/371 [==============================] - 4s 12ms/step - loss: 1.0520 - accuracy: 0.4489 - val_loss: 1.0481 - val_accuracy: 0.4528\n",
      "Epoch 3/20\n",
      "371/371 [==============================] - 4s 11ms/step - loss: 1.0420 - accuracy: 0.4546 - val_loss: 1.0397 - val_accuracy: 0.4607\n",
      "Epoch 4/20\n",
      "371/371 [==============================] - 4s 11ms/step - loss: 1.0367 - accuracy: 0.4598 - val_loss: 1.0389 - val_accuracy: 0.4612\n",
      "Epoch 5/20\n",
      "371/371 [==============================] - 5s 14ms/step - loss: 1.0337 - accuracy: 0.4633 - val_loss: 1.0361 - val_accuracy: 0.4618\n",
      "Epoch 6/20\n",
      "371/371 [==============================] - 4s 12ms/step - loss: 1.0308 - accuracy: 0.4654 - val_loss: 1.0349 - val_accuracy: 0.4649\n",
      "Epoch 7/20\n",
      "371/371 [==============================] - 5s 13ms/step - loss: 1.0291 - accuracy: 0.4678 - val_loss: 1.0347 - val_accuracy: 0.4641\n",
      "Epoch 8/20\n",
      "371/371 [==============================] - 4s 12ms/step - loss: 1.0279 - accuracy: 0.4673 - val_loss: 1.0330 - val_accuracy: 0.4641\n",
      "Epoch 9/20\n",
      "371/371 [==============================] - 4s 11ms/step - loss: 1.0260 - accuracy: 0.4711 - val_loss: 1.0324 - val_accuracy: 0.4656\n",
      "Epoch 10/20\n",
      "371/371 [==============================] - 4s 11ms/step - loss: 1.0248 - accuracy: 0.4712 - val_loss: 1.0317 - val_accuracy: 0.4673\n",
      "Epoch 11/20\n",
      "371/371 [==============================] - 5s 12ms/step - loss: 1.0240 - accuracy: 0.4738 - val_loss: 1.0323 - val_accuracy: 0.4648\n",
      "Epoch 12/20\n",
      "371/371 [==============================] - 4s 11ms/step - loss: 1.0227 - accuracy: 0.4731 - val_loss: 1.0325 - val_accuracy: 0.4638\n",
      "Epoch 13/20\n",
      "371/371 [==============================] - 4s 12ms/step - loss: 1.0219 - accuracy: 0.4739 - val_loss: 1.0310 - val_accuracy: 0.4661\n",
      "Epoch 14/20\n",
      "371/371 [==============================] - 4s 12ms/step - loss: 1.0217 - accuracy: 0.4726 - val_loss: 1.0297 - val_accuracy: 0.4685\n",
      "Epoch 15/20\n",
      "371/371 [==============================] - 4s 11ms/step - loss: 1.0208 - accuracy: 0.4746 - val_loss: 1.0318 - val_accuracy: 0.4653\n",
      "Epoch 16/20\n",
      "371/371 [==============================] - 4s 11ms/step - loss: 1.0200 - accuracy: 0.4761 - val_loss: 1.0301 - val_accuracy: 0.4678\n",
      "Epoch 17/20\n",
      "371/371 [==============================] - 4s 11ms/step - loss: 1.0196 - accuracy: 0.4746 - val_loss: 1.0311 - val_accuracy: 0.4662\n",
      "Epoch 18/20\n",
      "371/371 [==============================] - 4s 11ms/step - loss: 1.0193 - accuracy: 0.4746 - val_loss: 1.0344 - val_accuracy: 0.4656\n",
      "Epoch 19/20\n",
      "371/371 [==============================] - 4s 11ms/step - loss: 1.0188 - accuracy: 0.4765 - val_loss: 1.0328 - val_accuracy: 0.4634\n",
      "Epoch 20/20\n",
      "371/371 [==============================] - 4s 11ms/step - loss: 1.0184 - accuracy: 0.4773 - val_loss: 1.0330 - val_accuracy: 0.4628\n"
     ]
    }
   ],
   "source": [
    "from keras.optimizers import SGD\n",
    "\n",
    "model.compile(loss='categorical_crossentropy', optimizer= 'adam', metrics=['accuracy'])\n",
    "\n",
    "trained_model_5d = model.fit(x_train, y_train, epochs=epochs, batch_size=batch_size, validation_data=(x_test, y_test))"
   ]
  },
  {
   "cell_type": "code",
   "execution_count": 30,
   "metadata": {},
   "outputs": [
    {
     "data": {
      "text/plain": [
       "{'loss': [1.149543285369873,\n",
       "  1.0520135164260864,\n",
       "  1.0419822931289673,\n",
       "  1.036696434020996,\n",
       "  1.0337209701538086,\n",
       "  1.0307849645614624,\n",
       "  1.029081106185913,\n",
       "  1.0278908014297485,\n",
       "  1.0259917974472046,\n",
       "  1.0247936248779297,\n",
       "  1.0240157842636108,\n",
       "  1.0226835012435913,\n",
       "  1.0218600034713745,\n",
       "  1.0217055082321167,\n",
       "  1.0208016633987427,\n",
       "  1.020015835762024,\n",
       "  1.0196154117584229,\n",
       "  1.0192627906799316,\n",
       "  1.0188028812408447,\n",
       "  1.0183898210525513],\n",
       " 'accuracy': [0.4154873490333557,\n",
       "  0.44893017411231995,\n",
       "  0.45455312728881836,\n",
       "  0.4598391354084015,\n",
       "  0.4633139669895172,\n",
       "  0.4654199481010437,\n",
       "  0.46775758266448975,\n",
       "  0.46729427576065063,\n",
       "  0.47114819288253784,\n",
       "  0.47119030356407166,\n",
       "  0.47375959157943726,\n",
       "  0.4731488823890686,\n",
       "  0.47386491298675537,\n",
       "  0.4726434350013733,\n",
       "  0.47460198402404785,\n",
       "  0.4760761857032776,\n",
       "  0.47458094358444214,\n",
       "  0.47462305426597595,\n",
       "  0.4764973819255829,\n",
       "  0.4773397445678711],\n",
       " 'val_loss': [1.0594983100891113,\n",
       "  1.0480693578720093,\n",
       "  1.0397220849990845,\n",
       "  1.0389032363891602,\n",
       "  1.0361212491989136,\n",
       "  1.0348628759384155,\n",
       "  1.0346726179122925,\n",
       "  1.0330204963684082,\n",
       "  1.032431960105896,\n",
       "  1.0316851139068604,\n",
       "  1.0322579145431519,\n",
       "  1.0325477123260498,\n",
       "  1.0310195684432983,\n",
       "  1.0296659469604492,\n",
       "  1.0317800045013428,\n",
       "  1.0301191806793213,\n",
       "  1.0310962200164795,\n",
       "  1.0343883037567139,\n",
       "  1.0328458547592163,\n",
       "  1.0329575538635254],\n",
       " 'val_accuracy': [0.44983574748039246,\n",
       "  0.45280516147613525,\n",
       "  0.4607025682926178,\n",
       "  0.4612079858779907,\n",
       "  0.46183979511260986,\n",
       "  0.4649355709552765,\n",
       "  0.4640510678291321,\n",
       "  0.464114248752594,\n",
       "  0.46563053131103516,\n",
       "  0.46727320551872253,\n",
       "  0.46480920910835266,\n",
       "  0.4637983441352844,\n",
       "  0.46607279777526855,\n",
       "  0.4684736132621765,\n",
       "  0.4653146266937256,\n",
       "  0.46777862310409546,\n",
       "  0.4661991596221924,\n",
       "  0.46563053131103516,\n",
       "  0.46341925859451294,\n",
       "  0.4627874791622162]}"
      ]
     },
     "execution_count": 30,
     "metadata": {},
     "output_type": "execute_result"
    }
   ],
   "source": [
    "trained_model_5d.history"
   ]
  },
  {
   "cell_type": "code",
   "execution_count": 31,
   "metadata": {},
   "outputs": [
    {
     "data": {
      "image/png": "[encoded data removed]",
      "text/plain": [
       "<Figure size 640x480 with 1 Axes>"
      ]
     },
     "metadata": {},
     "output_type": "display_data"
    }
   ],
   "source": [
    "plt.plot(trained_model_5d.history['accuracy'])\n",
    "plt.plot(trained_model_5d.history['val_accuracy'])\n",
    "plt.title('model accuracy')\n",
    "plt.ylabel('accuracy')\n",
    "plt.xlabel('epoch')\n",
    "plt.legend(['train', 'val'], loc='upper left')\n",
    "plt.show()"
   ]
  },
  {
   "cell_type": "code",
   "execution_count": 32,
   "metadata": {},
   "outputs": [
    {
     "data": {
      "image/png": "[encoded data removed]",
      "text/plain": [
       "<Figure size 640x480 with 1 Axes>"
      ]
     },
     "metadata": {},
     "output_type": "display_data"
    }
   ],
   "source": [
    "# Plot training & validation loss values\n",
    "plt.plot(trained_model_5d.history['loss'])\n",
    "plt.plot(trained_model_5d.history['val_loss'])\n",
    "plt.title('Model loss')\n",
    "plt.ylabel('Loss')\n",
    "plt.xlabel('Epoch')\n",
    "plt.legend(['Train', 'Validation'], loc='upper left')\n",
    "plt.show()"
   ]
  },
  {
   "cell_type": "code",
   "execution_count": 33,
   "metadata": {},
   "outputs": [
    {
     "name": "stdout",
     "output_type": "stream",
     "text": [
      " 97/495 [====>.........................] - ETA: 0s"
     ]
    },
    {
     "name": "stderr",
     "output_type": "stream",
     "text": [
      "2023-03-29 22:33:47.186921: I tensorflow/core/grappler/optimizers/custom_graph_optimizer_registry.cc:113] Plugin optimizer for device_type GPU is enabled.\n"
     ]
    },
    {
     "name": "stdout",
     "output_type": "stream",
     "text": [
      "495/495 [==============================] - 1s 1ms/step\n",
      "              precision    recall  f1-score   support\n",
      "\n",
      "           2       0.51      0.46      0.49      5243\n",
      "           3       0.42      0.44      0.43      5294\n",
      "           4       0.47      0.49      0.48      5291\n",
      "\n",
      "    accuracy                           0.46     15828\n",
      "   macro avg       0.47      0.46      0.46     15828\n",
      "weighted avg       0.47      0.46      0.46     15828\n",
      "\n"
     ]
    }
   ],
   "source": [
    "y_pred = model.predict(x_test)\n",
    "y_pred_classes = np.argmax(y_pred, axis=1)\n",
    "y_true_classes = np.argmax(y_test, axis = 1)\n",
    "\n",
    "# Create a classification report using scikit-learn's classification_report function\n",
    "target_names = ['2', '3', '4'] # replace with your own class names\n",
    "print(classification_report(y_true_classes, y_pred_classes, target_names=target_names))"
   ]
  },
  {
   "cell_type": "code",
   "execution_count": null,
   "metadata": {},
   "outputs": [],
   "source": []
  }
 ],
 "metadata": {
  "kernelspec": {
   "display_name": "base",
   "language": "python",
   "name": "python3"
  },
  "language_info": {
   "codemirror_mode": {
    "name": "ipython",
    "version": 3
   },
   "file_extension": ".py",
   "mimetype": "text/x-python",
   "name": "python",
   "nbconvert_exporter": "python",
   "pygments_lexer": "ipython3",
   "version": "3.9.16"
  },
  "orig_nbformat": 4
 },
 "nbformat": 4,
 "nbformat_minor": 2
}
