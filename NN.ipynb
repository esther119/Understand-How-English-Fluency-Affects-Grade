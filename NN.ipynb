{
 "cells": [
  {
   "cell_type": "code",
   "execution_count": 8,
   "metadata": {},
   "outputs": [],
   "source": [
    "import pandas as pd\n",
    "from sklearn.model_selection import train_test_split\n",
    "from sklearn.metrics import mean_squared_error\n",
    "from sklearn.metrics import accuracy_score\n",
    "import matplotlib.pyplot as plt\n",
    "from sklearn.metrics import classification_report\n",
    "from sklearn.preprocessing import StandardScaler\n",
    "from sklearn.model_selection import KFold, cross_val_score\n",
    "from sklearn.neural_network import MLPClassifier"
   ]
  },
  {
   "cell_type": "code",
   "execution_count": 4,
   "metadata": {},
   "outputs": [],
   "source": [
    "df = pd.read_csv('vectorized_data.zip')"
   ]
  },
  {
   "cell_type": "code",
   "execution_count": 6,
   "metadata": {},
   "outputs": [],
   "source": [
    "# X exclude categorical data\n",
    "X = df[['time_stamp','flesch_reading_ease', 'flesch_kincaid_grade', 'gunning_fog',\n",
    "       'smog_index', 'automated_readability_index', 'coleman_liau_index',\n",
    "       'dale_chall_readability_score', 'linsear_write_formula', 'hdd', 'Summer', 'Dugast', 'words_count',\n",
    "       'unique_words', 'ttr', 'rttr', 'cttr', 'mtld', 'herdan', 'maas', \n",
    "       'vec_1', 'vec_2', 'vec_3', 'vec_4', 'vec_5', 'vec_6', 'vec_7', 'vec_8',\n",
    "       'vec_9', 'vec_10', 'vec_11', 'vec_12', 'vec_13', 'vec_14', 'vec_15',\n",
    "       'vec_16', 'vec_17', 'vec_18', 'vec_19', 'vec_20']]\n",
    "y = df['Assessment reports Score']\n",
    "x_train, x_test, y_train, y_test = train_test_split(X, y)"
   ]
  },
  {
   "cell_type": "code",
   "execution_count": 29,
   "metadata": {},
   "outputs": [],
   "source": [
    "scaler = StandardScaler()\n",
    "\n",
    "#Fit the StandardScaler to the training data\n",
    "x_train = scaler.fit_transform(x_train)\n",
    "\n",
    "# Apply the StandardScaler ti the test data\n",
    "x_test = scaler.transform(x_test)"
   ]
  },
  {
   "cell_type": "code",
   "execution_count": 39,
   "metadata": {},
   "outputs": [],
   "source": [
    "# turn the grade class from 1-5 to 0-4\n",
    "y_train = y_train - 1\n",
    "y_test = y_test -1"
   ]
  },
  {
   "cell_type": "code",
   "execution_count": 40,
   "metadata": {},
   "outputs": [],
   "source": [
    "from keras.utils import to_categorical\n",
    "y_train = to_categorical(y_train, num_classes=5) \n",
    "y_test = to_categorical(y_test, num_classes=5)"
   ]
  },
  {
   "cell_type": "code",
   "execution_count": 41,
   "metadata": {},
   "outputs": [],
   "source": [
    "# import keras modules\n",
    "from keras.models import Sequential\n",
    "from keras.layers import Dense"
   ]
  },
  {
   "cell_type": "code",
   "execution_count": 55,
   "metadata": {},
   "outputs": [],
   "source": [
    "from tensorflow.keras.layers import BatchNormalization\n",
    "# define vars\n",
    "input_num_units = 40\n",
    "hidden1_num_units = 500\n",
    "hidden2_num_units = 500\n",
    "hidden3_num_units = 500\n",
    "hidden4_num_units = 500\n",
    "hidden5_num_units = 500\n",
    "output_num_units = 5\n",
    "\n",
    "epochs = 10\n",
    "batch_size = 128\n",
    "\n",
    "model = Sequential([\n",
    " Dense(units=hidden1_num_units, input_dim=input_num_units, activation='relu', kernel_initializer='he_normal'),\n",
    " BatchNormalization(),\n",
    " Dense(units=hidden2_num_units, input_dim=hidden1_num_units, activation='relu'),\n",
    " Dense(units=hidden5_num_units, input_dim=hidden4_num_units, activation='sigmoid'),\n",
    " Dense(units=output_num_units, input_dim=hidden5_num_units, activation='softmax'),\n",
    " ])\n"
   ]
  },
  {
   "cell_type": "code",
   "execution_count": 56,
   "metadata": {},
   "outputs": [
    {
     "name": "stdout",
     "output_type": "stream",
     "text": [
      "Epoch 1/10\n"
     ]
    },
    {
     "name": "stderr",
     "output_type": "stream",
     "text": [
      "2023-03-15 11:33:04.650428: I tensorflow/core/grappler/optimizers/custom_graph_optimizer_registry.cc:113] Plugin optimizer for device_type GPU is enabled.\n"
     ]
    },
    {
     "name": "stdout",
     "output_type": "stream",
     "text": [
      "1033/1033 [==============================] - ETA: 0s - loss: 0.9937 - accuracy: 0.5238"
     ]
    },
    {
     "name": "stderr",
     "output_type": "stream",
     "text": [
      "2023-03-15 11:33:20.544961: I tensorflow/core/grappler/optimizers/custom_graph_optimizer_registry.cc:113] Plugin optimizer for device_type GPU is enabled.\n"
     ]
    },
    {
     "name": "stdout",
     "output_type": "stream",
     "text": [
      "1033/1033 [==============================] - 19s 18ms/step - loss: 0.9937 - accuracy: 0.5238 - val_loss: 2.4530 - val_accuracy: 0.2967\n",
      "Epoch 2/10\n",
      "1033/1033 [==============================] - 17s 17ms/step - loss: 0.9711 - accuracy: 0.5374 - val_loss: 3.2576 - val_accuracy: 0.5239\n",
      "Epoch 3/10\n",
      "1033/1033 [==============================] - 18s 18ms/step - loss: 0.9647 - accuracy: 0.5409 - val_loss: 2.8379 - val_accuracy: 0.5236\n",
      "Epoch 4/10\n",
      "1033/1033 [==============================] - 19s 18ms/step - loss: 0.9564 - accuracy: 0.5479 - val_loss: 2.5908 - val_accuracy: 0.5238\n",
      "Epoch 5/10\n",
      "1033/1033 [==============================] - 17s 17ms/step - loss: 0.9488 - accuracy: 0.5534 - val_loss: 2.0646 - val_accuracy: 0.5238\n",
      "Epoch 6/10\n",
      "1033/1033 [==============================] - 36s 35ms/step - loss: 0.9415 - accuracy: 0.5579 - val_loss: 2.2822 - val_accuracy: 0.5238\n",
      "Epoch 7/10\n",
      "1033/1033 [==============================] - 28s 27ms/step - loss: 0.9325 - accuracy: 0.5637 - val_loss: 2.1153 - val_accuracy: 0.5239\n",
      "Epoch 8/10\n",
      "1033/1033 [==============================] - 19s 18ms/step - loss: 0.9236 - accuracy: 0.5680 - val_loss: 2.2933 - val_accuracy: 0.5238\n",
      "Epoch 9/10\n",
      "1033/1033 [==============================] - 19s 18ms/step - loss: 0.9132 - accuracy: 0.5736 - val_loss: 1.8842 - val_accuracy: 0.5238\n",
      "Epoch 10/10\n",
      "1033/1033 [==============================] - 17s 17ms/step - loss: 0.9010 - accuracy: 0.5793 - val_loss: 2.6493 - val_accuracy: 0.5238\n"
     ]
    }
   ],
   "source": [
    "from keras.optimizers import SGD\n",
    "\n",
    "model.compile(loss='categorical_crossentropy', optimizer= 'adam', metrics=['accuracy'])\n",
    "\n",
    "trained_model_5d = model.fit(x_train, y_train, epochs=epochs, batch_size=batch_size, validation_data=(x_test, y_test))"
   ]
  },
  {
   "cell_type": "code",
   "execution_count": 57,
   "metadata": {},
   "outputs": [
    {
     "data": {
      "text/plain": [
       "{'loss': [0.993684709072113,\n",
       "  0.9711074829101562,\n",
       "  0.9646531939506531,\n",
       "  0.9563586115837097,\n",
       "  0.9487910270690918,\n",
       "  0.9414964914321899,\n",
       "  0.9325059652328491,\n",
       "  0.923591136932373,\n",
       "  0.9132431745529175,\n",
       "  0.9009702801704407],\n",
       " 'accuracy': [0.5237500667572021,\n",
       "  0.5374134182929993,\n",
       "  0.540918231010437,\n",
       "  0.5478596687316895,\n",
       "  0.5533552765846252,\n",
       "  0.5579274296760559,\n",
       "  0.5637106895446777,\n",
       "  0.5679951310157776,\n",
       "  0.5736194849014282,\n",
       "  0.5793270468711853],\n",
       " 'val_loss': [2.453030824661255,\n",
       "  3.2576351165771484,\n",
       "  2.837879180908203,\n",
       "  2.590801239013672,\n",
       "  2.0645554065704346,\n",
       "  2.282172918319702,\n",
       "  2.115337371826172,\n",
       "  2.2932589054107666,\n",
       "  1.8841845989227295,\n",
       "  2.6492600440979004],\n",
       " 'val_accuracy': [0.29666635394096375,\n",
       "  0.5238668322563171,\n",
       "  0.5236397385597229,\n",
       "  0.5238441228866577,\n",
       "  0.5238441228866577,\n",
       "  0.5237759947776794,\n",
       "  0.5238668322563171,\n",
       "  0.5238441228866577,\n",
       "  0.5238441228866577,\n",
       "  0.5238214135169983]}"
      ]
     },
     "execution_count": 57,
     "metadata": {},
     "output_type": "execute_result"
    }
   ],
   "source": [
    "trained_model_5d.history"
   ]
  },
  {
   "cell_type": "code",
   "execution_count": 58,
   "metadata": {},
   "outputs": [
    {
     "data": {
      "image/png": "[encoded data removed]",
      "text/plain": [
       "<Figure size 640x480 with 1 Axes>"
      ]
     },
     "metadata": {},
     "output_type": "display_data"
    }
   ],
   "source": [
    "plt.plot(trained_model_5d.history['accuracy'])\n",
    "plt.plot(trained_model_5d.history['val_accuracy'])\n",
    "plt.title('model accuracy')\n",
    "plt.ylabel('accuracy')\n",
    "plt.xlabel('epoch')\n",
    "plt.legend(['train', 'val'], loc='upper left')\n",
    "plt.show()"
   ]
  },
  {
   "cell_type": "code",
   "execution_count": 1,
   "metadata": {},
   "outputs": [
    {
     "data": {
      "text/plain": [
       "[PhysicalDevice(name='/physical_device:GPU:0', device_type='GPU')]"
      ]
     },
     "execution_count": 1,
     "metadata": {},
     "output_type": "execute_result"
    }
   ],
   "source": [
    "import tensorflow as tf\n",
    "\n",
    "tf.config.experimental.list_physical_devices('GPU')"
   ]
  },
  {
   "cell_type": "code",
   "execution_count": 6,
   "metadata": {},
   "outputs": [
    {
     "name": "stdout",
     "output_type": "stream",
     "text": [
      "Epoch 1/5\n"
     ]
    },
    {
     "name": "stderr",
     "output_type": "stream",
     "text": [
      "2023-03-13 21:32:26.514828: I tensorflow/core/grappler/optimizers/custom_graph_optimizer_registry.cc:113] Plugin optimizer for device_type GPU is enabled.\n"
     ]
    },
    {
     "name": "stdout",
     "output_type": "stream",
     "text": [
      "782/782 [==============================] - 128s 157ms/step - loss: 4.8338 - accuracy: 0.0601\n",
      "Epoch 2/5\n",
      "782/782 [==============================] - 118s 150ms/step - loss: 4.6046 - accuracy: 0.0738\n",
      "Epoch 3/5\n",
      "782/782 [==============================] - 117s 150ms/step - loss: 4.2792 - accuracy: 0.0912\n",
      "Epoch 4/5\n",
      "782/782 [==============================] - 117s 150ms/step - loss: 3.8742 - accuracy: 0.1315\n",
      "Epoch 5/5\n",
      "782/782 [==============================] - 127s 162ms/step - loss: 3.6090 - accuracy: 0.1702\n"
     ]
    },
    {
     "data": {
      "text/plain": [
       "<keras.callbacks.History at 0x3331871c0>"
      ]
     },
     "execution_count": 6,
     "metadata": {},
     "output_type": "execute_result"
    }
   ],
   "source": [
    "import tensorflow as tf\n",
    "\n",
    "cifar = tf.keras.datasets.cifar100\n",
    "(x_train, y_train), (x_test, y_test) = cifar.load_data()\n",
    "model = tf.keras.applications.ResNet50(\n",
    "    include_top=True,\n",
    "    weights=None,\n",
    "    input_shape=(32, 32, 3),\n",
    "    classes=100,)\n",
    "\n",
    "loss_fn = tf.keras.losses.SparseCategoricalCrossentropy(from_logits=True)\n",
    "model.compile(optimizer=\"adam\", loss=loss_fn, metrics=[\"accuracy\"])\n",
    "model.fit(x_train, y_train, epochs=5, batch_size=64)"
   ]
  },
  {
   "cell_type": "code",
   "execution_count": null,
   "metadata": {},
   "outputs": [],
   "source": []
  }
 ],
 "metadata": {
  "kernelspec": {
   "display_name": "base",
   "language": "python",
   "name": "python3"
  },
  "language_info": {
   "codemirror_mode": {
    "name": "ipython",
    "version": 3
   },
   "file_extension": ".py",
   "mimetype": "text/x-python",
   "name": "python",
   "nbconvert_exporter": "python",
   "pygments_lexer": "ipython3",
   "version": "3.9.16"
  },
  "orig_nbformat": 4
 },
 "nbformat": 4,
 "nbformat_minor": 2
}
