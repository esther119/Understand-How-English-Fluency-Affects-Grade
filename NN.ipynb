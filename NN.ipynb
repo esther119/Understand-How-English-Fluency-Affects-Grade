{
 "cells": [
  {
   "cell_type": "code",
   "execution_count": 1,
   "metadata": {},
   "outputs": [],
   "source": [
    "import pandas as pd\n",
    "from sklearn.model_selection import train_test_split\n",
    "from sklearn.metrics import mean_squared_error\n",
    "from sklearn.metrics import accuracy_score\n",
    "import matplotlib.pyplot as plt\n",
    "from sklearn.metrics import classification_report\n",
    "from sklearn.preprocessing import StandardScaler\n",
    "from sklearn.model_selection import KFold, cross_val_score\n",
    "from sklearn.neural_network import MLPClassifier\n",
    "from sklearn.metrics import classification_report\n",
    "import numpy as np \n"
   ]
  },
  {
   "cell_type": "code",
   "execution_count": 2,
   "metadata": {},
   "outputs": [],
   "source": [
    "df = pd.read_csv('vectorized_data.zip')\n",
    "\n",
    "sample_len = df[df['Assessment reports Score'] == 2].shape[0]\n",
    "\n",
    "sample_3 = df[df['Assessment reports Score'] == 3].sample(n= sample_len)\n",
    "sample_4 = df[df['Assessment reports Score'] == 4].sample(n= sample_len)\n",
    "\n",
    "#concatenate the dataframes\n",
    "df = pd.concat([df[df['Assessment reports Score'] == 2], sample_3, sample_4], axis=0)"
   ]
  },
  {
   "cell_type": "code",
   "execution_count": 3,
   "metadata": {},
   "outputs": [],
   "source": [
    "# X exclude categorical data\n",
    "X = df[['time_stamp','flesch_reading_ease', 'flesch_kincaid_grade', 'gunning_fog',\n",
    "       'smog_index', 'automated_readability_index', 'coleman_liau_index',\n",
    "       'dale_chall_readability_score', 'linsear_write_formula', 'hdd', 'Summer', 'Dugast', 'words_count',\n",
    "       'unique_words', 'ttr', 'rttr', 'cttr', 'mtld', 'herdan', 'maas', \n",
    "       'vec_1', 'vec_2', 'vec_3', 'vec_4', 'vec_5', 'vec_6', 'vec_7', 'vec_8',\n",
    "       'vec_9', 'vec_10', 'vec_11', 'vec_12', 'vec_13', 'vec_14', 'vec_15',\n",
    "       'vec_16', 'vec_17', 'vec_18', 'vec_19', 'vec_20']]\n",
    "y = df['Assessment reports Score']\n",
    "x_train, x_test, y_train, y_test = train_test_split(X, y)"
   ]
  },
  {
   "cell_type": "code",
   "execution_count": 4,
   "metadata": {},
   "outputs": [
    {
     "data": {
      "text/plain": [
       "2    21104\n",
       "3    21104\n",
       "4    21104\n",
       "Name: Assessment reports Score, dtype: int64"
      ]
     },
     "execution_count": 4,
     "metadata": {},
     "output_type": "execute_result"
    }
   ],
   "source": [
    "y.value_counts()"
   ]
  },
  {
   "cell_type": "code",
   "execution_count": 5,
   "metadata": {},
   "outputs": [],
   "source": [
    "scaler = StandardScaler()\n",
    "\n",
    "#Fit the StandardScaler to the training data\n",
    "x_train = scaler.fit_transform(x_train)\n",
    "\n",
    "# Apply the StandardScaler ti the test data\n",
    "x_test = scaler.transform(x_test)"
   ]
  },
  {
   "cell_type": "code",
   "execution_count": 6,
   "metadata": {},
   "outputs": [],
   "source": [
    "# turn the grade class from 1-5 to 0-4\n",
    "y_train = y_train - 1\n",
    "y_test = y_test -1"
   ]
  },
  {
   "cell_type": "code",
   "execution_count": 7,
   "metadata": {},
   "outputs": [],
   "source": [
    "from keras.utils import to_categorical\n",
    "y_train = to_categorical(y_train, num_classes=5) \n",
    "y_test = to_categorical(y_test, num_classes=5)"
   ]
  },
  {
   "cell_type": "code",
   "execution_count": 8,
   "metadata": {},
   "outputs": [],
   "source": [
    "# import keras modules\n",
    "from keras.models import Sequential\n",
    "from keras.layers import Dense"
   ]
  },
  {
   "cell_type": "code",
   "execution_count": 9,
   "metadata": {},
   "outputs": [
    {
     "name": "stdout",
     "output_type": "stream",
     "text": [
      "Metal device set to: Apple M1\n",
      "\n",
      "systemMemory: 8.00 GB\n",
      "maxCacheSize: 2.67 GB\n",
      "\n"
     ]
    },
    {
     "name": "stderr",
     "output_type": "stream",
     "text": [
      "2023-03-26 10:32:44.489694: I tensorflow/core/common_runtime/pluggable_device/pluggable_device_factory.cc:305] Could not identify NUMA node of platform GPU ID 0, defaulting to 0. Your kernel may not have been built with NUMA support.\n",
      "2023-03-26 10:32:44.490171: I tensorflow/core/common_runtime/pluggable_device/pluggable_device_factory.cc:271] Created TensorFlow device (/job:localhost/replica:0/task:0/device:GPU:0 with 0 MB memory) -> physical PluggableDevice (device: 0, name: METAL, pci bus id: <undefined>)\n"
     ]
    }
   ],
   "source": [
    "from tensorflow.keras.layers import BatchNormalization\n",
    "# define vars\n",
    "input_num_units = 40\n",
    "hidden1_num_units = 500\n",
    "hidden2_num_units = 500\n",
    "hidden3_num_units = 500\n",
    "hidden4_num_units = 500\n",
    "hidden5_num_units = 500\n",
    "output_num_units = 5\n",
    "\n",
    "epochs = 10\n",
    "batch_size = 128\n",
    "\n",
    "model = Sequential([\n",
    " Dense(units=hidden1_num_units, input_dim=input_num_units, activation='relu', kernel_initializer='he_normal'),\n",
    " BatchNormalization(),\n",
    " Dense(units=hidden2_num_units, input_dim=hidden1_num_units, activation='relu'),\n",
    " Dense(units=hidden5_num_units, input_dim=hidden4_num_units, activation='sigmoid'),\n",
    " Dense(units=output_num_units, input_dim=hidden5_num_units, activation='softmax'),\n",
    " ])\n"
   ]
  },
  {
   "cell_type": "code",
   "execution_count": 10,
   "metadata": {},
   "outputs": [
    {
     "name": "stdout",
     "output_type": "stream",
     "text": [
      "Epoch 1/10\n"
     ]
    },
    {
     "name": "stderr",
     "output_type": "stream",
     "text": [
      "2023-03-26 10:32:44.734762: W tensorflow/core/platform/profile_utils/cpu_utils.cc:128] Failed to get CPU frequency: 0 Hz\n",
      "2023-03-26 10:32:45.127707: I tensorflow/core/grappler/optimizers/custom_graph_optimizer_registry.cc:113] Plugin optimizer for device_type GPU is enabled.\n"
     ]
    },
    {
     "name": "stdout",
     "output_type": "stream",
     "text": [
      "371/371 [==============================] - ETA: 0s - loss: 1.0579 - accuracy: 0.4422"
     ]
    },
    {
     "name": "stderr",
     "output_type": "stream",
     "text": [
      "2023-03-26 10:32:50.590146: I tensorflow/core/grappler/optimizers/custom_graph_optimizer_registry.cc:113] Plugin optimizer for device_type GPU is enabled.\n"
     ]
    },
    {
     "name": "stdout",
     "output_type": "stream",
     "text": [
      "371/371 [==============================] - 7s 17ms/step - loss: 1.0579 - accuracy: 0.4422 - val_loss: 1.0425 - val_accuracy: 0.4518\n",
      "Epoch 2/10\n",
      "371/371 [==============================] - 6s 17ms/step - loss: 1.0301 - accuracy: 0.4657 - val_loss: 1.0366 - val_accuracy: 0.4592\n",
      "Epoch 3/10\n",
      "371/371 [==============================] - 7s 18ms/step - loss: 1.0175 - accuracy: 0.4741 - val_loss: 1.0421 - val_accuracy: 0.4521\n",
      "Epoch 4/10\n",
      "371/371 [==============================] - 5s 15ms/step - loss: 1.0039 - accuracy: 0.4897 - val_loss: 1.0413 - val_accuracy: 0.4541\n",
      "Epoch 5/10\n",
      "371/371 [==============================] - 6s 15ms/step - loss: 0.9881 - accuracy: 0.5027 - val_loss: 1.0527 - val_accuracy: 0.4532\n",
      "Epoch 6/10\n",
      "371/371 [==============================] - 6s 15ms/step - loss: 0.9746 - accuracy: 0.5160 - val_loss: 1.0517 - val_accuracy: 0.4510\n",
      "Epoch 7/10\n",
      "371/371 [==============================] - 5s 15ms/step - loss: 0.9514 - accuracy: 0.5362 - val_loss: 1.0574 - val_accuracy: 0.4654\n",
      "Epoch 8/10\n",
      "371/371 [==============================] - 6s 15ms/step - loss: 0.9237 - accuracy: 0.5560 - val_loss: 1.0768 - val_accuracy: 0.4481\n",
      "Epoch 9/10\n",
      "371/371 [==============================] - 6s 16ms/step - loss: 0.8919 - accuracy: 0.5791 - val_loss: 1.0893 - val_accuracy: 0.4447\n",
      "Epoch 10/10\n",
      "371/371 [==============================] - 6s 15ms/step - loss: 0.8538 - accuracy: 0.6039 - val_loss: 1.1163 - val_accuracy: 0.4517\n"
     ]
    }
   ],
   "source": [
    "from keras.optimizers import SGD\n",
    "\n",
    "model.compile(loss='categorical_crossentropy', optimizer= 'adam', metrics=['accuracy'])\n",
    "\n",
    "trained_model_5d = model.fit(x_train, y_train, epochs=epochs, batch_size=batch_size, validation_data=(x_test, y_test))"
   ]
  },
  {
   "cell_type": "code",
   "execution_count": 11,
   "metadata": {},
   "outputs": [
    {
     "data": {
      "text/plain": [
       "{'loss': [1.057887077331543,\n",
       "  1.030065655708313,\n",
       "  1.0174643993377686,\n",
       "  1.00389564037323,\n",
       "  0.9881017208099365,\n",
       "  0.9745763540267944,\n",
       "  0.9513751268386841,\n",
       "  0.9237332344055176,\n",
       "  0.8919039368629456,\n",
       "  0.8538204431533813],\n",
       " 'accuracy': [0.44217002391815186,\n",
       "  0.46567267179489136,\n",
       "  0.4740754961967468,\n",
       "  0.48968076705932617,\n",
       "  0.5027167201042175,\n",
       "  0.5159843564033508,\n",
       "  0.5362437963485718,\n",
       "  0.5559767484664917,\n",
       "  0.5791003704071045,\n",
       "  0.6039297580718994],\n",
       " 'val_loss': [1.042517066001892,\n",
       "  1.0365843772888184,\n",
       "  1.0421113967895508,\n",
       "  1.0412791967391968,\n",
       "  1.0526983737945557,\n",
       "  1.051667332649231,\n",
       "  1.0573850870132446,\n",
       "  1.0768250226974487,\n",
       "  1.0892881155014038,\n",
       "  1.1162748336791992],\n",
       " 'val_accuracy': [0.451794296503067,\n",
       "  0.45924943685531616,\n",
       "  0.4521102011203766,\n",
       "  0.45406875014305115,\n",
       "  0.45324742794036865,\n",
       "  0.45103615522384644,\n",
       "  0.4653778076171875,\n",
       "  0.44806671142578125,\n",
       "  0.44465506076812744,\n",
       "  0.4517311155796051]}"
      ]
     },
     "execution_count": 11,
     "metadata": {},
     "output_type": "execute_result"
    }
   ],
   "source": [
    "trained_model_5d.history"
   ]
  },
  {
   "cell_type": "code",
   "execution_count": 12,
   "metadata": {},
   "outputs": [
    {
     "data": {
      "image/png": "[encoded data removed]",
      "text/plain": [
       "<Figure size 640x480 with 1 Axes>"
      ]
     },
     "metadata": {},
     "output_type": "display_data"
    }
   ],
   "source": [
    "plt.plot(trained_model_5d.history['accuracy'])\n",
    "plt.plot(trained_model_5d.history['val_accuracy'])\n",
    "plt.title('model accuracy')\n",
    "plt.ylabel('accuracy')\n",
    "plt.xlabel('epoch')\n",
    "plt.legend(['train', 'val'], loc='upper left')\n",
    "plt.show()"
   ]
  },
  {
   "cell_type": "code",
   "execution_count": 13,
   "metadata": {},
   "outputs": [
    {
     "data": {
      "image/png": "[encoded data removed]",
      "text/plain": [
       "<Figure size 640x480 with 1 Axes>"
      ]
     },
     "metadata": {},
     "output_type": "display_data"
    }
   ],
   "source": [
    "# Plot training & validation loss values\n",
    "plt.plot(trained_model_5d.history['loss'])\n",
    "plt.plot(trained_model_5d.history['val_loss'])\n",
    "plt.title('Model loss')\n",
    "plt.ylabel('Loss')\n",
    "plt.xlabel('Epoch')\n",
    "plt.legend(['Train', 'Validation'], loc='upper left')\n",
    "plt.show()"
   ]
  },
  {
   "cell_type": "code",
   "execution_count": 14,
   "metadata": {},
   "outputs": [
    {
     "name": "stdout",
     "output_type": "stream",
     "text": [
      " 51/495 [==>...........................] - ETA: 0s"
     ]
    },
    {
     "name": "stderr",
     "output_type": "stream",
     "text": [
      "2023-03-26 10:33:45.006422: I tensorflow/core/grappler/optimizers/custom_graph_optimizer_registry.cc:113] Plugin optimizer for device_type GPU is enabled.\n"
     ]
    },
    {
     "name": "stdout",
     "output_type": "stream",
     "text": [
      "495/495 [==============================] - 1s 2ms/step\n",
      "              precision    recall  f1-score   support\n",
      "\n",
      "           2       0.46      0.59      0.52      5203\n",
      "           3       0.41      0.30      0.35      5348\n",
      "           4       0.47      0.46      0.47      5277\n",
      "\n",
      "    accuracy                           0.45     15828\n",
      "   macro avg       0.45      0.45      0.45     15828\n",
      "weighted avg       0.45      0.45      0.44     15828\n",
      "\n"
     ]
    }
   ],
   "source": [
    "y_pred = model.predict(x_test)\n",
    "y_pred_classes = np.argmax(y_pred, axis=1)\n",
    "y_true_classes = np.argmax(y_test, axis = 1)\n",
    "\n",
    "# Create a classification report using scikit-learn's classification_report function\n",
    "target_names = ['2', '3', '4'] # replace with your own class names\n",
    "print(classification_report(y_true_classes, y_pred_classes, target_names=target_names))"
   ]
  },
  {
   "cell_type": "code",
   "execution_count": null,
   "metadata": {},
   "outputs": [],
   "source": []
  }
 ],
 "metadata": {
  "kernelspec": {
   "display_name": "base",
   "language": "python",
   "name": "python3"
  },
  "language_info": {
   "codemirror_mode": {
    "name": "ipython",
    "version": 3
   },
   "file_extension": ".py",
   "mimetype": "text/x-python",
   "name": "python",
   "nbconvert_exporter": "python",
   "pygments_lexer": "ipython3",
   "version": "3.9.16"
  },
  "orig_nbformat": 4
 },
 "nbformat": 4,
 "nbformat_minor": 2
}
