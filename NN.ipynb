{
 "cells": [
  {
   "cell_type": "code",
   "execution_count": 1,
   "metadata": {},
   "outputs": [],
   "source": [
    "import pandas as pd\n",
    "from sklearn.model_selection import train_test_split\n",
    "from sklearn.metrics import mean_squared_error\n",
    "from sklearn.metrics import accuracy_score\n",
    "import matplotlib.pyplot as plt\n",
    "from sklearn.metrics import classification_report\n",
    "from sklearn.preprocessing import StandardScaler\n",
    "from sklearn.model_selection import KFold, cross_val_score\n",
    "from sklearn.neural_network import MLPClassifier\n",
    "from sklearn.metrics import classification_report\n",
    "import numpy as np \n"
   ]
  },
  {
   "cell_type": "code",
   "execution_count": 2,
   "metadata": {},
   "outputs": [],
   "source": [
    "df = pd.read_csv('vectorized_data.zip')\n",
    "\n",
    "sample_len = df[df['Assessment reports Score'] == 2].shape[0]\n",
    "\n",
    "sample_3 = df[df['Assessment reports Score'] == 3].sample(n= sample_len)\n",
    "sample_4 = df[df['Assessment reports Score'] == 4].sample(n= sample_len)\n",
    "\n",
    "#concatenate the dataframes\n",
    "df = pd.concat([df[df['Assessment reports Score'] == 2], sample_3, sample_4], axis=0)"
   ]
  },
  {
   "cell_type": "code",
   "execution_count": 3,
   "metadata": {},
   "outputs": [],
   "source": [
    "# X exclude categorical data\n",
    "X = df[['time_stamp','flesch_reading_ease', 'flesch_kincaid_grade', 'gunning_fog',\n",
    "       'smog_index', 'automated_readability_index', 'coleman_liau_index',\n",
    "       'dale_chall_readability_score', 'linsear_write_formula', 'hdd', 'Summer', 'Dugast', 'words_count',\n",
    "       'unique_words', 'ttr', 'rttr', 'cttr', 'mtld', 'herdan', 'maas', \n",
    "       'vec_1', 'vec_2', 'vec_3', 'vec_4', 'vec_5', 'vec_6', 'vec_7', 'vec_8',\n",
    "       'vec_9', 'vec_10', 'vec_11', 'vec_12', 'vec_13', 'vec_14', 'vec_15',\n",
    "       'vec_16', 'vec_17', 'vec_18', 'vec_19', 'vec_20']]\n",
    "y = df['Assessment reports Score']\n",
    "x_train, x_test, y_train, y_test = train_test_split(X, y)"
   ]
  },
  {
   "cell_type": "code",
   "execution_count": 4,
   "metadata": {},
   "outputs": [
    {
     "data": {
      "text/plain": [
       "2    21104\n",
       "3    21104\n",
       "4    21104\n",
       "Name: Assessment reports Score, dtype: int64"
      ]
     },
     "execution_count": 4,
     "metadata": {},
     "output_type": "execute_result"
    }
   ],
   "source": [
    "y.value_counts()"
   ]
  },
  {
   "cell_type": "code",
   "execution_count": 5,
   "metadata": {},
   "outputs": [],
   "source": [
    "scaler = StandardScaler()\n",
    "\n",
    "#Fit the StandardScaler to the training data\n",
    "x_train = scaler.fit_transform(x_train)\n",
    "\n",
    "# Apply the StandardScaler ti the test data\n",
    "x_test = scaler.transform(x_test)"
   ]
  },
  {
   "cell_type": "code",
   "execution_count": 6,
   "metadata": {},
   "outputs": [],
   "source": [
    "# turn the grade class from 1-5 to 0-4\n",
    "y_train = y_train - 1\n",
    "y_test = y_test -1"
   ]
  },
  {
   "cell_type": "code",
   "execution_count": 7,
   "metadata": {},
   "outputs": [],
   "source": [
    "from keras.utils import to_categorical\n",
    "y_train = to_categorical(y_train, num_classes=5) \n",
    "y_test = to_categorical(y_test, num_classes=5)"
   ]
  },
  {
   "cell_type": "code",
   "execution_count": 8,
   "metadata": {},
   "outputs": [],
   "source": [
    "# import keras modules\n",
    "from keras.models import Sequential\n",
    "from keras.layers import Dense"
   ]
  },
  {
   "cell_type": "code",
   "execution_count": 15,
   "metadata": {},
   "outputs": [],
   "source": [
    "from tensorflow.keras.layers import BatchNormalization\n",
    "# define vars\n",
    "input_num_units = 40\n",
    "hidden1_num_units = 500\n",
    "hidden2_num_units = 500\n",
    "hidden3_num_units = 500\n",
    "hidden4_num_units = 500\n",
    "hidden5_num_units = 500\n",
    "output_num_units = 5\n",
    "\n",
    "epochs = 20\n",
    "batch_size = 128\n",
    "\n",
    "model = Sequential([\n",
    " Dense(units=hidden1_num_units, input_dim=input_num_units, activation='relu', kernel_initializer='he_normal'),\n",
    " BatchNormalization(),\n",
    " Dense(units=hidden2_num_units, input_dim=hidden1_num_units, activation='relu'),\n",
    " Dense(units=hidden5_num_units, input_dim=hidden4_num_units, activation='sigmoid'),\n",
    " Dense(units=output_num_units, input_dim=hidden5_num_units, activation='softmax'),\n",
    " ])\n"
   ]
  },
  {
   "cell_type": "code",
   "execution_count": 16,
   "metadata": {},
   "outputs": [
    {
     "name": "stdout",
     "output_type": "stream",
     "text": [
      "Epoch 1/20\n"
     ]
    },
    {
     "name": "stderr",
     "output_type": "stream",
     "text": [
      "2023-03-26 12:06:39.093866: I tensorflow/core/grappler/optimizers/custom_graph_optimizer_registry.cc:113] Plugin optimizer for device_type GPU is enabled.\n"
     ]
    },
    {
     "name": "stdout",
     "output_type": "stream",
     "text": [
      "371/371 [==============================] - ETA: 0s - loss: 1.0587 - accuracy: 0.4425"
     ]
    },
    {
     "name": "stderr",
     "output_type": "stream",
     "text": [
      "2023-03-26 12:06:50.254719: I tensorflow/core/grappler/optimizers/custom_graph_optimizer_registry.cc:113] Plugin optimizer for device_type GPU is enabled.\n"
     ]
    },
    {
     "name": "stdout",
     "output_type": "stream",
     "text": [
      "371/371 [==============================] - 14s 34ms/step - loss: 1.0587 - accuracy: 0.4425 - val_loss: 1.0417 - val_accuracy: 0.4594\n",
      "Epoch 2/20\n",
      "371/371 [==============================] - 12s 34ms/step - loss: 1.0303 - accuracy: 0.4663 - val_loss: 1.0386 - val_accuracy: 0.4556\n",
      "Epoch 3/20\n",
      "371/371 [==============================] - 12s 33ms/step - loss: 1.0153 - accuracy: 0.4794 - val_loss: 1.0359 - val_accuracy: 0.4580\n",
      "Epoch 4/20\n",
      "371/371 [==============================] - 12s 33ms/step - loss: 1.0042 - accuracy: 0.4923 - val_loss: 1.0415 - val_accuracy: 0.4530\n",
      "Epoch 5/20\n",
      "371/371 [==============================] - 9s 25ms/step - loss: 0.9905 - accuracy: 0.5020 - val_loss: 1.0386 - val_accuracy: 0.4601\n",
      "Epoch 6/20\n",
      "371/371 [==============================] - 12s 31ms/step - loss: 0.9730 - accuracy: 0.5169 - val_loss: 1.0575 - val_accuracy: 0.4526\n",
      "Epoch 7/20\n",
      "371/371 [==============================] - 13s 36ms/step - loss: 0.9541 - accuracy: 0.5328 - val_loss: 1.0578 - val_accuracy: 0.4549\n",
      "Epoch 8/20\n",
      "371/371 [==============================] - 12s 33ms/step - loss: 0.9266 - accuracy: 0.5552 - val_loss: 1.0582 - val_accuracy: 0.4538\n",
      "Epoch 9/20\n",
      "371/371 [==============================] - 12s 32ms/step - loss: 0.8944 - accuracy: 0.5781 - val_loss: 1.0903 - val_accuracy: 0.4486\n",
      "Epoch 10/20\n",
      "371/371 [==============================] - 10s 28ms/step - loss: 0.8565 - accuracy: 0.6044 - val_loss: 1.1131 - val_accuracy: 0.4435\n",
      "Epoch 11/20\n",
      "371/371 [==============================] - 7s 18ms/step - loss: 0.8122 - accuracy: 0.6318 - val_loss: 1.1417 - val_accuracy: 0.4378\n",
      "Epoch 12/20\n",
      "371/371 [==============================] - 7s 18ms/step - loss: 0.7604 - accuracy: 0.6642 - val_loss: 1.1649 - val_accuracy: 0.4354\n",
      "Epoch 13/20\n",
      "371/371 [==============================] - 7s 19ms/step - loss: 0.7038 - accuracy: 0.6973 - val_loss: 1.2355 - val_accuracy: 0.4345\n",
      "Epoch 14/20\n",
      "371/371 [==============================] - 6s 17ms/step - loss: 0.6450 - accuracy: 0.7303 - val_loss: 1.2618 - val_accuracy: 0.4379\n",
      "Epoch 15/20\n",
      "371/371 [==============================] - 7s 18ms/step - loss: 0.5822 - accuracy: 0.7638 - val_loss: 1.3326 - val_accuracy: 0.4273\n",
      "Epoch 16/20\n",
      "371/371 [==============================] - 6s 17ms/step - loss: 0.5230 - accuracy: 0.7917 - val_loss: 1.3957 - val_accuracy: 0.4292\n",
      "Epoch 17/20\n",
      "371/371 [==============================] - 6s 17ms/step - loss: 0.4636 - accuracy: 0.8222 - val_loss: 1.4484 - val_accuracy: 0.4344\n",
      "Epoch 18/20\n",
      "371/371 [==============================] - 7s 18ms/step - loss: 0.4061 - accuracy: 0.8515 - val_loss: 1.5265 - val_accuracy: 0.4263\n",
      "Epoch 19/20\n",
      "371/371 [==============================] - 8s 21ms/step - loss: 0.3598 - accuracy: 0.8711 - val_loss: 1.5955 - val_accuracy: 0.4242\n",
      "Epoch 20/20\n",
      "371/371 [==============================] - 6s 17ms/step - loss: 0.3160 - accuracy: 0.8916 - val_loss: 1.6838 - val_accuracy: 0.4274\n"
     ]
    }
   ],
   "source": [
    "from keras.optimizers import SGD\n",
    "\n",
    "model.compile(loss='categorical_crossentropy', optimizer= 'adam', metrics=['accuracy'])\n",
    "\n",
    "trained_model_5d = model.fit(x_train, y_train, epochs=epochs, batch_size=batch_size, validation_data=(x_test, y_test))"
   ]
  },
  {
   "cell_type": "code",
   "execution_count": 17,
   "metadata": {},
   "outputs": [
    {
     "data": {
      "text/plain": [
       "{'loss': [1.0586904287338257,\n",
       "  1.0302873849868774,\n",
       "  1.0153454542160034,\n",
       "  1.0041968822479248,\n",
       "  0.9904599785804749,\n",
       "  0.972984790802002,\n",
       "  0.9541493058204651,\n",
       "  0.9266058206558228,\n",
       "  0.8943736553192139,\n",
       "  0.8564866781234741,\n",
       "  0.812161922454834,\n",
       "  0.7603601813316345,\n",
       "  0.7038068175315857,\n",
       "  0.6450193524360657,\n",
       "  0.5821702480316162,\n",
       "  0.5229842066764832,\n",
       "  0.4636200964450836,\n",
       "  0.40614742040634155,\n",
       "  0.359806090593338,\n",
       "  0.3160009980201721],\n",
       " 'accuracy': [0.44252803921699524,\n",
       "  0.4663255214691162,\n",
       "  0.47938254475593567,\n",
       "  0.4922921657562256,\n",
       "  0.502042829990387,\n",
       "  0.5168688893318176,\n",
       "  0.532768964767456,\n",
       "  0.555197536945343,\n",
       "  0.5781105756759644,\n",
       "  0.604414165019989,\n",
       "  0.6318339109420776,\n",
       "  0.664181649684906,\n",
       "  0.6973296403884888,\n",
       "  0.730330228805542,\n",
       "  0.7637730836868286,\n",
       "  0.7916982769966125,\n",
       "  0.8221506476402283,\n",
       "  0.8515290021896362,\n",
       "  0.8711144924163818,\n",
       "  0.8916056156158447],\n",
       " 'val_loss': [1.0416642427444458,\n",
       "  1.0386087894439697,\n",
       "  1.0358937978744507,\n",
       "  1.0415477752685547,\n",
       "  1.0386345386505127,\n",
       "  1.0574932098388672,\n",
       "  1.0578479766845703,\n",
       "  1.0582383871078491,\n",
       "  1.090317726135254,\n",
       "  1.1131216287612915,\n",
       "  1.1417418718338013,\n",
       "  1.1649131774902344,\n",
       "  1.2355284690856934,\n",
       "  1.2618168592453003,\n",
       "  1.33256196975708,\n",
       "  1.3957043886184692,\n",
       "  1.448413372039795,\n",
       "  1.5265161991119385,\n",
       "  1.5955467224121094,\n",
       "  1.6838189363479614],\n",
       " 'val_accuracy': [0.4594389796257019,\n",
       "  0.4556482136249542,\n",
       "  0.45798584818840027,\n",
       "  0.452994704246521,\n",
       "  0.46007075905799866,\n",
       "  0.4526156187057495,\n",
       "  0.45489007234573364,\n",
       "  0.4538160264492035,\n",
       "  0.4486353397369385,\n",
       "  0.44345465302467346,\n",
       "  0.43776851892471313,\n",
       "  0.4353677034378052,\n",
       "  0.4345463812351227,\n",
       "  0.43789488077163696,\n",
       "  0.4272807836532593,\n",
       "  0.42923933267593384,\n",
       "  0.43442001938819885,\n",
       "  0.42633309960365295,\n",
       "  0.42418500781059265,\n",
       "  0.4274071455001831]}"
      ]
     },
     "execution_count": 17,
     "metadata": {},
     "output_type": "execute_result"
    }
   ],
   "source": [
    "trained_model_5d.history"
   ]
  },
  {
   "cell_type": "code",
   "execution_count": 18,
   "metadata": {},
   "outputs": [
    {
     "data": {
      "image/png": "[encoded data removed]",
      "text/plain": [
       "<Figure size 640x480 with 1 Axes>"
      ]
     },
     "metadata": {},
     "output_type": "display_data"
    }
   ],
   "source": [
    "plt.plot(trained_model_5d.history['accuracy'])\n",
    "plt.plot(trained_model_5d.history['val_accuracy'])\n",
    "plt.title('model accuracy')\n",
    "plt.ylabel('accuracy')\n",
    "plt.xlabel('epoch')\n",
    "plt.legend(['train', 'val'], loc='upper left')\n",
    "plt.show()"
   ]
  },
  {
   "cell_type": "code",
   "execution_count": 19,
   "metadata": {},
   "outputs": [
    {
     "data": {
      "image/png": "[encoded data removed]",
      "text/plain": [
       "<Figure size 640x480 with 1 Axes>"
      ]
     },
     "metadata": {},
     "output_type": "display_data"
    }
   ],
   "source": [
    "# Plot training & validation loss values\n",
    "plt.plot(trained_model_5d.history['loss'])\n",
    "plt.plot(trained_model_5d.history['val_loss'])\n",
    "plt.title('Model loss')\n",
    "plt.ylabel('Loss')\n",
    "plt.xlabel('Epoch')\n",
    "plt.legend(['Train', 'Validation'], loc='upper left')\n",
    "plt.show()"
   ]
  },
  {
   "cell_type": "code",
   "execution_count": 20,
   "metadata": {},
   "outputs": [
    {
     "name": "stdout",
     "output_type": "stream",
     "text": [
      " 22/495 [>.............................] - ETA: 1s  "
     ]
    },
    {
     "name": "stderr",
     "output_type": "stream",
     "text": [
      "2023-03-26 12:09:46.101703: I tensorflow/core/grappler/optimizers/custom_graph_optimizer_registry.cc:113] Plugin optimizer for device_type GPU is enabled.\n"
     ]
    },
    {
     "name": "stdout",
     "output_type": "stream",
     "text": [
      "495/495 [==============================] - 1s 2ms/step\n",
      "              precision    recall  f1-score   support\n",
      "\n",
      "           2       0.45      0.47      0.46      5203\n",
      "           3       0.38      0.36      0.37      5348\n",
      "           4       0.45      0.45      0.45      5277\n",
      "\n",
      "    accuracy                           0.43     15828\n",
      "   macro avg       0.43      0.43      0.43     15828\n",
      "weighted avg       0.43      0.43      0.43     15828\n",
      "\n"
     ]
    }
   ],
   "source": [
    "y_pred = model.predict(x_test)\n",
    "y_pred_classes = np.argmax(y_pred, axis=1)\n",
    "y_true_classes = np.argmax(y_test, axis = 1)\n",
    "\n",
    "# Create a classification report using scikit-learn's classification_report function\n",
    "target_names = ['2', '3', '4'] # replace with your own class names\n",
    "print(classification_report(y_true_classes, y_pred_classes, target_names=target_names))"
   ]
  },
  {
   "cell_type": "code",
   "execution_count": null,
   "metadata": {},
   "outputs": [],
   "source": []
  }
 ],
 "metadata": {
  "kernelspec": {
   "display_name": "base",
   "language": "python",
   "name": "python3"
  },
  "language_info": {
   "codemirror_mode": {
    "name": "ipython",
    "version": 3
   },
   "file_extension": ".py",
   "mimetype": "text/x-python",
   "name": "python",
   "nbconvert_exporter": "python",
   "pygments_lexer": "ipython3",
   "version": "3.9.16"
  },
  "orig_nbformat": 4
 },
 "nbformat": 4,
 "nbformat_minor": 2
}
