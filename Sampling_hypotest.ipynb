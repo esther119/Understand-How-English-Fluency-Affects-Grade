{
 "cells": [
  {
   "cell_type": "code",
   "execution_count": 16,
   "metadata": {},
   "outputs": [],
   "source": [
    "import pandas as pd \n",
    "import numpy as np\n",
    "import random"
   ]
  },
  {
   "cell_type": "code",
   "execution_count": 2,
   "metadata": {},
   "outputs": [],
   "source": [
    "df = pd.read_csv('readibility_process_data.zip')"
   ]
  },
  {
   "cell_type": "code",
   "execution_count": 3,
   "metadata": {},
   "outputs": [],
   "source": [
    "df = df[df['Poll Responses Response'].notnull()]"
   ]
  },
  {
   "cell_type": "code",
   "execution_count": 4,
   "metadata": {},
   "outputs": [],
   "source": [
    "#exclude all the rows contain http\n",
    "http_index = df[df['Poll Responses Response'].str.contains('http')]['Poll Responses Response'].index\n",
    "http_texts = df[df.index.isin(http_index)]['Poll Responses Response']\n",
    "\n",
    "df = df[~df.index.isin(http_index)]"
   ]
  },
  {
   "cell_type": "code",
   "execution_count": 5,
   "metadata": {},
   "outputs": [],
   "source": [
    "from IPython.display import display\n",
    "# pd.options.display.max_rows = None\n",
    "# pd.set_option('display.max_colwidth', None)\n"
   ]
  },
  {
   "cell_type": "code",
   "execution_count": 6,
   "metadata": {},
   "outputs": [],
   "source": [
    "math_texts = df[(df['Poll Responses Response'].str.contains('P\\('))]"
   ]
  },
  {
   "cell_type": "code",
   "execution_count": 7,
   "metadata": {},
   "outputs": [],
   "source": [
    "code_texts = df[(df['Poll Responses Response'].str.contains('==')) & (df['College']=='CS')]"
   ]
  },
  {
   "cell_type": "code",
   "execution_count": 8,
   "metadata": {},
   "outputs": [],
   "source": [
    "code_http_math_texts = pd.concat([code_texts, http_texts, math_texts])\n",
    "code_http_texts = pd.concat([code_texts, http_texts])"
   ]
  },
  {
   "cell_type": "code",
   "execution_count": 9,
   "metadata": {},
   "outputs": [],
   "source": [
    "code_http_math_texts = code_http_math_texts[code_http_math_texts['Assessment reports Score'].notnull()]\n",
    "code_http_math_texts = code_http_math_texts[code_http_math_texts['dale_chall_readability_score'].notnull()]"
   ]
  },
  {
   "cell_type": "code",
   "execution_count": 10,
   "metadata": {},
   "outputs": [],
   "source": [
    "code_http_texts = code_http_texts[code_http_texts['Assessment reports Score'].notnull()]\n",
    "code_http_texts = code_http_texts[code_http_texts['dale_chall_readability_score'].notnull()]"
   ]
  },
  {
   "cell_type": "code",
   "execution_count": 11,
   "metadata": {},
   "outputs": [],
   "source": [
    "writing_texts = df[df['LOs/ HCs'] == 'composition']\n",
    "writing_texts = writing_texts[writing_texts['Assessment reports Score'].notnull()]\n",
    "writing_texts = writing_texts[writing_texts['dale_chall_readability_score'].notnull()]"
   ]
  },
  {
   "cell_type": "code",
   "execution_count": 12,
   "metadata": {},
   "outputs": [],
   "source": [
    "throw_away = pd.concat([code_http_math_texts, writing_texts]).index\n",
    "the_rest_texts = df[~df.index.isin(throw_away)]"
   ]
  },
  {
   "cell_type": "code",
   "execution_count": 13,
   "metadata": {},
   "outputs": [],
   "source": [
    "import matplotlib.pyplot as plt\n",
    "import seaborn as sns"
   ]
  },
  {
   "cell_type": "code",
   "execution_count": 14,
   "metadata": {},
   "outputs": [
    {
     "data": {
      "text/plain": [
       "3    92030\n",
       "4    60896\n",
       "2    21708\n",
       "1     1834\n",
       "5      505\n",
       "Name: Assessment reports Score, dtype: int64"
      ]
     },
     "execution_count": 14,
     "metadata": {},
     "output_type": "execute_result"
    }
   ],
   "source": [
    "score_dist = the_rest_texts['Assessment reports Score'].value_counts()\n",
    "score_dist"
   ]
  },
  {
   "cell_type": "code",
   "execution_count": 15,
   "metadata": {},
   "outputs": [
    {
     "data": {
      "text/plain": [
       "(0.5200228283410464,\n",
       " 0.3440976872178242,\n",
       " 0.12266277906799342,\n",
       " 0.010363162742339227,\n",
       " 0.002853542630796788)"
      ]
     },
     "execution_count": 15,
     "metadata": {},
     "output_type": "execute_result"
    }
   ],
   "source": [
    "prob_3, prob_4, prob_2, prob_1, prob_5 = score_dist.values/sum(score_dist.values)\n",
    "prob_3, prob_4, prob_2, prob_1, prob_5"
   ]
  },
  {
   "cell_type": "code",
   "execution_count": 22,
   "metadata": {},
   "outputs": [],
   "source": [
    "random_grades = random.choices(population=[1,2,3,4,5], weights=[prob_1, prob_2, prob_3, prob_4, prob_5],k=len(the_rest_texts))"
   ]
  },
  {
   "cell_type": "code",
   "execution_count": null,
   "metadata": {},
   "outputs": [],
   "source": []
  }
 ],
 "metadata": {
  "kernelspec": {
   "display_name": "base",
   "language": "python",
   "name": "python3"
  },
  "language_info": {
   "codemirror_mode": {
    "name": "ipython",
    "version": 3
   },
   "file_extension": ".py",
   "mimetype": "text/x-python",
   "name": "python",
   "nbconvert_exporter": "python",
   "pygments_lexer": "ipython3",
   "version": "3.9.7"
  },
  "orig_nbformat": 4,
  "vscode": {
   "interpreter": {
    "hash": "c9b5a0d0397a965b8a61bea250a52cf791a7dd32e6dbdab8d82b426f9cd3b168"
   }
  }
 },
 "nbformat": 4,
 "nbformat_minor": 2
}
