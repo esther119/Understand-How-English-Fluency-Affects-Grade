{
 "cells": [
  {
   "cell_type": "markdown",
   "metadata": {},
   "source": [
    "# Readability score"
   ]
  },
  {
   "cell_type": "code",
   "execution_count": 1,
   "metadata": {},
   "outputs": [],
   "source": [
    "import textstat\n",
    "import pandas as pd \n",
    "import matplotlib.pyplot as plt"
   ]
  },
  {
   "cell_type": "code",
   "execution_count": 2,
   "metadata": {},
   "outputs": [],
   "source": [
    "df = pd.read_csv('processed_response.zip')"
   ]
  },
  {
   "cell_type": "code",
   "execution_count": 3,
   "metadata": {},
   "outputs": [
    {
     "data": {
      "text/plain": [
       "Index(['Polls ID', 'Poll Responses Response', 'Assessment reports Hashtag',\n",
       "       'Assessment reports Score', 'time_stamp', 'tokenized_responses',\n",
       "       'stemmed_responses', 'clean_responses', 'string', 'LOs/ HCs', 'College',\n",
       "       'Course'],\n",
       "      dtype='object')"
      ]
     },
     "execution_count": 3,
     "metadata": {},
     "output_type": "execute_result"
    }
   ],
   "source": [
    "df.columns"
   ]
  },
  {
   "cell_type": "markdown",
   "metadata": {},
   "source": [
    "## add different readability metrics"
   ]
  },
  {
   "cell_type": "code",
   "execution_count": 4,
   "metadata": {},
   "outputs": [],
   "source": [
    "df['string']= df['string'].apply(str)\n",
    "df['flesch_reading_ease']= df[\"string\"].map(textstat.flesch_reading_ease)\n",
    "df['flesch_kincaid_grade']= df[\"string\"].map(textstat.flesch_kincaid_grade)\n",
    "df['gunning_fog']= df[\"string\"].map(textstat.gunning_fog)\n",
    "df['smog_index']= df[\"string\"].map(textstat.smog_index)\n",
    "df['automated_readability_index']= df[\"string\"].map(textstat.automated_readability_index)"
   ]
  },
  {
   "cell_type": "code",
   "execution_count": 10,
   "metadata": {},
   "outputs": [
    {
     "ename": "KeyboardInterrupt",
     "evalue": "",
     "output_type": "error",
     "traceback": [
      "\u001b[0;31m---------------------------------------------------------------------------\u001b[0m",
      "\u001b[0;31mKeyboardInterrupt\u001b[0m                         Traceback (most recent call last)",
      "\u001b[0;32m/var/folders/0h/xyv81g2n7sj6zr0c9cw30gkc0000gn/T/ipykernel_13943/59433866.py\u001b[0m in \u001b[0;36m<module>\u001b[0;34m\u001b[0m\n\u001b[1;32m      2\u001b[0m \u001b[0mdf\u001b[0m\u001b[0;34m[\u001b[0m\u001b[0;34m'dale_chall_readability_score'\u001b[0m\u001b[0;34m]\u001b[0m\u001b[0;34m=\u001b[0m \u001b[0mdf\u001b[0m\u001b[0;34m[\u001b[0m\u001b[0;34m\"string\"\u001b[0m\u001b[0;34m]\u001b[0m\u001b[0;34m.\u001b[0m\u001b[0mmap\u001b[0m\u001b[0;34m(\u001b[0m\u001b[0mtextstat\u001b[0m\u001b[0;34m.\u001b[0m\u001b[0mdale_chall_readability_score\u001b[0m\u001b[0;34m)\u001b[0m\u001b[0;34m\u001b[0m\u001b[0;34m\u001b[0m\u001b[0m\n\u001b[1;32m      3\u001b[0m \u001b[0mdf\u001b[0m\u001b[0;34m[\u001b[0m\u001b[0;34m'linsear_write_formula'\u001b[0m\u001b[0;34m]\u001b[0m\u001b[0;34m=\u001b[0m \u001b[0mdf\u001b[0m\u001b[0;34m[\u001b[0m\u001b[0;34m\"string\"\u001b[0m\u001b[0;34m]\u001b[0m\u001b[0;34m.\u001b[0m\u001b[0mmap\u001b[0m\u001b[0;34m(\u001b[0m\u001b[0mtextstat\u001b[0m\u001b[0;34m.\u001b[0m\u001b[0mlinsear_write_formula\u001b[0m\u001b[0;34m)\u001b[0m\u001b[0;34m\u001b[0m\u001b[0;34m\u001b[0m\u001b[0m\n\u001b[0;32m----> 4\u001b[0;31m \u001b[0mdf\u001b[0m\u001b[0;34m[\u001b[0m\u001b[0;34m'text_standard'\u001b[0m\u001b[0;34m]\u001b[0m\u001b[0;34m=\u001b[0m \u001b[0mdf\u001b[0m\u001b[0;34m[\u001b[0m\u001b[0;34m\"string\"\u001b[0m\u001b[0;34m]\u001b[0m\u001b[0;34m.\u001b[0m\u001b[0mmap\u001b[0m\u001b[0;34m(\u001b[0m\u001b[0mtextstat\u001b[0m\u001b[0;34m.\u001b[0m\u001b[0mtext_standard\u001b[0m\u001b[0;34m)\u001b[0m\u001b[0;34m\u001b[0m\u001b[0;34m\u001b[0m\u001b[0m\n\u001b[0m\u001b[1;32m      5\u001b[0m \u001b[0mdf\u001b[0m\u001b[0;34m[\u001b[0m\u001b[0;34m'spache_readability'\u001b[0m\u001b[0;34m]\u001b[0m\u001b[0;34m=\u001b[0m \u001b[0mdf\u001b[0m\u001b[0;34m[\u001b[0m\u001b[0;34m\"string\"\u001b[0m\u001b[0;34m]\u001b[0m\u001b[0;34m.\u001b[0m\u001b[0mmap\u001b[0m\u001b[0;34m(\u001b[0m\u001b[0mtextstat\u001b[0m\u001b[0;34m.\u001b[0m\u001b[0mspache_readability\u001b[0m\u001b[0;34m)\u001b[0m\u001b[0;34m\u001b[0m\u001b[0;34m\u001b[0m\u001b[0m\n\u001b[1;32m      6\u001b[0m \u001b[0mdf\u001b[0m\u001b[0;34m[\u001b[0m\u001b[0;34m'mcalpine_eflaw'\u001b[0m\u001b[0;34m]\u001b[0m\u001b[0;34m=\u001b[0m \u001b[0mdf\u001b[0m\u001b[0;34m[\u001b[0m\u001b[0;34m\"string\"\u001b[0m\u001b[0;34m]\u001b[0m\u001b[0;34m.\u001b[0m\u001b[0mmap\u001b[0m\u001b[0;34m(\u001b[0m\u001b[0mtextstat\u001b[0m\u001b[0;34m.\u001b[0m\u001b[0mmcalpine_eflaw\u001b[0m\u001b[0;34m)\u001b[0m\u001b[0;34m\u001b[0m\u001b[0;34m\u001b[0m\u001b[0m\n",
      "\u001b[0;32m~/Library/Python/3.9/lib/python/site-packages/pandas/core/series.py\u001b[0m in \u001b[0;36mmap\u001b[0;34m(self, arg, na_action)\u001b[0m\n\u001b[1;32m   4159\u001b[0m         \u001b[0mdtype\u001b[0m\u001b[0;34m:\u001b[0m \u001b[0mobject\u001b[0m\u001b[0;34m\u001b[0m\u001b[0;34m\u001b[0m\u001b[0m\n\u001b[1;32m   4160\u001b[0m         \"\"\"\n\u001b[0;32m-> 4161\u001b[0;31m         \u001b[0mnew_values\u001b[0m \u001b[0;34m=\u001b[0m \u001b[0msuper\u001b[0m\u001b[0;34m(\u001b[0m\u001b[0;34m)\u001b[0m\u001b[0;34m.\u001b[0m\u001b[0m_map_values\u001b[0m\u001b[0;34m(\u001b[0m\u001b[0marg\u001b[0m\u001b[0;34m,\u001b[0m \u001b[0mna_action\u001b[0m\u001b[0;34m=\u001b[0m\u001b[0mna_action\u001b[0m\u001b[0;34m)\u001b[0m\u001b[0;34m\u001b[0m\u001b[0;34m\u001b[0m\u001b[0m\n\u001b[0m\u001b[1;32m   4162\u001b[0m         return self._constructor(new_values, index=self.index).__finalize__(\n\u001b[1;32m   4163\u001b[0m             \u001b[0mself\u001b[0m\u001b[0;34m,\u001b[0m \u001b[0mmethod\u001b[0m\u001b[0;34m=\u001b[0m\u001b[0;34m\"map\"\u001b[0m\u001b[0;34m\u001b[0m\u001b[0;34m\u001b[0m\u001b[0m\n",
      "\u001b[0;32m~/Library/Python/3.9/lib/python/site-packages/pandas/core/base.py\u001b[0m in \u001b[0;36m_map_values\u001b[0;34m(self, mapper, na_action)\u001b[0m\n\u001b[1;32m    868\u001b[0m \u001b[0;34m\u001b[0m\u001b[0m\n\u001b[1;32m    869\u001b[0m         \u001b[0;31m# mapper is a function\u001b[0m\u001b[0;34m\u001b[0m\u001b[0;34m\u001b[0m\u001b[0;34m\u001b[0m\u001b[0m\n\u001b[0;32m--> 870\u001b[0;31m         \u001b[0mnew_values\u001b[0m \u001b[0;34m=\u001b[0m \u001b[0mmap_f\u001b[0m\u001b[0;34m(\u001b[0m\u001b[0mvalues\u001b[0m\u001b[0;34m,\u001b[0m \u001b[0mmapper\u001b[0m\u001b[0;34m)\u001b[0m\u001b[0;34m\u001b[0m\u001b[0;34m\u001b[0m\u001b[0m\n\u001b[0m\u001b[1;32m    871\u001b[0m \u001b[0;34m\u001b[0m\u001b[0m\n\u001b[1;32m    872\u001b[0m         \u001b[0;32mreturn\u001b[0m \u001b[0mnew_values\u001b[0m\u001b[0;34m\u001b[0m\u001b[0;34m\u001b[0m\u001b[0m\n",
      "\u001b[0;32m~/Library/Python/3.9/lib/python/site-packages/pandas/_libs/lib.pyx\u001b[0m in \u001b[0;36mpandas._libs.lib.map_infer\u001b[0;34m()\u001b[0m\n",
      "\u001b[0;32m~/Library/Python/3.9/lib/python/site-packages/textstat/textstat.py\u001b[0m in \u001b[0;36mtext_standard\u001b[0;34m(self, text, float_output)\u001b[0m\n\u001b[1;32m   1245\u001b[0m \u001b[0;34m\u001b[0m\u001b[0m\n\u001b[1;32m   1246\u001b[0m         \u001b[0;31m# Appending Gunning Fog Index\u001b[0m\u001b[0;34m\u001b[0m\u001b[0;34m\u001b[0m\u001b[0;34m\u001b[0m\u001b[0m\n\u001b[0;32m-> 1247\u001b[0;31m         \u001b[0mlower\u001b[0m \u001b[0;34m=\u001b[0m \u001b[0mself\u001b[0m\u001b[0;34m.\u001b[0m\u001b[0m_legacy_round\u001b[0m\u001b[0;34m(\u001b[0m\u001b[0mself\u001b[0m\u001b[0;34m.\u001b[0m\u001b[0mgunning_fog\u001b[0m\u001b[0;34m(\u001b[0m\u001b[0mtext\u001b[0m\u001b[0;34m)\u001b[0m\u001b[0;34m)\u001b[0m\u001b[0;34m\u001b[0m\u001b[0;34m\u001b[0m\u001b[0m\n\u001b[0m\u001b[1;32m   1248\u001b[0m         \u001b[0mupper\u001b[0m \u001b[0;34m=\u001b[0m \u001b[0mmath\u001b[0m\u001b[0;34m.\u001b[0m\u001b[0mceil\u001b[0m\u001b[0;34m(\u001b[0m\u001b[0mself\u001b[0m\u001b[0;34m.\u001b[0m\u001b[0mgunning_fog\u001b[0m\u001b[0;34m(\u001b[0m\u001b[0mtext\u001b[0m\u001b[0;34m)\u001b[0m\u001b[0;34m)\u001b[0m\u001b[0;34m\u001b[0m\u001b[0;34m\u001b[0m\u001b[0m\n\u001b[1;32m   1249\u001b[0m         \u001b[0mgrade\u001b[0m\u001b[0;34m.\u001b[0m\u001b[0mappend\u001b[0m\u001b[0;34m(\u001b[0m\u001b[0mint\u001b[0m\u001b[0;34m(\u001b[0m\u001b[0mlower\u001b[0m\u001b[0;34m)\u001b[0m\u001b[0;34m)\u001b[0m\u001b[0;34m\u001b[0m\u001b[0;34m\u001b[0m\u001b[0m\n",
      "\u001b[0;32m~/Library/Python/3.9/lib/python/site-packages/textstat/textstat.py\u001b[0m in \u001b[0;36mgunning_fog\u001b[0;34m(self, text)\u001b[0m\n\u001b[1;32m   1037\u001b[0m             \u001b[0msyllable_threshold\u001b[0m \u001b[0;34m=\u001b[0m \u001b[0mself\u001b[0m\u001b[0;34m.\u001b[0m\u001b[0m__get_lang_cfg\u001b[0m\u001b[0;34m(\u001b[0m\u001b[0;34m\"syllable_threshold\"\u001b[0m\u001b[0;34m)\u001b[0m\u001b[0;34m\u001b[0m\u001b[0;34m\u001b[0m\u001b[0m\n\u001b[1;32m   1038\u001b[0m             per_diff_words = (\n\u001b[0;32m-> 1039\u001b[0;31m                 self.difficult_words(\n\u001b[0m\u001b[1;32m   1040\u001b[0m                     \u001b[0mtext\u001b[0m\u001b[0;34m,\u001b[0m\u001b[0;34m\u001b[0m\u001b[0;34m\u001b[0m\u001b[0m\n\u001b[1;32m   1041\u001b[0m                     syllable_threshold=syllable_threshold)\n",
      "\u001b[0;32m~/Library/Python/3.9/lib/python/site-packages/textstat/textstat.py\u001b[0m in \u001b[0;36mdifficult_words\u001b[0;34m(self, text, syllable_threshold)\u001b[0m\n\u001b[1;32m    918\u001b[0m \u001b[0;34m\u001b[0m\u001b[0m\n\u001b[1;32m    919\u001b[0m         \"\"\"\n\u001b[0;32m--> 920\u001b[0;31m         \u001b[0;32mreturn\u001b[0m \u001b[0mlen\u001b[0m\u001b[0;34m(\u001b[0m\u001b[0mself\u001b[0m\u001b[0;34m.\u001b[0m\u001b[0mdifficult_words_list\u001b[0m\u001b[0;34m(\u001b[0m\u001b[0mtext\u001b[0m\u001b[0;34m,\u001b[0m \u001b[0msyllable_threshold\u001b[0m\u001b[0;34m)\u001b[0m\u001b[0;34m)\u001b[0m\u001b[0;34m\u001b[0m\u001b[0;34m\u001b[0m\u001b[0m\n\u001b[0m\u001b[1;32m    921\u001b[0m \u001b[0;34m\u001b[0m\u001b[0m\n\u001b[1;32m    922\u001b[0m     \u001b[0;34m@\u001b[0m\u001b[0mlru_cache\u001b[0m\u001b[0;34m(\u001b[0m\u001b[0mmaxsize\u001b[0m\u001b[0;34m=\u001b[0m\u001b[0;36m128\u001b[0m\u001b[0;34m)\u001b[0m\u001b[0;34m\u001b[0m\u001b[0;34m\u001b[0m\u001b[0m\n",
      "\u001b[0;32m~/Library/Python/3.9/lib/python/site-packages/textstat/textstat.py\u001b[0m in \u001b[0;36mdifficult_words_list\u001b[0;34m(self, text, syllable_threshold)\u001b[0m\n\u001b[1;32m    940\u001b[0m \u001b[0;34m\u001b[0m\u001b[0m\n\u001b[1;32m    941\u001b[0m         \"\"\"\n\u001b[0;32m--> 942\u001b[0;31m         \u001b[0mwords\u001b[0m \u001b[0;34m=\u001b[0m \u001b[0mset\u001b[0m\u001b[0;34m(\u001b[0m\u001b[0mre\u001b[0m\u001b[0;34m.\u001b[0m\u001b[0mfindall\u001b[0m\u001b[0;34m(\u001b[0m\u001b[0;34mr\"[\\w\\='‘’]+\"\u001b[0m\u001b[0;34m,\u001b[0m \u001b[0mtext\u001b[0m\u001b[0;34m.\u001b[0m\u001b[0mlower\u001b[0m\u001b[0;34m(\u001b[0m\u001b[0;34m)\u001b[0m\u001b[0;34m)\u001b[0m\u001b[0;34m)\u001b[0m\u001b[0;34m\u001b[0m\u001b[0;34m\u001b[0m\u001b[0m\n\u001b[0m\u001b[1;32m    943\u001b[0m         diff_words = [word for word in words\n\u001b[1;32m    944\u001b[0m                       if self.is_difficult_word(word, syllable_threshold)]\n",
      "\u001b[0;31mKeyboardInterrupt\u001b[0m: "
     ]
    }
   ],
   "source": [
    "df['coleman_liau_index']= df[\"string\"].map(textstat.coleman_liau_index)\n",
    "df['dale_chall_readability_score']= df[\"string\"].map(textstat.dale_chall_readability_score)\n",
    "df['linsear_write_formula']= df[\"string\"].map(textstat.linsear_write_formula)\n",
    "df['text_standard']= df[\"string\"].map(textstat.text_standard)\n",
    "df['spache_readability']= df[\"string\"].map(textstat.spache_readability)\n",
    "df['mcalpine_eflaw']= df[\"string\"].map(textstat.mcalpine_eflaw)\n",
    "df['reading_time']= df[\"string\"].map(textstat.reading_time)"
   ]
  },
  {
   "cell_type": "code",
   "execution_count": null,
   "metadata": {},
   "outputs": [
    {
     "data": {
      "text/html": [
       "<div>\n",
       "<style scoped>\n",
       "    .dataframe tbody tr th:only-of-type {\n",
       "        vertical-align: middle;\n",
       "    }\n",
       "\n",
       "    .dataframe tbody tr th {\n",
       "        vertical-align: top;\n",
       "    }\n",
       "\n",
       "    .dataframe thead th {\n",
       "        text-align: right;\n",
       "    }\n",
       "</style>\n",
       "<table border=\"1\" class=\"dataframe\">\n",
       "  <thead>\n",
       "    <tr style=\"text-align: right;\">\n",
       "      <th></th>\n",
       "      <th>Polls ID</th>\n",
       "      <th>Poll Responses Response</th>\n",
       "      <th>Assessment reports Hashtag</th>\n",
       "      <th>Assessment reports Score</th>\n",
       "      <th>time_stamp</th>\n",
       "      <th>tokenized_responses</th>\n",
       "      <th>stemmed_responses</th>\n",
       "      <th>clean_responses</th>\n",
       "      <th>string</th>\n",
       "      <th>LOs/ HCs</th>\n",
       "      <th>...</th>\n",
       "      <th>gunning_fog</th>\n",
       "      <th>smog_index</th>\n",
       "      <th>automated_readability_index</th>\n",
       "      <th>coleman_liau_index</th>\n",
       "      <th>dale_chall_readability_score</th>\n",
       "      <th>linsear_write_formula</th>\n",
       "      <th>text_standard</th>\n",
       "      <th>spache_readability</th>\n",
       "      <th>mcalpine_eflaw</th>\n",
       "      <th>reading_time</th>\n",
       "    </tr>\n",
       "  </thead>\n",
       "  <tbody>\n",
       "    <tr>\n",
       "      <th>0</th>\n",
       "      <td>12522</td>\n",
       "      <td>The strengths of Plato's approach is his const...</td>\n",
       "      <td>#objectivemorality</td>\n",
       "      <td>2</td>\n",
       "      <td>1</td>\n",
       "      <td>['The', 'strengths', 'of', \"Plato's\", 'approac...</td>\n",
       "      <td>['the', 'strength', 'of', 'plato', 'approach',...</td>\n",
       "      <td>['strength', 'plato', 'approach', 'construct',...</td>\n",
       "      <td>strength plato approach construct whole framew...</td>\n",
       "      <td>objmorality</td>\n",
       "      <td>...</td>\n",
       "      <td>9.60</td>\n",
       "      <td>0.0</td>\n",
       "      <td>19.2</td>\n",
       "      <td>18.28</td>\n",
       "      <td>14.04</td>\n",
       "      <td>12.0</td>\n",
       "      <td>11th and 12th grade</td>\n",
       "      <td>7.09</td>\n",
       "      <td>25.0</td>\n",
       "      <td>2.14</td>\n",
       "    </tr>\n",
       "    <tr>\n",
       "      <th>1</th>\n",
       "      <td>12522</td>\n",
       "      <td>In the breakout we discussed if outside the ca...</td>\n",
       "      <td>#objectivemorality</td>\n",
       "      <td>3</td>\n",
       "      <td>1</td>\n",
       "      <td>['In', 'the', 'breakout', 'we', 'discussed', '...</td>\n",
       "      <td>['in', 'the', 'breakout', 'we', 'discuss', 'if...</td>\n",
       "      <td>['breakout', 'discuss', 'outsid', 'cave', 'big...</td>\n",
       "      <td>breakout discuss outsid cave bigger cave thus ...</td>\n",
       "      <td>objmorality</td>\n",
       "      <td>...</td>\n",
       "      <td>11.60</td>\n",
       "      <td>0.0</td>\n",
       "      <td>15.0</td>\n",
       "      <td>12.48</td>\n",
       "      <td>13.09</td>\n",
       "      <td>13.5</td>\n",
       "      <td>11th and 12th grade</td>\n",
       "      <td>7.12</td>\n",
       "      <td>26.0</td>\n",
       "      <td>1.87</td>\n",
       "    </tr>\n",
       "    <tr>\n",
       "      <th>2</th>\n",
       "      <td>12522</td>\n",
       "      <td>Back to cmmon confusion time: the section 'und...</td>\n",
       "      <td>#objectivemorality</td>\n",
       "      <td>2</td>\n",
       "      <td>1</td>\n",
       "      <td>['Back', 'to', 'cmmon', 'confusion', 'time', '...</td>\n",
       "      <td>['back', 'to', 'cmmon', 'confus', 'time', 'the...</td>\n",
       "      <td>['back', 'cmmon', 'confus', 'time', 'section',...</td>\n",
       "      <td>back cmmon confus time section understand inte...</td>\n",
       "      <td>objmorality</td>\n",
       "      <td>...</td>\n",
       "      <td>11.27</td>\n",
       "      <td>0.0</td>\n",
       "      <td>18.6</td>\n",
       "      <td>17.58</td>\n",
       "      <td>13.38</td>\n",
       "      <td>14.0</td>\n",
       "      <td>13th and 14th grade</td>\n",
       "      <td>7.09</td>\n",
       "      <td>24.0</td>\n",
       "      <td>2.10</td>\n",
       "    </tr>\n",
       "    <tr>\n",
       "      <th>3</th>\n",
       "      <td>12522</td>\n",
       "      <td>Most difficult weakness is that his position w...</td>\n",
       "      <td>#objectivemorality</td>\n",
       "      <td>2</td>\n",
       "      <td>1</td>\n",
       "      <td>['Most', 'difficult', 'weakness', 'is', 'that'...</td>\n",
       "      <td>['most', 'difficult', 'weak', 'is', 'that', 'h...</td>\n",
       "      <td>['difficult', 'weak', 'posit', 'understand', '...</td>\n",
       "      <td>difficult weak posit understand testabl like i...</td>\n",
       "      <td>objmorality</td>\n",
       "      <td>...</td>\n",
       "      <td>11.51</td>\n",
       "      <td>0.0</td>\n",
       "      <td>13.4</td>\n",
       "      <td>14.85</td>\n",
       "      <td>12.84</td>\n",
       "      <td>11.5</td>\n",
       "      <td>11th and 12th grade</td>\n",
       "      <td>5.77</td>\n",
       "      <td>21.0</td>\n",
       "      <td>1.40</td>\n",
       "    </tr>\n",
       "    <tr>\n",
       "      <th>4</th>\n",
       "      <td>12522</td>\n",
       "      <td>I'm still trying to understand the significanc...</td>\n",
       "      <td>#objectivemorality</td>\n",
       "      <td>2</td>\n",
       "      <td>1</td>\n",
       "      <td>[\"I'm\", 'still', 'trying', 'to', 'understand',...</td>\n",
       "      <td>[\"i'm\", 'still', 'tri', 'to', 'understand', 't...</td>\n",
       "      <td>[\"i'm\", 'still', 'tri', 'understand', 'signifi...</td>\n",
       "      <td>i'm still tri understand signific cave analog ...</td>\n",
       "      <td>objmorality</td>\n",
       "      <td>...</td>\n",
       "      <td>10.30</td>\n",
       "      <td>0.0</td>\n",
       "      <td>13.5</td>\n",
       "      <td>12.53</td>\n",
       "      <td>10.69</td>\n",
       "      <td>12.5</td>\n",
       "      <td>12th and 13th grade</td>\n",
       "      <td>5.85</td>\n",
       "      <td>25.0</td>\n",
       "      <td>1.60</td>\n",
       "    </tr>\n",
       "  </tbody>\n",
       "</table>\n",
       "<p>5 rows × 24 columns</p>\n",
       "</div>"
      ],
      "text/plain": [
       "   Polls ID                            Poll Responses Response  \\\n",
       "0     12522  The strengths of Plato's approach is his const...   \n",
       "1     12522  In the breakout we discussed if outside the ca...   \n",
       "2     12522  Back to cmmon confusion time: the section 'und...   \n",
       "3     12522  Most difficult weakness is that his position w...   \n",
       "4     12522  I'm still trying to understand the significanc...   \n",
       "\n",
       "  Assessment reports Hashtag  Assessment reports Score  time_stamp  \\\n",
       "0         #objectivemorality                         2           1   \n",
       "1         #objectivemorality                         3           1   \n",
       "2         #objectivemorality                         2           1   \n",
       "3         #objectivemorality                         2           1   \n",
       "4         #objectivemorality                         2           1   \n",
       "\n",
       "                                 tokenized_responses  \\\n",
       "0  ['The', 'strengths', 'of', \"Plato's\", 'approac...   \n",
       "1  ['In', 'the', 'breakout', 'we', 'discussed', '...   \n",
       "2  ['Back', 'to', 'cmmon', 'confusion', 'time', '...   \n",
       "3  ['Most', 'difficult', 'weakness', 'is', 'that'...   \n",
       "4  [\"I'm\", 'still', 'trying', 'to', 'understand',...   \n",
       "\n",
       "                                   stemmed_responses  \\\n",
       "0  ['the', 'strength', 'of', 'plato', 'approach',...   \n",
       "1  ['in', 'the', 'breakout', 'we', 'discuss', 'if...   \n",
       "2  ['back', 'to', 'cmmon', 'confus', 'time', 'the...   \n",
       "3  ['most', 'difficult', 'weak', 'is', 'that', 'h...   \n",
       "4  [\"i'm\", 'still', 'tri', 'to', 'understand', 't...   \n",
       "\n",
       "                                     clean_responses  \\\n",
       "0  ['strength', 'plato', 'approach', 'construct',...   \n",
       "1  ['breakout', 'discuss', 'outsid', 'cave', 'big...   \n",
       "2  ['back', 'cmmon', 'confus', 'time', 'section',...   \n",
       "3  ['difficult', 'weak', 'posit', 'understand', '...   \n",
       "4  [\"i'm\", 'still', 'tri', 'understand', 'signifi...   \n",
       "\n",
       "                                              string     LOs/ HCs  ...  \\\n",
       "0  strength plato approach construct whole framew...  objmorality  ...   \n",
       "1  breakout discuss outsid cave bigger cave thus ...  objmorality  ...   \n",
       "2  back cmmon confus time section understand inte...  objmorality  ...   \n",
       "3  difficult weak posit understand testabl like i...  objmorality  ...   \n",
       "4  i'm still tri understand signific cave analog ...  objmorality  ...   \n",
       "\n",
       "  gunning_fog smog_index  automated_readability_index  coleman_liau_index  \\\n",
       "0        9.60        0.0                         19.2               18.28   \n",
       "1       11.60        0.0                         15.0               12.48   \n",
       "2       11.27        0.0                         18.6               17.58   \n",
       "3       11.51        0.0                         13.4               14.85   \n",
       "4       10.30        0.0                         13.5               12.53   \n",
       "\n",
       "   dale_chall_readability_score  linsear_write_formula        text_standard  \\\n",
       "0                         14.04                   12.0  11th and 12th grade   \n",
       "1                         13.09                   13.5  11th and 12th grade   \n",
       "2                         13.38                   14.0  13th and 14th grade   \n",
       "3                         12.84                   11.5  11th and 12th grade   \n",
       "4                         10.69                   12.5  12th and 13th grade   \n",
       "\n",
       "   spache_readability  mcalpine_eflaw  reading_time  \n",
       "0                7.09            25.0          2.14  \n",
       "1                7.12            26.0          1.87  \n",
       "2                7.09            24.0          2.10  \n",
       "3                5.77            21.0          1.40  \n",
       "4                5.85            25.0          1.60  \n",
       "\n",
       "[5 rows x 24 columns]"
      ]
     },
     "execution_count": 5,
     "metadata": {},
     "output_type": "execute_result"
    }
   ],
   "source": [
    "df.head()"
   ]
  },
  {
   "cell_type": "markdown",
   "metadata": {},
   "source": [
    "## Plot distribution of metric scores"
   ]
  },
  {
   "cell_type": "code",
   "execution_count": 5,
   "metadata": {},
   "outputs": [
    {
     "data": {
      "text/plain": [
       "count    181941.000000\n",
       "mean         22.877599\n",
       "std          20.242058\n",
       "min        -386.390000\n",
       "25%           9.220000\n",
       "50%          20.390000\n",
       "75%          33.580000\n",
       "max         121.220000\n",
       "Name: flesch_reading_ease, dtype: float64"
      ]
     },
     "execution_count": 5,
     "metadata": {},
     "output_type": "execute_result"
    }
   ],
   "source": [
    "df['flesch_reading_ease'].describe()"
   ]
  },
  {
   "cell_type": "code",
   "execution_count": null,
   "metadata": {},
   "outputs": [
    {
     "data": {
      "text/plain": [
       "(array([1.0000e+00, 0.0000e+00, 0.0000e+00, 0.0000e+00, 3.0000e+00,\n",
       "        3.0000e+00, 1.0600e+02, 8.7427e+04, 8.9458e+04, 4.9430e+03]),\n",
       " array([-386.39 , -335.629, -284.868, -234.107, -183.346, -132.585,\n",
       "         -81.824,  -31.063,   19.698,   70.459,  121.22 ]),\n",
       " <BarContainer object of 10 artists>)"
      ]
     },
     "execution_count": 7,
     "metadata": {},
     "output_type": "execute_result"
    },
    {
     "data": {
      "image/png": "[encoded data removed]",
      "text/plain": [
       "<Figure size 432x288 with 1 Axes>"
      ]
     },
     "metadata": {
      "needs_background": "light"
     },
     "output_type": "display_data"
    }
   ],
   "source": [
    "plt.hist(df['flesch_reading_ease'])"
   ]
  },
  {
   "cell_type": "code",
   "execution_count": null,
   "metadata": {},
   "outputs": [
    {
     "data": {
      "text/plain": [
       "(array([2.0000e+00, 1.6000e+01, 8.5000e+01, 4.2190e+03, 5.1524e+04,\n",
       "        8.1182e+04, 3.3432e+04, 8.7830e+03, 1.9170e+03, 7.7600e+02]),\n",
       " array([-97.05 , -75.223, -53.396, -31.569,  -9.742,  12.085,  33.912,\n",
       "         55.739,  77.566,  99.393, 121.22 ]),\n",
       " <BarContainer object of 10 artists>)"
      ]
     },
     "execution_count": 8,
     "metadata": {},
     "output_type": "execute_result"
    },
    {
     "data": {
      "image/png": "[encoded data removed]",
      "text/plain": [
       "<Figure size 432x288 with 1 Axes>"
      ]
     },
     "metadata": {
      "needs_background": "light"
     },
     "output_type": "display_data"
    }
   ],
   "source": [
    "df_exclude = df['flesch_reading_ease'].loc[lambda x : x >= -100]\n",
    "plt.hist(df_exclude)"
   ]
  },
  {
   "cell_type": "code",
   "execution_count": null,
   "metadata": {},
   "outputs": [
    {
     "data": {
      "text/plain": [
       "Index(['Polls_ID', 'Poll_Responses', 'Assessment_reports_Hashtag',\n",
       "       'Assessment_reports_Score', 'time_stamp', 'tokenized_responses',\n",
       "       'stemmed_responses', 'clean_responses', 'string', 'LOs/ HCs', 'College',\n",
       "       'Course', 'flesch_reading_ease', 'flesch_kincaid_grade', 'gunning_fog',\n",
       "       'smog_index', 'automated_readability_index', 'coleman_liau_index',\n",
       "       'dale_chall_readability_score', 'linsear_write_formula',\n",
       "       'text_standard', 'spache_readability', 'mcalpine_eflaw',\n",
       "       'reading_time'],\n",
       "      dtype='object')"
      ]
     },
     "execution_count": 9,
     "metadata": {},
     "output_type": "execute_result"
    }
   ],
   "source": [
    "df = df.rename(columns={'Polls ID': 'Polls_ID','Assessment reports Student ID':'Assessment_reports_Student_ID', 'Poll Responses Response':'Poll_Responses', 'Assessment reports Hashtag':'Assessment_reports_Hashtag', 'Assessment reports Score': 'Assessment_reports_Score'})\n",
    "df.columns"
   ]
  },
  {
   "cell_type": "code",
   "execution_count": null,
   "metadata": {},
   "outputs": [],
   "source": [
    "from pandas.api.types import CategoricalDtype\n",
    "cat_type = CategoricalDtype(categories=[1,2,3,4,5], ordered=True)\n",
    "df[\"Assessment_reports_Score\"] = df[\"Assessment_reports_Score\"].astype(cat_type)\n"
   ]
  },
  {
   "cell_type": "code",
   "execution_count": null,
   "metadata": {},
   "outputs": [
    {
     "data": {
      "text/plain": [
       "0         11th and 12th grade\n",
       "1         11th and 12th grade\n",
       "2         13th and 14th grade\n",
       "3         11th and 12th grade\n",
       "4         12th and 13th grade\n",
       "                 ...         \n",
       "181936    13th and 14th grade\n",
       "181937    18th and 19th grade\n",
       "181938    13th and 14th grade\n",
       "181939    21st and 22nd grade\n",
       "181940    20th and 21st grade\n",
       "Name: text_standard, Length: 181941, dtype: object"
      ]
     },
     "execution_count": 11,
     "metadata": {},
     "output_type": "execute_result"
    }
   ],
   "source": [
    "df.text_standard"
   ]
  },
  {
   "cell_type": "code",
   "execution_count": null,
   "metadata": {},
   "outputs": [
    {
     "data": {
      "text/plain": [
       "CategoricalDtype(categories=[1, 2, 3, 4, 5], ordered=True)"
      ]
     },
     "execution_count": 12,
     "metadata": {},
     "output_type": "execute_result"
    }
   ],
   "source": [
    "df['Assessment_reports_Score'].dtype"
   ]
  },
  {
   "cell_type": "markdown",
   "metadata": {},
   "source": [
    "We exclude test_standard because it's not a number"
   ]
  },
  {
   "cell_type": "code",
   "execution_count": null,
   "metadata": {},
   "outputs": [],
   "source": [
    "from statsmodels.miscmodels.ordinal_model import OrderedModel\n",
    "mod_prob = OrderedModel(df['Assessment_reports_Score'],\n",
    "                        df[['time_stamp', 'flesch_reading_ease', 'flesch_kincaid_grade', 'gunning_fog', 'smog_index', 'automated_readability_index', 'coleman_liau_index', 'dale_chall_readability_score', 'linsear_write_formula', 'spache_readability', 'mcalpine_eflaw', 'reading_time']],\n",
    "                        distr='probit') "
   ]
  },
  {
   "cell_type": "markdown",
   "metadata": {},
   "source": [
    "## Probit model output"
   ]
  },
  {
   "cell_type": "code",
   "execution_count": null,
   "metadata": {},
   "outputs": [
    {
     "name": "stdout",
     "output_type": "stream",
     "text": [
      "Optimization terminated successfully.\n",
      "         Current function value: 1.003680\n",
      "         Iterations: 44\n",
      "         Function evaluations: 52\n",
      "         Gradient evaluations: 52\n"
     ]
    },
    {
     "data": {
      "text/html": [
       "<table class=\"simpletable\">\n",
       "<caption>OrderedModel Results</caption>\n",
       "<tr>\n",
       "  <th>Dep. Variable:</th>    <td>Assessment_reports_Score</td> <th>  Log-Likelihood:    </th> <td>-1.8261e+05</td>\n",
       "</tr>\n",
       "<tr>\n",
       "  <th>Model:</th>                  <td>OrderedModel</td>       <th>  AIC:               </th>  <td>3.653e+05</td> \n",
       "</tr>\n",
       "<tr>\n",
       "  <th>Method:</th>              <td>Maximum Likelihood</td>    <th>  BIC:               </th>  <td>3.654e+05</td> \n",
       "</tr>\n",
       "<tr>\n",
       "  <th>Date:</th>                 <td>Sun, 16 Oct 2022</td>     <th>                     </th>      <td> </td>     \n",
       "</tr>\n",
       "<tr>\n",
       "  <th>Time:</th>                     <td>10:08:07</td>         <th>                     </th>      <td> </td>     \n",
       "</tr>\n",
       "<tr>\n",
       "  <th>No. Observations:</th>          <td>181941</td>          <th>                     </th>      <td> </td>     \n",
       "</tr>\n",
       "<tr>\n",
       "  <th>Df Residuals:</th>              <td>181925</td>          <th>                     </th>      <td> </td>     \n",
       "</tr>\n",
       "<tr>\n",
       "  <th>Df Model:</th>                  <td>    16</td>          <th>                     </th>      <td> </td>     \n",
       "</tr>\n",
       "</table>\n",
       "<table class=\"simpletable\">\n",
       "<tr>\n",
       "                <td></td>                  <th>coef</th>     <th>std err</th>      <th>z</th>      <th>P>|z|</th>  <th>[0.025</th>    <th>0.975]</th>  \n",
       "</tr>\n",
       "<tr>\n",
       "  <th>time_stamp</th>                   <td> 5.607e-06</td> <td> 5.92e-07</td> <td>    9.463</td> <td> 0.000</td> <td> 4.45e-06</td> <td> 6.77e-06</td>\n",
       "</tr>\n",
       "<tr>\n",
       "  <th>flesch_reading_ease</th>          <td>    0.0043</td> <td>    0.001</td> <td>    2.975</td> <td> 0.003</td> <td>    0.001</td> <td>    0.007</td>\n",
       "</tr>\n",
       "<tr>\n",
       "  <th>flesch_kincaid_grade</th>         <td>    0.0349</td> <td>    0.011</td> <td>    3.090</td> <td> 0.002</td> <td>    0.013</td> <td>    0.057</td>\n",
       "</tr>\n",
       "<tr>\n",
       "  <th>gunning_fog</th>                  <td>   -0.0076</td> <td>    0.002</td> <td>   -3.529</td> <td> 0.000</td> <td>   -0.012</td> <td>   -0.003</td>\n",
       "</tr>\n",
       "<tr>\n",
       "  <th>smog_index</th>                   <td>         0</td> <td> 7.17e+04</td> <td>        0</td> <td> 1.000</td> <td> -1.4e+05</td> <td>  1.4e+05</td>\n",
       "</tr>\n",
       "<tr>\n",
       "  <th>automated_readability_index</th>  <td>    0.0350</td> <td>    0.003</td> <td>   10.030</td> <td> 0.000</td> <td>    0.028</td> <td>    0.042</td>\n",
       "</tr>\n",
       "<tr>\n",
       "  <th>coleman_liau_index</th>           <td>   -0.0088</td> <td>    0.002</td> <td>   -4.310</td> <td> 0.000</td> <td>   -0.013</td> <td>   -0.005</td>\n",
       "</tr>\n",
       "<tr>\n",
       "  <th>dale_chall_readability_score</th> <td>    0.0343</td> <td>    0.002</td> <td>   14.893</td> <td> 0.000</td> <td>    0.030</td> <td>    0.039</td>\n",
       "</tr>\n",
       "<tr>\n",
       "  <th>linsear_write_formula</th>        <td>    0.0026</td> <td>    0.002</td> <td>    1.379</td> <td> 0.168</td> <td>   -0.001</td> <td>    0.006</td>\n",
       "</tr>\n",
       "<tr>\n",
       "  <th>spache_readability</th>           <td>   -0.0368</td> <td>    0.006</td> <td>   -6.678</td> <td> 0.000</td> <td>   -0.048</td> <td>   -0.026</td>\n",
       "</tr>\n",
       "<tr>\n",
       "  <th>mcalpine_eflaw</th>               <td>    0.0077</td> <td>    0.001</td> <td>    6.664</td> <td> 0.000</td> <td>    0.005</td> <td>    0.010</td>\n",
       "</tr>\n",
       "<tr>\n",
       "  <th>reading_time</th>                 <td>   -0.0929</td> <td>    0.023</td> <td>   -4.087</td> <td> 0.000</td> <td>   -0.138</td> <td>   -0.048</td>\n",
       "</tr>\n",
       "<tr>\n",
       "  <th>1/2</th>                          <td>   -0.7524</td> <td>    0.155</td> <td>   -4.857</td> <td> 0.000</td> <td>   -1.056</td> <td>   -0.449</td>\n",
       "</tr>\n",
       "<tr>\n",
       "  <th>2/3</th>                          <td>    0.2313</td> <td>    0.007</td> <td>   33.205</td> <td> 0.000</td> <td>    0.218</td> <td>    0.245</td>\n",
       "</tr>\n",
       "<tr>\n",
       "  <th>3/4</th>                          <td>    0.4394</td> <td>    0.003</td> <td>  161.284</td> <td> 0.000</td> <td>    0.434</td> <td>    0.445</td>\n",
       "</tr>\n",
       "<tr>\n",
       "  <th>4/5</th>                          <td>    0.8856</td> <td>    0.006</td> <td>  148.419</td> <td> 0.000</td> <td>    0.874</td> <td>    0.897</td>\n",
       "</tr>\n",
       "</table>"
      ],
      "text/plain": [
       "<class 'statsmodels.iolib.summary.Summary'>\n",
       "\"\"\"\n",
       "                                OrderedModel Results                                \n",
       "====================================================================================\n",
       "Dep. Variable:     Assessment_reports_Score   Log-Likelihood:            -1.8261e+05\n",
       "Model:                         OrderedModel   AIC:                         3.653e+05\n",
       "Method:                  Maximum Likelihood   BIC:                         3.654e+05\n",
       "Date:                      Sun, 16 Oct 2022                                         \n",
       "Time:                              10:08:07                                         \n",
       "No. Observations:                    181941                                         \n",
       "Df Residuals:                        181925                                         \n",
       "Df Model:                                16                                         \n",
       "================================================================================================\n",
       "                                   coef    std err          z      P>|z|      [0.025      0.975]\n",
       "------------------------------------------------------------------------------------------------\n",
       "time_stamp                    5.607e-06   5.92e-07      9.463      0.000    4.45e-06    6.77e-06\n",
       "flesch_reading_ease              0.0043      0.001      2.975      0.003       0.001       0.007\n",
       "flesch_kincaid_grade             0.0349      0.011      3.090      0.002       0.013       0.057\n",
       "gunning_fog                     -0.0076      0.002     -3.529      0.000      -0.012      -0.003\n",
       "smog_index                            0   7.17e+04          0      1.000    -1.4e+05     1.4e+05\n",
       "automated_readability_index      0.0350      0.003     10.030      0.000       0.028       0.042\n",
       "coleman_liau_index              -0.0088      0.002     -4.310      0.000      -0.013      -0.005\n",
       "dale_chall_readability_score     0.0343      0.002     14.893      0.000       0.030       0.039\n",
       "linsear_write_formula            0.0026      0.002      1.379      0.168      -0.001       0.006\n",
       "spache_readability              -0.0368      0.006     -6.678      0.000      -0.048      -0.026\n",
       "mcalpine_eflaw                   0.0077      0.001      6.664      0.000       0.005       0.010\n",
       "reading_time                    -0.0929      0.023     -4.087      0.000      -0.138      -0.048\n",
       "1/2                             -0.7524      0.155     -4.857      0.000      -1.056      -0.449\n",
       "2/3                              0.2313      0.007     33.205      0.000       0.218       0.245\n",
       "3/4                              0.4394      0.003    161.284      0.000       0.434       0.445\n",
       "4/5                              0.8856      0.006    148.419      0.000       0.874       0.897\n",
       "================================================================================================\n",
       "\"\"\""
      ]
     },
     "execution_count": 14,
     "metadata": {},
     "output_type": "execute_result"
    }
   ],
   "source": [
    "res_prob = mod_prob.fit(method='bfgs')\n",
    "res_prob.summary()"
   ]
  },
  {
   "cell_type": "markdown",
   "metadata": {},
   "source": [
    "## pseudo r square result"
   ]
  },
  {
   "cell_type": "code",
   "execution_count": null,
   "metadata": {},
   "outputs": [
    {
     "data": {
      "text/plain": [
       "0.029177575492925545"
      ]
     },
     "execution_count": 15,
     "metadata": {},
     "output_type": "execute_result"
    }
   ],
   "source": [
    "res_prob.prsquared"
   ]
  },
  {
   "cell_type": "code",
   "execution_count": null,
   "metadata": {},
   "outputs": [
    {
     "name": "stderr",
     "output_type": "stream",
     "text": [
      "/Users/swimmingcircle/Library/Python/3.9/lib/python/site-packages/statsmodels/miscmodels/ordinal_model.py:419: FutureWarning: Support for multi-dimensional indexing (e.g. `obj[:, None]`) is deprecated and will be removed in a future version.  Convert to a numpy array before indexing instead.\n",
      "  xb = xb[:, None]\n"
     ]
    },
    {
     "data": {
      "text/html": [
       "<div>\n",
       "<style scoped>\n",
       "    .dataframe tbody tr th:only-of-type {\n",
       "        vertical-align: middle;\n",
       "    }\n",
       "\n",
       "    .dataframe tbody tr th {\n",
       "        vertical-align: top;\n",
       "    }\n",
       "\n",
       "    .dataframe thead th {\n",
       "        text-align: right;\n",
       "    }\n",
       "</style>\n",
       "<table border=\"1\" class=\"dataframe\">\n",
       "  <thead>\n",
       "    <tr style=\"text-align: right;\">\n",
       "      <th></th>\n",
       "      <th>1</th>\n",
       "      <th>2</th>\n",
       "      <th>3</th>\n",
       "      <th>4</th>\n",
       "      <th>5</th>\n",
       "    </tr>\n",
       "  </thead>\n",
       "  <tbody>\n",
       "    <tr>\n",
       "      <th>0</th>\n",
       "      <td>0.018835</td>\n",
       "      <td>0.187800</td>\n",
       "      <td>0.561778</td>\n",
       "      <td>0.230792</td>\n",
       "      <td>0.000794</td>\n",
       "    </tr>\n",
       "    <tr>\n",
       "      <th>1</th>\n",
       "      <td>0.024146</td>\n",
       "      <td>0.213310</td>\n",
       "      <td>0.561325</td>\n",
       "      <td>0.200666</td>\n",
       "      <td>0.000554</td>\n",
       "    </tr>\n",
       "    <tr>\n",
       "      <th>2</th>\n",
       "      <td>0.020859</td>\n",
       "      <td>0.198005</td>\n",
       "      <td>0.562187</td>\n",
       "      <td>0.218261</td>\n",
       "      <td>0.000687</td>\n",
       "    </tr>\n",
       "    <tr>\n",
       "      <th>3</th>\n",
       "      <td>0.030507</td>\n",
       "      <td>0.239393</td>\n",
       "      <td>0.556150</td>\n",
       "      <td>0.173566</td>\n",
       "      <td>0.000385</td>\n",
       "    </tr>\n",
       "    <tr>\n",
       "      <th>4</th>\n",
       "      <td>0.030554</td>\n",
       "      <td>0.239572</td>\n",
       "      <td>0.556099</td>\n",
       "      <td>0.173390</td>\n",
       "      <td>0.000385</td>\n",
       "    </tr>\n",
       "    <tr>\n",
       "      <th>...</th>\n",
       "      <td>...</td>\n",
       "      <td>...</td>\n",
       "      <td>...</td>\n",
       "      <td>...</td>\n",
       "      <td>...</td>\n",
       "    </tr>\n",
       "    <tr>\n",
       "      <th>181936</th>\n",
       "      <td>0.022197</td>\n",
       "      <td>0.204409</td>\n",
       "      <td>0.562035</td>\n",
       "      <td>0.210732</td>\n",
       "      <td>0.000628</td>\n",
       "    </tr>\n",
       "    <tr>\n",
       "      <th>181937</th>\n",
       "      <td>0.009251</td>\n",
       "      <td>0.127478</td>\n",
       "      <td>0.539310</td>\n",
       "      <td>0.321979</td>\n",
       "      <td>0.001982</td>\n",
       "    </tr>\n",
       "    <tr>\n",
       "      <th>181938</th>\n",
       "      <td>0.017686</td>\n",
       "      <td>0.181707</td>\n",
       "      <td>0.561132</td>\n",
       "      <td>0.238608</td>\n",
       "      <td>0.000867</td>\n",
       "    </tr>\n",
       "    <tr>\n",
       "      <th>181939</th>\n",
       "      <td>0.004546</td>\n",
       "      <td>0.084233</td>\n",
       "      <td>0.491838</td>\n",
       "      <td>0.415087</td>\n",
       "      <td>0.004297</td>\n",
       "    </tr>\n",
       "    <tr>\n",
       "      <th>181940</th>\n",
       "      <td>0.006184</td>\n",
       "      <td>0.101083</td>\n",
       "      <td>0.514676</td>\n",
       "      <td>0.374938</td>\n",
       "      <td>0.003120</td>\n",
       "    </tr>\n",
       "  </tbody>\n",
       "</table>\n",
       "<p>181941 rows × 5 columns</p>\n",
       "</div>"
      ],
      "text/plain": [
       "               1         2         3         4         5\n",
       "0       0.018835  0.187800  0.561778  0.230792  0.000794\n",
       "1       0.024146  0.213310  0.561325  0.200666  0.000554\n",
       "2       0.020859  0.198005  0.562187  0.218261  0.000687\n",
       "3       0.030507  0.239393  0.556150  0.173566  0.000385\n",
       "4       0.030554  0.239572  0.556099  0.173390  0.000385\n",
       "...          ...       ...       ...       ...       ...\n",
       "181936  0.022197  0.204409  0.562035  0.210732  0.000628\n",
       "181937  0.009251  0.127478  0.539310  0.321979  0.001982\n",
       "181938  0.017686  0.181707  0.561132  0.238608  0.000867\n",
       "181939  0.004546  0.084233  0.491838  0.415087  0.004297\n",
       "181940  0.006184  0.101083  0.514676  0.374938  0.003120\n",
       "\n",
       "[181941 rows x 5 columns]"
      ]
     },
     "execution_count": 16,
     "metadata": {},
     "output_type": "execute_result"
    }
   ],
   "source": [
    "predicted = res_prob.model.predict(res_prob.params, exog=df[res_prob.params.index[:-4]]) #exclude 1/2, 2/3...\n",
    "predicted_grade_prob = pd.DataFrame(predicted).rename(columns = {0:1, 1:2, 2:3, 3:4, 4:5})\n",
    "predicted_grade_prob"
   ]
  },
  {
   "cell_type": "code",
   "execution_count": null,
   "metadata": {},
   "outputs": [
    {
     "data": {
      "text/html": [
       "<div>\n",
       "<style scoped>\n",
       "    .dataframe tbody tr th:only-of-type {\n",
       "        vertical-align: middle;\n",
       "    }\n",
       "\n",
       "    .dataframe tbody tr th {\n",
       "        vertical-align: top;\n",
       "    }\n",
       "\n",
       "    .dataframe thead th {\n",
       "        text-align: right;\n",
       "    }\n",
       "</style>\n",
       "<table border=\"1\" class=\"dataframe\">\n",
       "  <thead>\n",
       "    <tr style=\"text-align: right;\">\n",
       "      <th></th>\n",
       "      <th>actual_grade</th>\n",
       "      <th>predicted_grade</th>\n",
       "    </tr>\n",
       "  </thead>\n",
       "  <tbody>\n",
       "    <tr>\n",
       "      <th>0</th>\n",
       "      <td>2</td>\n",
       "      <td>3.006911</td>\n",
       "    </tr>\n",
       "    <tr>\n",
       "      <th>1</th>\n",
       "      <td>3</td>\n",
       "      <td>2.940173</td>\n",
       "    </tr>\n",
       "    <tr>\n",
       "      <th>2</th>\n",
       "      <td>2</td>\n",
       "      <td>2.979911</td>\n",
       "    </tr>\n",
       "    <tr>\n",
       "      <th>3</th>\n",
       "      <td>2</td>\n",
       "      <td>2.873931</td>\n",
       "    </tr>\n",
       "    <tr>\n",
       "      <th>4</th>\n",
       "      <td>2</td>\n",
       "      <td>2.873480</td>\n",
       "    </tr>\n",
       "    <tr>\n",
       "      <th>...</th>\n",
       "      <td>...</td>\n",
       "      <td>...</td>\n",
       "    </tr>\n",
       "    <tr>\n",
       "      <th>181936</th>\n",
       "      <td>4</td>\n",
       "      <td>2.963185</td>\n",
       "    </tr>\n",
       "    <tr>\n",
       "      <th>181937</th>\n",
       "      <td>4</td>\n",
       "      <td>3.179963</td>\n",
       "    </tr>\n",
       "    <tr>\n",
       "      <th>181938</th>\n",
       "      <td>4</td>\n",
       "      <td>3.023264</td>\n",
       "    </tr>\n",
       "    <tr>\n",
       "      <th>181939</th>\n",
       "      <td>4</td>\n",
       "      <td>3.330355</td>\n",
       "    </tr>\n",
       "    <tr>\n",
       "      <th>181940</th>\n",
       "      <td>4</td>\n",
       "      <td>3.267726</td>\n",
       "    </tr>\n",
       "  </tbody>\n",
       "</table>\n",
       "<p>181941 rows × 2 columns</p>\n",
       "</div>"
      ],
      "text/plain": [
       "       actual_grade  predicted_grade\n",
       "0                 2         3.006911\n",
       "1                 3         2.940173\n",
       "2                 2         2.979911\n",
       "3                 2         2.873931\n",
       "4                 2         2.873480\n",
       "...             ...              ...\n",
       "181936            4         2.963185\n",
       "181937            4         3.179963\n",
       "181938            4         3.023264\n",
       "181939            4         3.330355\n",
       "181940            4         3.267726\n",
       "\n",
       "[181941 rows x 2 columns]"
      ]
     },
     "execution_count": 17,
     "metadata": {},
     "output_type": "execute_result"
    }
   ],
   "source": [
    "predicted_grade = pd.DataFrame()\n",
    "predicted_grade[\"actual_grade\"]= df.Assessment_reports_Score\n",
    "\n",
    "#calculate weighted average\n",
    "predicted_grade[\"predicted_grade\"] = 1* predicted_grade_prob[1]+ 2* predicted_grade_prob[2] + 3* predicted_grade_prob[3]+ 4* predicted_grade_prob[4] + 5* predicted_grade_prob[5]\n",
    "predicted_grade"
   ]
  },
  {
   "cell_type": "markdown",
   "metadata": {},
   "source": [
    "## Visualize final predicted grade"
   ]
  },
  {
   "cell_type": "code",
   "execution_count": null,
   "metadata": {},
   "outputs": [
    {
     "data": {
      "text/plain": [
       "Text(0.5, 1.0, 'Predicted Grade and error bar to actual grade')"
      ]
     },
     "execution_count": 18,
     "metadata": {},
     "output_type": "execute_result"
    },
    {
     "data": {
      "image/png": "[encoded data removed]",
      "text/plain": [
       "<Figure size 432x288 with 1 Axes>"
      ]
     },
     "metadata": {
      "needs_background": "light"
     },
     "output_type": "display_data"
    }
   ],
   "source": [
    "import numpy as np \n",
    "# Visualize the result\n",
    "mean_one = np.mean(predicted_grade.loc[predicted_grade['actual_grade'] == 1][\"predicted_grade\"])\n",
    "mean_two = np.mean(predicted_grade.loc[predicted_grade['actual_grade'] == 2][\"predicted_grade\"])\n",
    "mean_three = np.mean(predicted_grade.loc[predicted_grade['actual_grade'] == 3][\"predicted_grade\"])\n",
    "mean_four = np.mean(predicted_grade.loc[predicted_grade['actual_grade'] == 4][\"predicted_grade\"])\n",
    "mean_five = np.mean(predicted_grade.loc[predicted_grade['actual_grade'] == 5][\"predicted_grade\"])\n",
    "\n",
    "std_one = np.std(predicted_grade.loc[predicted_grade['actual_grade'] == 1][\"predicted_grade\"])\n",
    "std_two = np.std(predicted_grade.loc[predicted_grade['actual_grade'] == 2][\"predicted_grade\"])\n",
    "std_three = np.std(predicted_grade.loc[predicted_grade['actual_grade'] == 3][\"predicted_grade\"])\n",
    "std_four = np.std(predicted_grade.loc[predicted_grade['actual_grade'] == 4][\"predicted_grade\"])\n",
    "std_five = np.std(predicted_grade.loc[predicted_grade['actual_grade'] == 5][\"predicted_grade\"])\n",
    "\n",
    "x_pos = np.array([\"grade 1\",\"grade 2\", \"grade 3\",\"grade 4\",\"grade 5\"])\n",
    "CTEs = [mean_one, mean_two, mean_three, mean_four, mean_five]\n",
    "error = [std_one, std_two, std_three, std_four, std_five]\n",
    "\n",
    "error_plot = plt.errorbar(x_pos, CTEs,\n",
    "       yerr=error,\n",
    "       color='black',\n",
    "       capsize=10,\n",
    "       # labels = \"Predicted grade\",\n",
    "       linestyle = \"-\")\n",
    "plt.bar(x_pos, [1,2,3,4,5], color = \"skyblue\")\n",
    "plt.legend([\"predicted\", \"actual\"])\n",
    "plt.title(\"Predicted Grade and error bar to actual grade\")"
   ]
  },
  {
   "cell_type": "markdown",
   "metadata": {},
   "source": [
    "# Test different parameters"
   ]
  },
  {
   "cell_type": "code",
   "execution_count": null,
   "metadata": {},
   "outputs": [
    {
     "name": "stdout",
     "output_type": "stream",
     "text": [
      "Optimization terminated successfully.\n",
      "         Current function value: 1.004803\n",
      "         Iterations: 25\n",
      "         Function evaluations: 28\n",
      "         Gradient evaluations: 28\n"
     ]
    },
    {
     "data": {
      "text/html": [
       "<table class=\"simpletable\">\n",
       "<caption>OrderedModel Results</caption>\n",
       "<tr>\n",
       "  <th>Dep. Variable:</th>    <td>Assessment_reports_Score</td> <th>  Log-Likelihood:    </th> <td>-1.8281e+05</td>\n",
       "</tr>\n",
       "<tr>\n",
       "  <th>Model:</th>                  <td>OrderedModel</td>       <th>  AIC:               </th>  <td>3.656e+05</td> \n",
       "</tr>\n",
       "<tr>\n",
       "  <th>Method:</th>              <td>Maximum Likelihood</td>    <th>  BIC:               </th>  <td>3.657e+05</td> \n",
       "</tr>\n",
       "<tr>\n",
       "  <th>Date:</th>                 <td>Sun, 16 Oct 2022</td>     <th>                     </th>      <td> </td>     \n",
       "</tr>\n",
       "<tr>\n",
       "  <th>Time:</th>                     <td>10:08:15</td>         <th>                     </th>      <td> </td>     \n",
       "</tr>\n",
       "<tr>\n",
       "  <th>No. Observations:</th>          <td>181941</td>          <th>                     </th>      <td> </td>     \n",
       "</tr>\n",
       "<tr>\n",
       "  <th>Df Residuals:</th>              <td>181934</td>          <th>                     </th>      <td> </td>     \n",
       "</tr>\n",
       "<tr>\n",
       "  <th>Df Model:</th>                  <td>     7</td>          <th>                     </th>      <td> </td>     \n",
       "</tr>\n",
       "</table>\n",
       "<table class=\"simpletable\">\n",
       "<tr>\n",
       "                <td></td>                  <th>coef</th>     <th>std err</th>      <th>z</th>      <th>P>|z|</th>  <th>[0.025</th>    <th>0.975]</th>  \n",
       "</tr>\n",
       "<tr>\n",
       "  <th>flesch_reading_ease</th>          <td>    0.0115</td> <td>    0.000</td> <td>   37.116</td> <td> 0.000</td> <td>    0.011</td> <td>    0.012</td>\n",
       "</tr>\n",
       "<tr>\n",
       "  <th>flesch_kincaid_grade</th>         <td>    0.0842</td> <td>    0.001</td> <td>   74.671</td> <td> 0.000</td> <td>    0.082</td> <td>    0.086</td>\n",
       "</tr>\n",
       "<tr>\n",
       "  <th>dale_chall_readability_score</th> <td>    0.0279</td> <td>    0.002</td> <td>   17.140</td> <td> 0.000</td> <td>    0.025</td> <td>    0.031</td>\n",
       "</tr>\n",
       "<tr>\n",
       "  <th>1/2</th>                          <td>   -0.0511</td> <td>    0.043</td> <td>   -1.198</td> <td> 0.231</td> <td>   -0.135</td> <td>    0.032</td>\n",
       "</tr>\n",
       "<tr>\n",
       "  <th>2/3</th>                          <td>    0.2329</td> <td>    0.007</td> <td>   33.435</td> <td> 0.000</td> <td>    0.219</td> <td>    0.247</td>\n",
       "</tr>\n",
       "<tr>\n",
       "  <th>3/4</th>                          <td>    0.4380</td> <td>    0.003</td> <td>  160.784</td> <td> 0.000</td> <td>    0.433</td> <td>    0.443</td>\n",
       "</tr>\n",
       "<tr>\n",
       "  <th>4/5</th>                          <td>    0.8835</td> <td>    0.006</td> <td>  148.038</td> <td> 0.000</td> <td>    0.872</td> <td>    0.895</td>\n",
       "</tr>\n",
       "</table>"
      ],
      "text/plain": [
       "<class 'statsmodels.iolib.summary.Summary'>\n",
       "\"\"\"\n",
       "                                OrderedModel Results                                \n",
       "====================================================================================\n",
       "Dep. Variable:     Assessment_reports_Score   Log-Likelihood:            -1.8281e+05\n",
       "Model:                         OrderedModel   AIC:                         3.656e+05\n",
       "Method:                  Maximum Likelihood   BIC:                         3.657e+05\n",
       "Date:                      Sun, 16 Oct 2022                                         \n",
       "Time:                              10:08:15                                         \n",
       "No. Observations:                    181941                                         \n",
       "Df Residuals:                        181934                                         \n",
       "Df Model:                                 7                                         \n",
       "================================================================================================\n",
       "                                   coef    std err          z      P>|z|      [0.025      0.975]\n",
       "------------------------------------------------------------------------------------------------\n",
       "flesch_reading_ease              0.0115      0.000     37.116      0.000       0.011       0.012\n",
       "flesch_kincaid_grade             0.0842      0.001     74.671      0.000       0.082       0.086\n",
       "dale_chall_readability_score     0.0279      0.002     17.140      0.000       0.025       0.031\n",
       "1/2                             -0.0511      0.043     -1.198      0.231      -0.135       0.032\n",
       "2/3                              0.2329      0.007     33.435      0.000       0.219       0.247\n",
       "3/4                              0.4380      0.003    160.784      0.000       0.433       0.443\n",
       "4/5                              0.8835      0.006    148.038      0.000       0.872       0.895\n",
       "================================================================================================\n",
       "\"\"\""
      ]
     },
     "execution_count": 19,
     "metadata": {},
     "output_type": "execute_result"
    }
   ],
   "source": [
    "logit_mod = OrderedModel(df['Assessment_reports_Score'],\n",
    "                        df[['flesch_reading_ease', 'flesch_kincaid_grade', 'dale_chall_readability_score']],\n",
    "                        distr='probit') \n",
    "res_log = logit_mod.fit(method='bfgs')\n",
    "res_log.summary()                        "
   ]
  },
  {
   "cell_type": "code",
   "execution_count": null,
   "metadata": {},
   "outputs": [
    {
     "data": {
      "text/plain": [
       "0.0280914861734588"
      ]
     },
     "execution_count": 20,
     "metadata": {},
     "output_type": "execute_result"
    }
   ],
   "source": [
    "res_log.prsquared"
   ]
  },
  {
   "cell_type": "markdown",
   "metadata": {},
   "source": [
    "## Add Grammer as features"
   ]
  },
  {
   "cell_type": "code",
   "execution_count": 12,
   "metadata": {},
   "outputs": [],
   "source": [
    "#convert into a csv\n",
    "compression_opts = dict(method='zip',\n",
    "                        archive_name='readibility_process_data.csv')  \n",
    "df.to_csv('readibility_process_data.zip', index=False,\n",
    "          compression=compression_opts)  "
   ]
  },
  {
   "cell_type": "code",
   "execution_count": null,
   "metadata": {},
   "outputs": [
    {
     "ename": "NameError",
     "evalue": "name 'df' is not defined",
     "output_type": "error",
     "traceback": [
      "\u001b[0;31m---------------------------------------------------------------------------\u001b[0m",
      "\u001b[0;31mNameError\u001b[0m                                 Traceback (most recent call last)",
      "\u001b[0;32m/var/folders/0h/xyv81g2n7sj6zr0c9cw30gkc0000gn/T/ipykernel_13943/1396537375.py\u001b[0m in \u001b[0;36m<module>\u001b[0;34m\u001b[0m\n\u001b[0;32m----> 1\u001b[0;31m \u001b[0mdf\u001b[0m\u001b[0;34m\u001b[0m\u001b[0;34m\u001b[0m\u001b[0m\n\u001b[0m",
      "\u001b[0;31mNameError\u001b[0m: name 'df' is not defined"
     ]
    }
   ],
   "source": []
  },
  {
   "cell_type": "code",
   "execution_count": null,
   "metadata": {},
   "outputs": [],
   "source": []
  }
 ],
 "metadata": {
  "kernelspec": {
   "display_name": "Python 3.9.1 64-bit",
   "language": "python",
   "name": "python3"
  },
  "language_info": {
   "codemirror_mode": {
    "name": "ipython",
    "version": 3
   },
   "file_extension": ".py",
   "mimetype": "text/x-python",
   "name": "python",
   "nbconvert_exporter": "python",
   "pygments_lexer": "ipython3",
   "version": "3.9.1"
  },
  "orig_nbformat": 4,
  "vscode": {
   "interpreter": {
    "hash": "aee8b7b246df8f9039afb4144a1f6fd8d2ca17a180786b69acc140d282b71a49"
   }
  }
 },
 "nbformat": 4,
 "nbformat_minor": 2
}
